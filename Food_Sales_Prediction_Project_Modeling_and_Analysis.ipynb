{
  "nbformat": 4,
  "nbformat_minor": 0,
  "metadata": {
    "colab": {
      "name": "Food Sales Prediction Project - Modeling and Analysis.ipynb",
      "provenance": [],
      "collapsed_sections": [],
      "mount_file_id": "1eevgEuDpm4Dp3vpCgwgPDP7dZp4vozWo",
      "authorship_tag": "ABX9TyNzXi76B+y2TSB/VLrElwLd",
      "include_colab_link": true
    },
    "kernelspec": {
      "name": "python3",
      "display_name": "Python 3"
    },
    "language_info": {
      "name": "python"
    }
  },
  "cells": [
    {
      "cell_type": "markdown",
      "metadata": {
        "id": "view-in-github",
        "colab_type": "text"
      },
      "source": [
        "<a href=\"https://colab.research.google.com/github/davidwan08/sales-predictions/blob/main/Food_Sales_Prediction_Project_Modeling_and_Analysis.ipynb\" target=\"_parent\"><img src=\"https://colab.research.google.com/assets/colab-badge.svg\" alt=\"Open In Colab\"/></a>"
      ]
    },
    {
      "cell_type": "code",
      "source": [
        "# Project Name: Sales Prediction\n",
        "\n",
        "# Name: David Wan\n",
        "\n",
        "# Date: 04/27/2022"
      ],
      "metadata": {
        "id": "aG7wWpbcWs5x"
      },
      "execution_count": null,
      "outputs": []
    },
    {
      "cell_type": "markdown",
      "source": [
        "# **Project Overview**"
      ],
      "metadata": {
        "id": "xCN8I-jIO4Nn"
      }
    },
    {
      "cell_type": "markdown",
      "source": [
        "- For this sales prediction project, I will be performing modeling and data analysis on sales data to understand the properties of products and outlets that play crucial roles in sales predictions.\n",
        "- I will use visualizations of diagrams and models to make determinations from data on what will help us comprehend sales figures of certain items and boost overall sales based on types of products and outlets."
      ],
      "metadata": {
        "id": "fVOwEpjaO72w"
      }
    },
    {
      "cell_type": "markdown",
      "source": [
        "# **Library Imports**"
      ],
      "metadata": {
        "id": "tEHIiLwWW4aw"
      }
    },
    {
      "cell_type": "markdown",
      "source": [
        "- I will import a list of class objects from a wide array of libraries that will allow me to perform analysis."
      ],
      "metadata": {
        "id": "oft7piDpP3hX"
      }
    },
    {
      "cell_type": "code",
      "execution_count": null,
      "metadata": {
        "id": "S4Q_5Rwe3sFs"
      },
      "outputs": [],
      "source": [
        "# Import libraries and classes into Python.\n",
        "import pandas as pd\n",
        "import numpy as np\n",
        "import matplotlib.pyplot as plt\n",
        "import seaborn as sns\n",
        "from sklearn.preprocessing import StandardScaler, OneHotEncoder, OrdinalEncoder\n",
        "from sklearn.impute import SimpleImputer\n",
        "from sklearn.compose import make_column_transformer, make_column_selector\n",
        "from sklearn.pipeline import make_pipeline\n",
        "from sklearn.model_selection import train_test_split\n",
        "from sklearn import set_config\n",
        "set_config(display='diagram')\n",
        "from sklearn.linear_model import LinearRegression\n",
        "from sklearn.tree import DecisionTreeRegressor\n",
        "from sklearn.ensemble import BaggingRegressor, RandomForestRegressor\n",
        "from sklearn.metrics import r2_score, mean_absolute_error, mean_squared_error"
      ]
    },
    {
      "cell_type": "markdown",
      "source": [
        "# **Data Loading & Data Overview**"
      ],
      "metadata": {
        "id": "6ClvragvOLBZ"
      }
    },
    {
      "cell_type": "markdown",
      "source": [
        "- I will start by loading the dataset into Python from the file location."
      ],
      "metadata": {
        "id": "wpJ-wPP6QPTD"
      }
    },
    {
      "cell_type": "code",
      "source": [
        "# Let's mount the data from Google Drive.\n",
        "from google.colab import drive\n",
        "drive.mount('/content/drive')"
      ],
      "metadata": {
        "colab": {
          "base_uri": "https://localhost:8080/"
        },
        "id": "IgOWOeMAQOrn",
        "outputId": "595556c1-20ee-4f71-901d-2e3ba8d2380b"
      },
      "execution_count": null,
      "outputs": [
        {
          "output_type": "stream",
          "name": "stdout",
          "text": [
            "Drive already mounted at /content/drive; to attempt to forcibly remount, call drive.mount(\"/content/drive\", force_remount=True).\n"
          ]
        }
      ]
    },
    {
      "cell_type": "code",
      "source": [
        "# Imports the csv file into filename.\n",
        "filename = '/content/drive/MyDrive/Coding Dojo/Machine Learning/sales_predictions.csv'\n",
        "# Use pandas to upload the file as a dataframe.\n",
        "df = pd.read_csv(filename)\n",
        "# Reads the first 5 rows of data using head().\n",
        "df.head()"
      ],
      "metadata": {
        "id": "tJ0s9k1y4Z-u",
        "colab": {
          "base_uri": "https://localhost:8080/",
          "height": 357
        },
        "outputId": "37a154b5-8d0c-4955-9be6-6b39db09fe6c"
      },
      "execution_count": null,
      "outputs": [
        {
          "output_type": "execute_result",
          "data": {
            "text/plain": [
              "  Item_Identifier  Item_Weight Item_Fat_Content  Item_Visibility  \\\n",
              "0           FDA15         9.30          Low Fat         0.016047   \n",
              "1           DRC01         5.92          Regular         0.019278   \n",
              "2           FDN15        17.50          Low Fat         0.016760   \n",
              "3           FDX07        19.20          Regular         0.000000   \n",
              "4           NCD19         8.93          Low Fat         0.000000   \n",
              "\n",
              "               Item_Type  Item_MRP Outlet_Identifier  \\\n",
              "0                  Dairy  249.8092            OUT049   \n",
              "1            Soft Drinks   48.2692            OUT018   \n",
              "2                   Meat  141.6180            OUT049   \n",
              "3  Fruits and Vegetables  182.0950            OUT010   \n",
              "4              Household   53.8614            OUT013   \n",
              "\n",
              "   Outlet_Establishment_Year Outlet_Size Outlet_Location_Type  \\\n",
              "0                       1999      Medium               Tier 1   \n",
              "1                       2009      Medium               Tier 3   \n",
              "2                       1999      Medium               Tier 1   \n",
              "3                       1998         NaN               Tier 3   \n",
              "4                       1987        High               Tier 3   \n",
              "\n",
              "         Outlet_Type  Item_Outlet_Sales  \n",
              "0  Supermarket Type1          3735.1380  \n",
              "1  Supermarket Type2           443.4228  \n",
              "2  Supermarket Type1          2097.2700  \n",
              "3      Grocery Store           732.3800  \n",
              "4  Supermarket Type1           994.7052  "
            ],
            "text/html": [
              "\n",
              "  <div id=\"df-4b6bafaa-5d7a-4f54-850b-e31f02ea0bbd\">\n",
              "    <div class=\"colab-df-container\">\n",
              "      <div>\n",
              "<style scoped>\n",
              "    .dataframe tbody tr th:only-of-type {\n",
              "        vertical-align: middle;\n",
              "    }\n",
              "\n",
              "    .dataframe tbody tr th {\n",
              "        vertical-align: top;\n",
              "    }\n",
              "\n",
              "    .dataframe thead th {\n",
              "        text-align: right;\n",
              "    }\n",
              "</style>\n",
              "<table border=\"1\" class=\"dataframe\">\n",
              "  <thead>\n",
              "    <tr style=\"text-align: right;\">\n",
              "      <th></th>\n",
              "      <th>Item_Identifier</th>\n",
              "      <th>Item_Weight</th>\n",
              "      <th>Item_Fat_Content</th>\n",
              "      <th>Item_Visibility</th>\n",
              "      <th>Item_Type</th>\n",
              "      <th>Item_MRP</th>\n",
              "      <th>Outlet_Identifier</th>\n",
              "      <th>Outlet_Establishment_Year</th>\n",
              "      <th>Outlet_Size</th>\n",
              "      <th>Outlet_Location_Type</th>\n",
              "      <th>Outlet_Type</th>\n",
              "      <th>Item_Outlet_Sales</th>\n",
              "    </tr>\n",
              "  </thead>\n",
              "  <tbody>\n",
              "    <tr>\n",
              "      <th>0</th>\n",
              "      <td>FDA15</td>\n",
              "      <td>9.30</td>\n",
              "      <td>Low Fat</td>\n",
              "      <td>0.016047</td>\n",
              "      <td>Dairy</td>\n",
              "      <td>249.8092</td>\n",
              "      <td>OUT049</td>\n",
              "      <td>1999</td>\n",
              "      <td>Medium</td>\n",
              "      <td>Tier 1</td>\n",
              "      <td>Supermarket Type1</td>\n",
              "      <td>3735.1380</td>\n",
              "    </tr>\n",
              "    <tr>\n",
              "      <th>1</th>\n",
              "      <td>DRC01</td>\n",
              "      <td>5.92</td>\n",
              "      <td>Regular</td>\n",
              "      <td>0.019278</td>\n",
              "      <td>Soft Drinks</td>\n",
              "      <td>48.2692</td>\n",
              "      <td>OUT018</td>\n",
              "      <td>2009</td>\n",
              "      <td>Medium</td>\n",
              "      <td>Tier 3</td>\n",
              "      <td>Supermarket Type2</td>\n",
              "      <td>443.4228</td>\n",
              "    </tr>\n",
              "    <tr>\n",
              "      <th>2</th>\n",
              "      <td>FDN15</td>\n",
              "      <td>17.50</td>\n",
              "      <td>Low Fat</td>\n",
              "      <td>0.016760</td>\n",
              "      <td>Meat</td>\n",
              "      <td>141.6180</td>\n",
              "      <td>OUT049</td>\n",
              "      <td>1999</td>\n",
              "      <td>Medium</td>\n",
              "      <td>Tier 1</td>\n",
              "      <td>Supermarket Type1</td>\n",
              "      <td>2097.2700</td>\n",
              "    </tr>\n",
              "    <tr>\n",
              "      <th>3</th>\n",
              "      <td>FDX07</td>\n",
              "      <td>19.20</td>\n",
              "      <td>Regular</td>\n",
              "      <td>0.000000</td>\n",
              "      <td>Fruits and Vegetables</td>\n",
              "      <td>182.0950</td>\n",
              "      <td>OUT010</td>\n",
              "      <td>1998</td>\n",
              "      <td>NaN</td>\n",
              "      <td>Tier 3</td>\n",
              "      <td>Grocery Store</td>\n",
              "      <td>732.3800</td>\n",
              "    </tr>\n",
              "    <tr>\n",
              "      <th>4</th>\n",
              "      <td>NCD19</td>\n",
              "      <td>8.93</td>\n",
              "      <td>Low Fat</td>\n",
              "      <td>0.000000</td>\n",
              "      <td>Household</td>\n",
              "      <td>53.8614</td>\n",
              "      <td>OUT013</td>\n",
              "      <td>1987</td>\n",
              "      <td>High</td>\n",
              "      <td>Tier 3</td>\n",
              "      <td>Supermarket Type1</td>\n",
              "      <td>994.7052</td>\n",
              "    </tr>\n",
              "  </tbody>\n",
              "</table>\n",
              "</div>\n",
              "      <button class=\"colab-df-convert\" onclick=\"convertToInteractive('df-4b6bafaa-5d7a-4f54-850b-e31f02ea0bbd')\"\n",
              "              title=\"Convert this dataframe to an interactive table.\"\n",
              "              style=\"display:none;\">\n",
              "        \n",
              "  <svg xmlns=\"http://www.w3.org/2000/svg\" height=\"24px\"viewBox=\"0 0 24 24\"\n",
              "       width=\"24px\">\n",
              "    <path d=\"M0 0h24v24H0V0z\" fill=\"none\"/>\n",
              "    <path d=\"M18.56 5.44l.94 2.06.94-2.06 2.06-.94-2.06-.94-.94-2.06-.94 2.06-2.06.94zm-11 1L8.5 8.5l.94-2.06 2.06-.94-2.06-.94L8.5 2.5l-.94 2.06-2.06.94zm10 10l.94 2.06.94-2.06 2.06-.94-2.06-.94-.94-2.06-.94 2.06-2.06.94z\"/><path d=\"M17.41 7.96l-1.37-1.37c-.4-.4-.92-.59-1.43-.59-.52 0-1.04.2-1.43.59L10.3 9.45l-7.72 7.72c-.78.78-.78 2.05 0 2.83L4 21.41c.39.39.9.59 1.41.59.51 0 1.02-.2 1.41-.59l7.78-7.78 2.81-2.81c.8-.78.8-2.07 0-2.86zM5.41 20L4 18.59l7.72-7.72 1.47 1.35L5.41 20z\"/>\n",
              "  </svg>\n",
              "      </button>\n",
              "      \n",
              "  <style>\n",
              "    .colab-df-container {\n",
              "      display:flex;\n",
              "      flex-wrap:wrap;\n",
              "      gap: 12px;\n",
              "    }\n",
              "\n",
              "    .colab-df-convert {\n",
              "      background-color: #E8F0FE;\n",
              "      border: none;\n",
              "      border-radius: 50%;\n",
              "      cursor: pointer;\n",
              "      display: none;\n",
              "      fill: #1967D2;\n",
              "      height: 32px;\n",
              "      padding: 0 0 0 0;\n",
              "      width: 32px;\n",
              "    }\n",
              "\n",
              "    .colab-df-convert:hover {\n",
              "      background-color: #E2EBFA;\n",
              "      box-shadow: 0px 1px 2px rgba(60, 64, 67, 0.3), 0px 1px 3px 1px rgba(60, 64, 67, 0.15);\n",
              "      fill: #174EA6;\n",
              "    }\n",
              "\n",
              "    [theme=dark] .colab-df-convert {\n",
              "      background-color: #3B4455;\n",
              "      fill: #D2E3FC;\n",
              "    }\n",
              "\n",
              "    [theme=dark] .colab-df-convert:hover {\n",
              "      background-color: #434B5C;\n",
              "      box-shadow: 0px 1px 3px 1px rgba(0, 0, 0, 0.15);\n",
              "      filter: drop-shadow(0px 1px 2px rgba(0, 0, 0, 0.3));\n",
              "      fill: #FFFFFF;\n",
              "    }\n",
              "  </style>\n",
              "\n",
              "      <script>\n",
              "        const buttonEl =\n",
              "          document.querySelector('#df-4b6bafaa-5d7a-4f54-850b-e31f02ea0bbd button.colab-df-convert');\n",
              "        buttonEl.style.display =\n",
              "          google.colab.kernel.accessAllowed ? 'block' : 'none';\n",
              "\n",
              "        async function convertToInteractive(key) {\n",
              "          const element = document.querySelector('#df-4b6bafaa-5d7a-4f54-850b-e31f02ea0bbd');\n",
              "          const dataTable =\n",
              "            await google.colab.kernel.invokeFunction('convertToInteractive',\n",
              "                                                     [key], {});\n",
              "          if (!dataTable) return;\n",
              "\n",
              "          const docLinkHtml = 'Like what you see? Visit the ' +\n",
              "            '<a target=\"_blank\" href=https://colab.research.google.com/notebooks/data_table.ipynb>data table notebook</a>'\n",
              "            + ' to learn more about interactive tables.';\n",
              "          element.innerHTML = '';\n",
              "          dataTable['output_type'] = 'display_data';\n",
              "          await google.colab.output.renderOutput(dataTable, element);\n",
              "          const docLink = document.createElement('div');\n",
              "          docLink.innerHTML = docLinkHtml;\n",
              "          element.appendChild(docLink);\n",
              "        }\n",
              "      </script>\n",
              "    </div>\n",
              "  </div>\n",
              "  "
            ]
          },
          "metadata": {},
          "execution_count": 4
        }
      ]
    },
    {
      "cell_type": "markdown",
      "source": [
        "- Let's get an overview of the dataset."
      ],
      "metadata": {
        "id": "k75nyEXoRYwv"
      }
    },
    {
      "cell_type": "code",
      "source": [
        "# Summarizes the rows and columns of the dataset using the info code.\n",
        "df.info()"
      ],
      "metadata": {
        "colab": {
          "base_uri": "https://localhost:8080/"
        },
        "id": "TVzRhVLOaP7L",
        "outputId": "5b8953f3-d5f2-4f9d-9dbb-de97d4470380"
      },
      "execution_count": null,
      "outputs": [
        {
          "output_type": "stream",
          "name": "stdout",
          "text": [
            "<class 'pandas.core.frame.DataFrame'>\n",
            "RangeIndex: 8523 entries, 0 to 8522\n",
            "Data columns (total 12 columns):\n",
            " #   Column                     Non-Null Count  Dtype  \n",
            "---  ------                     --------------  -----  \n",
            " 0   Item_Identifier            8523 non-null   object \n",
            " 1   Item_Weight                7060 non-null   float64\n",
            " 2   Item_Fat_Content           8523 non-null   object \n",
            " 3   Item_Visibility            8523 non-null   float64\n",
            " 4   Item_Type                  8523 non-null   object \n",
            " 5   Item_MRP                   8523 non-null   float64\n",
            " 6   Outlet_Identifier          8523 non-null   object \n",
            " 7   Outlet_Establishment_Year  8523 non-null   int64  \n",
            " 8   Outlet_Size                6113 non-null   object \n",
            " 9   Outlet_Location_Type       8523 non-null   object \n",
            " 10  Outlet_Type                8523 non-null   object \n",
            " 11  Item_Outlet_Sales          8523 non-null   float64\n",
            "dtypes: float64(4), int64(1), object(7)\n",
            "memory usage: 799.2+ KB\n"
          ]
        }
      ]
    },
    {
      "cell_type": "markdown",
      "source": [
        "- There are a total of 8523 rows and 12 columns based on the results of the code.\n",
        "- Let's also check for any potential missing or duplicated values in the dataset."
      ],
      "metadata": {
        "id": "DLsgTSy1RfGP"
      }
    },
    {
      "cell_type": "code",
      "source": [
        "# Check for duplicate entries in the dataset.\n",
        "df.duplicated().sum()"
      ],
      "metadata": {
        "colab": {
          "base_uri": "https://localhost:8080/"
        },
        "id": "QASLh12GdN9u",
        "outputId": "d986d209-ad7e-4091-b150-1643fce669c0"
      },
      "execution_count": null,
      "outputs": [
        {
          "output_type": "execute_result",
          "data": {
            "text/plain": [
              "0"
            ]
          },
          "metadata": {},
          "execution_count": 6
        }
      ]
    },
    {
      "cell_type": "markdown",
      "source": [
        "- So far, no duplicate entries have been discovered.\n",
        "- In case there are duplicate entries, we can use the following code \"df.drop_duplicates(inPlace = True)\" to drop any duplicate entries from the dataset.\n",
        "- Looks like we have columns with missing values! Let's examine where our missing values are located at."
      ],
      "metadata": {
        "id": "CoiMKQvtR0xR"
      }
    },
    {
      "cell_type": "code",
      "source": [
        "# Checks for missing values in the dataset.\n",
        "df.isna().sum()"
      ],
      "metadata": {
        "colab": {
          "base_uri": "https://localhost:8080/"
        },
        "id": "0frGFmNRgNBs",
        "outputId": "21b90419-06e0-4545-a836-ded86b4b34ea"
      },
      "execution_count": null,
      "outputs": [
        {
          "output_type": "execute_result",
          "data": {
            "text/plain": [
              "Item_Identifier                 0\n",
              "Item_Weight                  1463\n",
              "Item_Fat_Content                0\n",
              "Item_Visibility                 0\n",
              "Item_Type                       0\n",
              "Item_MRP                        0\n",
              "Outlet_Identifier               0\n",
              "Outlet_Establishment_Year       0\n",
              "Outlet_Size                  2410\n",
              "Outlet_Location_Type            0\n",
              "Outlet_Type                     0\n",
              "Item_Outlet_Sales               0\n",
              "dtype: int64"
            ]
          },
          "metadata": {},
          "execution_count": 7
        }
      ]
    },
    {
      "cell_type": "markdown",
      "source": [
        "- So far, we see 1463 missing values in the Item_Weight column and 2410 missing values from the Outlet_Size column."
      ],
      "metadata": {
        "id": "HBKp8IQCSWgr"
      }
    },
    {
      "cell_type": "markdown",
      "source": [
        "# **Data Cleaning & Imputation for Visualization Preparation**"
      ],
      "metadata": {
        "id": "H4JRXa1nS8g6"
      }
    },
    {
      "cell_type": "markdown",
      "source": [
        "- For the purpose of data cleaning, I will be making a copy of the dataset named df_cleaning for cleaning purposes only."
      ],
      "metadata": {
        "id": "K-MzqILMTekz"
      }
    },
    {
      "cell_type": "code",
      "source": [
        "# Copies original DataFrame into the new modified DataFrame df_clean for further analysis.\n",
        "df_cleaning = df.copy(deep=True)\n",
        "df_cleaning.info()"
      ],
      "metadata": {
        "colab": {
          "base_uri": "https://localhost:8080/"
        },
        "id": "5Sy_pB20TylA",
        "outputId": "7e751a02-f5cb-4c1e-8932-3e3337258e1f"
      },
      "execution_count": null,
      "outputs": [
        {
          "output_type": "stream",
          "name": "stdout",
          "text": [
            "<class 'pandas.core.frame.DataFrame'>\n",
            "RangeIndex: 8523 entries, 0 to 8522\n",
            "Data columns (total 12 columns):\n",
            " #   Column                     Non-Null Count  Dtype  \n",
            "---  ------                     --------------  -----  \n",
            " 0   Item_Identifier            8523 non-null   object \n",
            " 1   Item_Weight                7060 non-null   float64\n",
            " 2   Item_Fat_Content           8523 non-null   object \n",
            " 3   Item_Visibility            8523 non-null   float64\n",
            " 4   Item_Type                  8523 non-null   object \n",
            " 5   Item_MRP                   8523 non-null   float64\n",
            " 6   Outlet_Identifier          8523 non-null   object \n",
            " 7   Outlet_Establishment_Year  8523 non-null   int64  \n",
            " 8   Outlet_Size                6113 non-null   object \n",
            " 9   Outlet_Location_Type       8523 non-null   object \n",
            " 10  Outlet_Type                8523 non-null   object \n",
            " 11  Item_Outlet_Sales          8523 non-null   float64\n",
            "dtypes: float64(4), int64(1), object(7)\n",
            "memory usage: 799.2+ KB\n"
          ]
        }
      ]
    },
    {
      "cell_type": "markdown",
      "source": [
        "- For item weight, I believe the best way to resolve this issue would be to take the average weights. That way, I would use them as the weight values.\n",
        "- However, I cannot assume that the average values work for all missing fields, as every item is different! Therefore, I will explore options for doing so.\n",
        "- Let's see what the item weight column averages are based on item type."
      ],
      "metadata": {
        "id": "GOy8a0Y5UN-U"
      }
    },
    {
      "cell_type": "code",
      "source": [
        "# Summarizes the item weight column averages based on item type grouping.\n",
        "df_cleaning.groupby(['Item_Type'])['Item_Weight'].mean()"
      ],
      "metadata": {
        "colab": {
          "base_uri": "https://localhost:8080/"
        },
        "id": "3SeijHONhqrF",
        "outputId": "7e0d58f2-912d-403d-eb91-e1b15aa5dff9"
      },
      "execution_count": null,
      "outputs": [
        {
          "output_type": "execute_result",
          "data": {
            "text/plain": [
              "Item_Type\n",
              "Baking Goods             12.277108\n",
              "Breads                   11.346936\n",
              "Breakfast                12.768202\n",
              "Canned                   12.305705\n",
              "Dairy                    13.426069\n",
              "Frozen Foods             12.867061\n",
              "Fruits and Vegetables    13.224769\n",
              "Hard Drinks              11.400328\n",
              "Health and Hygiene       13.142314\n",
              "Household                13.384736\n",
              "Meat                     12.817344\n",
              "Others                   13.853285\n",
              "Seafood                  12.552843\n",
              "Snack Foods              12.987880\n",
              "Soft Drinks              11.847460\n",
              "Starchy Foods            13.690731\n",
              "Name: Item_Weight, dtype: float64"
            ]
          },
          "metadata": {},
          "execution_count": 9
        }
      ]
    },
    {
      "cell_type": "markdown",
      "source": [
        "- It definitely looks like the differences are pretty subtle or insignificant among the item types.\n",
        "- Therefore, I believe it should be safe to replace missing weights with the average value.\n",
        "- That should eliminate the missing value issues associated with item weights."
      ],
      "metadata": {
        "id": "XIp9Bb8DVDa2"
      }
    },
    {
      "cell_type": "code",
      "source": [
        "# Obtain the mean weight value for the Item_Weight column.\n",
        "weight_mean = df_cleaning['Item_Weight'].mean()\n",
        "\n",
        "# Fills the missing values with the mean item weight value.\n",
        "df_cleaning['Item_Weight'].fillna(weight_mean, inplace=True)"
      ],
      "metadata": {
        "id": "NHAwGxwilW2Z"
      },
      "execution_count": null,
      "outputs": []
    },
    {
      "cell_type": "code",
      "source": [
        "# Checks for any further missing values in the dataset.\n",
        "df_cleaning.isna().sum()"
      ],
      "metadata": {
        "colab": {
          "base_uri": "https://localhost:8080/"
        },
        "id": "Fk6tQh7-VgQ4",
        "outputId": "f1583fbe-97ce-48ef-dc38-9520b7c65181"
      },
      "execution_count": null,
      "outputs": [
        {
          "output_type": "execute_result",
          "data": {
            "text/plain": [
              "Item_Identifier                 0\n",
              "Item_Weight                     0\n",
              "Item_Fat_Content                0\n",
              "Item_Visibility                 0\n",
              "Item_Type                       0\n",
              "Item_MRP                        0\n",
              "Outlet_Identifier               0\n",
              "Outlet_Establishment_Year       0\n",
              "Outlet_Size                  2410\n",
              "Outlet_Location_Type            0\n",
              "Outlet_Type                     0\n",
              "Item_Outlet_Sales               0\n",
              "dtype: int64"
            ]
          },
          "metadata": {},
          "execution_count": 11
        }
      ]
    },
    {
      "cell_type": "markdown",
      "source": [
        "- For the outlet size, let's examine the value counts involved with it."
      ],
      "metadata": {
        "id": "mNWWiNTRBYvC"
      }
    },
    {
      "cell_type": "code",
      "source": [
        "# Check the values of the Outlet_Size column.\n",
        "df_cleaning['Outlet_Size'].value_counts()"
      ],
      "metadata": {
        "colab": {
          "base_uri": "https://localhost:8080/"
        },
        "id": "GXflD7yAutKz",
        "outputId": "de99bd71-b25c-40fe-ec3b-6bde58f5af0d"
      },
      "execution_count": null,
      "outputs": [
        {
          "output_type": "execute_result",
          "data": {
            "text/plain": [
              "Medium    2793\n",
              "Small     2388\n",
              "High       932\n",
              "Name: Outlet_Size, dtype: int64"
            ]
          },
          "metadata": {},
          "execution_count": 12
        }
      ]
    },
    {
      "cell_type": "markdown",
      "source": [
        "- As an idea, let's see how the other columns can correlate to outlet sizes."
      ],
      "metadata": {
        "id": "lisxxiuQBhD5"
      }
    },
    {
      "cell_type": "code",
      "source": [
        "# Attempting to examine how other columns can correlate to outlet sizes.\n",
        "print(df_cleaning['Outlet_Location_Type'].unique())\n",
        "print(df_cleaning['Outlet_Type'].unique())\n",
        "print(df_cleaning['Outlet_Identifier'].unique())"
      ],
      "metadata": {
        "colab": {
          "base_uri": "https://localhost:8080/"
        },
        "id": "wNoals3DveH_",
        "outputId": "274ae9ea-93da-49b8-cfc6-2b34452eb3fd"
      },
      "execution_count": null,
      "outputs": [
        {
          "output_type": "stream",
          "name": "stdout",
          "text": [
            "['Tier 1' 'Tier 3' 'Tier 2']\n",
            "['Supermarket Type1' 'Supermarket Type2' 'Grocery Store'\n",
            " 'Supermarket Type3']\n",
            "['OUT049' 'OUT018' 'OUT010' 'OUT013' 'OUT027' 'OUT045' 'OUT017' 'OUT046'\n",
            " 'OUT035' 'OUT019']\n"
          ]
        }
      ]
    },
    {
      "cell_type": "markdown",
      "source": [
        "- I don't think there is any way I would be able to infer outlet size based on this data.\n",
        "- Additionally, I do not believe that outlet size by itself has significance in overall sales.\n",
        "- What does small, medium, and high really represent?\n",
        "- I believe that the Outlet_Type provides a much better indicator that Outlet_Size, despite the vagueness of type.\n",
        "- Therefore, dropping the Outlet_Type column would be a better idea to make more relevant predictions."
      ],
      "metadata": {
        "id": "5fFWgJvtBnjB"
      }
    },
    {
      "cell_type": "code",
      "source": [
        "# Let's drop the Outlet_Size column from the dataset.\n",
        "df_cleaning = df_cleaning.drop(columns = ['Outlet_Size'])\n",
        "df_cleaning.head()"
      ],
      "metadata": {
        "colab": {
          "base_uri": "https://localhost:8080/",
          "height": 357
        },
        "id": "2mysTiwavU6V",
        "outputId": "9cf887d0-bfbf-46f4-83b0-f0dfe6ccd5e0"
      },
      "execution_count": null,
      "outputs": [
        {
          "output_type": "execute_result",
          "data": {
            "text/plain": [
              "  Item_Identifier  Item_Weight Item_Fat_Content  Item_Visibility  \\\n",
              "0           FDA15         9.30          Low Fat         0.016047   \n",
              "1           DRC01         5.92          Regular         0.019278   \n",
              "2           FDN15        17.50          Low Fat         0.016760   \n",
              "3           FDX07        19.20          Regular         0.000000   \n",
              "4           NCD19         8.93          Low Fat         0.000000   \n",
              "\n",
              "               Item_Type  Item_MRP Outlet_Identifier  \\\n",
              "0                  Dairy  249.8092            OUT049   \n",
              "1            Soft Drinks   48.2692            OUT018   \n",
              "2                   Meat  141.6180            OUT049   \n",
              "3  Fruits and Vegetables  182.0950            OUT010   \n",
              "4              Household   53.8614            OUT013   \n",
              "\n",
              "   Outlet_Establishment_Year Outlet_Location_Type        Outlet_Type  \\\n",
              "0                       1999               Tier 1  Supermarket Type1   \n",
              "1                       2009               Tier 3  Supermarket Type2   \n",
              "2                       1999               Tier 1  Supermarket Type1   \n",
              "3                       1998               Tier 3      Grocery Store   \n",
              "4                       1987               Tier 3  Supermarket Type1   \n",
              "\n",
              "   Item_Outlet_Sales  \n",
              "0          3735.1380  \n",
              "1           443.4228  \n",
              "2          2097.2700  \n",
              "3           732.3800  \n",
              "4           994.7052  "
            ],
            "text/html": [
              "\n",
              "  <div id=\"df-b4cc14ca-ed9a-4e33-943d-896c64d6972f\">\n",
              "    <div class=\"colab-df-container\">\n",
              "      <div>\n",
              "<style scoped>\n",
              "    .dataframe tbody tr th:only-of-type {\n",
              "        vertical-align: middle;\n",
              "    }\n",
              "\n",
              "    .dataframe tbody tr th {\n",
              "        vertical-align: top;\n",
              "    }\n",
              "\n",
              "    .dataframe thead th {\n",
              "        text-align: right;\n",
              "    }\n",
              "</style>\n",
              "<table border=\"1\" class=\"dataframe\">\n",
              "  <thead>\n",
              "    <tr style=\"text-align: right;\">\n",
              "      <th></th>\n",
              "      <th>Item_Identifier</th>\n",
              "      <th>Item_Weight</th>\n",
              "      <th>Item_Fat_Content</th>\n",
              "      <th>Item_Visibility</th>\n",
              "      <th>Item_Type</th>\n",
              "      <th>Item_MRP</th>\n",
              "      <th>Outlet_Identifier</th>\n",
              "      <th>Outlet_Establishment_Year</th>\n",
              "      <th>Outlet_Location_Type</th>\n",
              "      <th>Outlet_Type</th>\n",
              "      <th>Item_Outlet_Sales</th>\n",
              "    </tr>\n",
              "  </thead>\n",
              "  <tbody>\n",
              "    <tr>\n",
              "      <th>0</th>\n",
              "      <td>FDA15</td>\n",
              "      <td>9.30</td>\n",
              "      <td>Low Fat</td>\n",
              "      <td>0.016047</td>\n",
              "      <td>Dairy</td>\n",
              "      <td>249.8092</td>\n",
              "      <td>OUT049</td>\n",
              "      <td>1999</td>\n",
              "      <td>Tier 1</td>\n",
              "      <td>Supermarket Type1</td>\n",
              "      <td>3735.1380</td>\n",
              "    </tr>\n",
              "    <tr>\n",
              "      <th>1</th>\n",
              "      <td>DRC01</td>\n",
              "      <td>5.92</td>\n",
              "      <td>Regular</td>\n",
              "      <td>0.019278</td>\n",
              "      <td>Soft Drinks</td>\n",
              "      <td>48.2692</td>\n",
              "      <td>OUT018</td>\n",
              "      <td>2009</td>\n",
              "      <td>Tier 3</td>\n",
              "      <td>Supermarket Type2</td>\n",
              "      <td>443.4228</td>\n",
              "    </tr>\n",
              "    <tr>\n",
              "      <th>2</th>\n",
              "      <td>FDN15</td>\n",
              "      <td>17.50</td>\n",
              "      <td>Low Fat</td>\n",
              "      <td>0.016760</td>\n",
              "      <td>Meat</td>\n",
              "      <td>141.6180</td>\n",
              "      <td>OUT049</td>\n",
              "      <td>1999</td>\n",
              "      <td>Tier 1</td>\n",
              "      <td>Supermarket Type1</td>\n",
              "      <td>2097.2700</td>\n",
              "    </tr>\n",
              "    <tr>\n",
              "      <th>3</th>\n",
              "      <td>FDX07</td>\n",
              "      <td>19.20</td>\n",
              "      <td>Regular</td>\n",
              "      <td>0.000000</td>\n",
              "      <td>Fruits and Vegetables</td>\n",
              "      <td>182.0950</td>\n",
              "      <td>OUT010</td>\n",
              "      <td>1998</td>\n",
              "      <td>Tier 3</td>\n",
              "      <td>Grocery Store</td>\n",
              "      <td>732.3800</td>\n",
              "    </tr>\n",
              "    <tr>\n",
              "      <th>4</th>\n",
              "      <td>NCD19</td>\n",
              "      <td>8.93</td>\n",
              "      <td>Low Fat</td>\n",
              "      <td>0.000000</td>\n",
              "      <td>Household</td>\n",
              "      <td>53.8614</td>\n",
              "      <td>OUT013</td>\n",
              "      <td>1987</td>\n",
              "      <td>Tier 3</td>\n",
              "      <td>Supermarket Type1</td>\n",
              "      <td>994.7052</td>\n",
              "    </tr>\n",
              "  </tbody>\n",
              "</table>\n",
              "</div>\n",
              "      <button class=\"colab-df-convert\" onclick=\"convertToInteractive('df-b4cc14ca-ed9a-4e33-943d-896c64d6972f')\"\n",
              "              title=\"Convert this dataframe to an interactive table.\"\n",
              "              style=\"display:none;\">\n",
              "        \n",
              "  <svg xmlns=\"http://www.w3.org/2000/svg\" height=\"24px\"viewBox=\"0 0 24 24\"\n",
              "       width=\"24px\">\n",
              "    <path d=\"M0 0h24v24H0V0z\" fill=\"none\"/>\n",
              "    <path d=\"M18.56 5.44l.94 2.06.94-2.06 2.06-.94-2.06-.94-.94-2.06-.94 2.06-2.06.94zm-11 1L8.5 8.5l.94-2.06 2.06-.94-2.06-.94L8.5 2.5l-.94 2.06-2.06.94zm10 10l.94 2.06.94-2.06 2.06-.94-2.06-.94-.94-2.06-.94 2.06-2.06.94z\"/><path d=\"M17.41 7.96l-1.37-1.37c-.4-.4-.92-.59-1.43-.59-.52 0-1.04.2-1.43.59L10.3 9.45l-7.72 7.72c-.78.78-.78 2.05 0 2.83L4 21.41c.39.39.9.59 1.41.59.51 0 1.02-.2 1.41-.59l7.78-7.78 2.81-2.81c.8-.78.8-2.07 0-2.86zM5.41 20L4 18.59l7.72-7.72 1.47 1.35L5.41 20z\"/>\n",
              "  </svg>\n",
              "      </button>\n",
              "      \n",
              "  <style>\n",
              "    .colab-df-container {\n",
              "      display:flex;\n",
              "      flex-wrap:wrap;\n",
              "      gap: 12px;\n",
              "    }\n",
              "\n",
              "    .colab-df-convert {\n",
              "      background-color: #E8F0FE;\n",
              "      border: none;\n",
              "      border-radius: 50%;\n",
              "      cursor: pointer;\n",
              "      display: none;\n",
              "      fill: #1967D2;\n",
              "      height: 32px;\n",
              "      padding: 0 0 0 0;\n",
              "      width: 32px;\n",
              "    }\n",
              "\n",
              "    .colab-df-convert:hover {\n",
              "      background-color: #E2EBFA;\n",
              "      box-shadow: 0px 1px 2px rgba(60, 64, 67, 0.3), 0px 1px 3px 1px rgba(60, 64, 67, 0.15);\n",
              "      fill: #174EA6;\n",
              "    }\n",
              "\n",
              "    [theme=dark] .colab-df-convert {\n",
              "      background-color: #3B4455;\n",
              "      fill: #D2E3FC;\n",
              "    }\n",
              "\n",
              "    [theme=dark] .colab-df-convert:hover {\n",
              "      background-color: #434B5C;\n",
              "      box-shadow: 0px 1px 3px 1px rgba(0, 0, 0, 0.15);\n",
              "      filter: drop-shadow(0px 1px 2px rgba(0, 0, 0, 0.3));\n",
              "      fill: #FFFFFF;\n",
              "    }\n",
              "  </style>\n",
              "\n",
              "      <script>\n",
              "        const buttonEl =\n",
              "          document.querySelector('#df-b4cc14ca-ed9a-4e33-943d-896c64d6972f button.colab-df-convert');\n",
              "        buttonEl.style.display =\n",
              "          google.colab.kernel.accessAllowed ? 'block' : 'none';\n",
              "\n",
              "        async function convertToInteractive(key) {\n",
              "          const element = document.querySelector('#df-b4cc14ca-ed9a-4e33-943d-896c64d6972f');\n",
              "          const dataTable =\n",
              "            await google.colab.kernel.invokeFunction('convertToInteractive',\n",
              "                                                     [key], {});\n",
              "          if (!dataTable) return;\n",
              "\n",
              "          const docLinkHtml = 'Like what you see? Visit the ' +\n",
              "            '<a target=\"_blank\" href=https://colab.research.google.com/notebooks/data_table.ipynb>data table notebook</a>'\n",
              "            + ' to learn more about interactive tables.';\n",
              "          element.innerHTML = '';\n",
              "          dataTable['output_type'] = 'display_data';\n",
              "          await google.colab.output.renderOutput(dataTable, element);\n",
              "          const docLink = document.createElement('div');\n",
              "          docLink.innerHTML = docLinkHtml;\n",
              "          element.appendChild(docLink);\n",
              "        }\n",
              "      </script>\n",
              "    </div>\n",
              "  </div>\n",
              "  "
            ]
          },
          "metadata": {},
          "execution_count": 14
        }
      ]
    },
    {
      "cell_type": "markdown",
      "source": [
        "- We have updated the dataset as a result of dropping the column.\n",
        "- Let's confirm that there are no more missing values left to address."
      ],
      "metadata": {
        "id": "zvz0N4r_B1G1"
      }
    },
    {
      "cell_type": "code",
      "source": [
        "# Checks the dataframe for any further missing values.\n",
        "df_cleaning.isna().sum()"
      ],
      "metadata": {
        "colab": {
          "base_uri": "https://localhost:8080/"
        },
        "id": "bsHaj0Wh0_SN",
        "outputId": "3aeca517-2cbf-4c2a-de2a-957e2f665b8a"
      },
      "execution_count": null,
      "outputs": [
        {
          "output_type": "execute_result",
          "data": {
            "text/plain": [
              "Item_Identifier              0\n",
              "Item_Weight                  0\n",
              "Item_Fat_Content             0\n",
              "Item_Visibility              0\n",
              "Item_Type                    0\n",
              "Item_MRP                     0\n",
              "Outlet_Identifier            0\n",
              "Outlet_Establishment_Year    0\n",
              "Outlet_Location_Type         0\n",
              "Outlet_Type                  0\n",
              "Item_Outlet_Sales            0\n",
              "dtype: int64"
            ]
          },
          "metadata": {},
          "execution_count": 15
        }
      ]
    },
    {
      "cell_type": "markdown",
      "source": [
        "- No more missing values in the dataset!\n",
        "- Let's check each categorical column to see what values are in each one.\n",
        "- First, lets store the datatypes as data_types."
      ],
      "metadata": {
        "id": "orwQm4stCtSV"
      }
    },
    {
      "cell_type": "code",
      "source": [
        "# Store the datatypes of the dataset.\n",
        "data_types = df_cleaning.dtypes\n",
        "data_types"
      ],
      "metadata": {
        "colab": {
          "base_uri": "https://localhost:8080/"
        },
        "id": "NMeftc4L21rw",
        "outputId": "61bc7806-63a6-422d-fbc9-0146e14c1bd3"
      },
      "execution_count": null,
      "outputs": [
        {
          "output_type": "execute_result",
          "data": {
            "text/plain": [
              "Item_Identifier               object\n",
              "Item_Weight                  float64\n",
              "Item_Fat_Content              object\n",
              "Item_Visibility              float64\n",
              "Item_Type                     object\n",
              "Item_MRP                     float64\n",
              "Outlet_Identifier             object\n",
              "Outlet_Establishment_Year      int64\n",
              "Outlet_Location_Type          object\n",
              "Outlet_Type                   object\n",
              "Item_Outlet_Sales            float64\n",
              "dtype: object"
            ]
          },
          "metadata": {},
          "execution_count": 16
        }
      ]
    },
    {
      "cell_type": "markdown",
      "source": [
        "- Next, lets store all column types of type 'object' into str_cols."
      ],
      "metadata": {
        "id": "Cn_fMHz7C3WJ"
      }
    },
    {
      "cell_type": "code",
      "source": [
        "# Store all columns that have datatype as object.\n",
        "str_cols = data_types[data_types==\"object\"]\n",
        "str_cols"
      ],
      "metadata": {
        "colab": {
          "base_uri": "https://localhost:8080/"
        },
        "id": "XVcJJfoM4WVB",
        "outputId": "3211ca44-42ab-465d-ba6a-646acc61e471"
      },
      "execution_count": null,
      "outputs": [
        {
          "output_type": "execute_result",
          "data": {
            "text/plain": [
              "Item_Identifier         object\n",
              "Item_Fat_Content        object\n",
              "Item_Type               object\n",
              "Outlet_Identifier       object\n",
              "Outlet_Location_Type    object\n",
              "Outlet_Type             object\n",
              "dtype: object"
            ]
          },
          "metadata": {},
          "execution_count": 17
        }
      ]
    },
    {
      "cell_type": "markdown",
      "source": [
        "- Let's get an index of values in the object columns, then view those columns as a result."
      ],
      "metadata": {
        "id": "a3yeL4SDDJr9"
      }
    },
    {
      "cell_type": "code",
      "source": [
        "# Obtain the str_cols index.\n",
        "str_cols.index"
      ],
      "metadata": {
        "colab": {
          "base_uri": "https://localhost:8080/"
        },
        "id": "MCvy0Mzi4nWM",
        "outputId": "68694d4e-7aee-41bf-d648-b75715a7eebc"
      },
      "execution_count": null,
      "outputs": [
        {
          "output_type": "execute_result",
          "data": {
            "text/plain": [
              "Index(['Item_Identifier', 'Item_Fat_Content', 'Item_Type', 'Outlet_Identifier',\n",
              "       'Outlet_Location_Type', 'Outlet_Type'],\n",
              "      dtype='object')"
            ]
          },
          "metadata": {},
          "execution_count": 18
        }
      ]
    },
    {
      "cell_type": "code",
      "source": [
        "# View only columns with object Data Type.\n",
        "df_cleaning[str_cols.index]"
      ],
      "metadata": {
        "colab": {
          "base_uri": "https://localhost:8080/",
          "height": 424
        },
        "id": "KkVa2VPs4qzw",
        "outputId": "c9ee8c19-0976-4de9-ecaf-23a6a4979cf0"
      },
      "execution_count": null,
      "outputs": [
        {
          "output_type": "execute_result",
          "data": {
            "text/plain": [
              "     Item_Identifier Item_Fat_Content              Item_Type  \\\n",
              "0              FDA15          Low Fat                  Dairy   \n",
              "1              DRC01          Regular            Soft Drinks   \n",
              "2              FDN15          Low Fat                   Meat   \n",
              "3              FDX07          Regular  Fruits and Vegetables   \n",
              "4              NCD19          Low Fat              Household   \n",
              "...              ...              ...                    ...   \n",
              "8518           FDF22          Low Fat            Snack Foods   \n",
              "8519           FDS36          Regular           Baking Goods   \n",
              "8520           NCJ29          Low Fat     Health and Hygiene   \n",
              "8521           FDN46          Regular            Snack Foods   \n",
              "8522           DRG01          Low Fat            Soft Drinks   \n",
              "\n",
              "     Outlet_Identifier Outlet_Location_Type        Outlet_Type  \n",
              "0               OUT049               Tier 1  Supermarket Type1  \n",
              "1               OUT018               Tier 3  Supermarket Type2  \n",
              "2               OUT049               Tier 1  Supermarket Type1  \n",
              "3               OUT010               Tier 3      Grocery Store  \n",
              "4               OUT013               Tier 3  Supermarket Type1  \n",
              "...                ...                  ...                ...  \n",
              "8518            OUT013               Tier 3  Supermarket Type1  \n",
              "8519            OUT045               Tier 2  Supermarket Type1  \n",
              "8520            OUT035               Tier 2  Supermarket Type1  \n",
              "8521            OUT018               Tier 3  Supermarket Type2  \n",
              "8522            OUT046               Tier 1  Supermarket Type1  \n",
              "\n",
              "[8523 rows x 6 columns]"
            ],
            "text/html": [
              "\n",
              "  <div id=\"df-c599f372-c487-4774-bc5c-53ce40ace8b9\">\n",
              "    <div class=\"colab-df-container\">\n",
              "      <div>\n",
              "<style scoped>\n",
              "    .dataframe tbody tr th:only-of-type {\n",
              "        vertical-align: middle;\n",
              "    }\n",
              "\n",
              "    .dataframe tbody tr th {\n",
              "        vertical-align: top;\n",
              "    }\n",
              "\n",
              "    .dataframe thead th {\n",
              "        text-align: right;\n",
              "    }\n",
              "</style>\n",
              "<table border=\"1\" class=\"dataframe\">\n",
              "  <thead>\n",
              "    <tr style=\"text-align: right;\">\n",
              "      <th></th>\n",
              "      <th>Item_Identifier</th>\n",
              "      <th>Item_Fat_Content</th>\n",
              "      <th>Item_Type</th>\n",
              "      <th>Outlet_Identifier</th>\n",
              "      <th>Outlet_Location_Type</th>\n",
              "      <th>Outlet_Type</th>\n",
              "    </tr>\n",
              "  </thead>\n",
              "  <tbody>\n",
              "    <tr>\n",
              "      <th>0</th>\n",
              "      <td>FDA15</td>\n",
              "      <td>Low Fat</td>\n",
              "      <td>Dairy</td>\n",
              "      <td>OUT049</td>\n",
              "      <td>Tier 1</td>\n",
              "      <td>Supermarket Type1</td>\n",
              "    </tr>\n",
              "    <tr>\n",
              "      <th>1</th>\n",
              "      <td>DRC01</td>\n",
              "      <td>Regular</td>\n",
              "      <td>Soft Drinks</td>\n",
              "      <td>OUT018</td>\n",
              "      <td>Tier 3</td>\n",
              "      <td>Supermarket Type2</td>\n",
              "    </tr>\n",
              "    <tr>\n",
              "      <th>2</th>\n",
              "      <td>FDN15</td>\n",
              "      <td>Low Fat</td>\n",
              "      <td>Meat</td>\n",
              "      <td>OUT049</td>\n",
              "      <td>Tier 1</td>\n",
              "      <td>Supermarket Type1</td>\n",
              "    </tr>\n",
              "    <tr>\n",
              "      <th>3</th>\n",
              "      <td>FDX07</td>\n",
              "      <td>Regular</td>\n",
              "      <td>Fruits and Vegetables</td>\n",
              "      <td>OUT010</td>\n",
              "      <td>Tier 3</td>\n",
              "      <td>Grocery Store</td>\n",
              "    </tr>\n",
              "    <tr>\n",
              "      <th>4</th>\n",
              "      <td>NCD19</td>\n",
              "      <td>Low Fat</td>\n",
              "      <td>Household</td>\n",
              "      <td>OUT013</td>\n",
              "      <td>Tier 3</td>\n",
              "      <td>Supermarket Type1</td>\n",
              "    </tr>\n",
              "    <tr>\n",
              "      <th>...</th>\n",
              "      <td>...</td>\n",
              "      <td>...</td>\n",
              "      <td>...</td>\n",
              "      <td>...</td>\n",
              "      <td>...</td>\n",
              "      <td>...</td>\n",
              "    </tr>\n",
              "    <tr>\n",
              "      <th>8518</th>\n",
              "      <td>FDF22</td>\n",
              "      <td>Low Fat</td>\n",
              "      <td>Snack Foods</td>\n",
              "      <td>OUT013</td>\n",
              "      <td>Tier 3</td>\n",
              "      <td>Supermarket Type1</td>\n",
              "    </tr>\n",
              "    <tr>\n",
              "      <th>8519</th>\n",
              "      <td>FDS36</td>\n",
              "      <td>Regular</td>\n",
              "      <td>Baking Goods</td>\n",
              "      <td>OUT045</td>\n",
              "      <td>Tier 2</td>\n",
              "      <td>Supermarket Type1</td>\n",
              "    </tr>\n",
              "    <tr>\n",
              "      <th>8520</th>\n",
              "      <td>NCJ29</td>\n",
              "      <td>Low Fat</td>\n",
              "      <td>Health and Hygiene</td>\n",
              "      <td>OUT035</td>\n",
              "      <td>Tier 2</td>\n",
              "      <td>Supermarket Type1</td>\n",
              "    </tr>\n",
              "    <tr>\n",
              "      <th>8521</th>\n",
              "      <td>FDN46</td>\n",
              "      <td>Regular</td>\n",
              "      <td>Snack Foods</td>\n",
              "      <td>OUT018</td>\n",
              "      <td>Tier 3</td>\n",
              "      <td>Supermarket Type2</td>\n",
              "    </tr>\n",
              "    <tr>\n",
              "      <th>8522</th>\n",
              "      <td>DRG01</td>\n",
              "      <td>Low Fat</td>\n",
              "      <td>Soft Drinks</td>\n",
              "      <td>OUT046</td>\n",
              "      <td>Tier 1</td>\n",
              "      <td>Supermarket Type1</td>\n",
              "    </tr>\n",
              "  </tbody>\n",
              "</table>\n",
              "<p>8523 rows × 6 columns</p>\n",
              "</div>\n",
              "      <button class=\"colab-df-convert\" onclick=\"convertToInteractive('df-c599f372-c487-4774-bc5c-53ce40ace8b9')\"\n",
              "              title=\"Convert this dataframe to an interactive table.\"\n",
              "              style=\"display:none;\">\n",
              "        \n",
              "  <svg xmlns=\"http://www.w3.org/2000/svg\" height=\"24px\"viewBox=\"0 0 24 24\"\n",
              "       width=\"24px\">\n",
              "    <path d=\"M0 0h24v24H0V0z\" fill=\"none\"/>\n",
              "    <path d=\"M18.56 5.44l.94 2.06.94-2.06 2.06-.94-2.06-.94-.94-2.06-.94 2.06-2.06.94zm-11 1L8.5 8.5l.94-2.06 2.06-.94-2.06-.94L8.5 2.5l-.94 2.06-2.06.94zm10 10l.94 2.06.94-2.06 2.06-.94-2.06-.94-.94-2.06-.94 2.06-2.06.94z\"/><path d=\"M17.41 7.96l-1.37-1.37c-.4-.4-.92-.59-1.43-.59-.52 0-1.04.2-1.43.59L10.3 9.45l-7.72 7.72c-.78.78-.78 2.05 0 2.83L4 21.41c.39.39.9.59 1.41.59.51 0 1.02-.2 1.41-.59l7.78-7.78 2.81-2.81c.8-.78.8-2.07 0-2.86zM5.41 20L4 18.59l7.72-7.72 1.47 1.35L5.41 20z\"/>\n",
              "  </svg>\n",
              "      </button>\n",
              "      \n",
              "  <style>\n",
              "    .colab-df-container {\n",
              "      display:flex;\n",
              "      flex-wrap:wrap;\n",
              "      gap: 12px;\n",
              "    }\n",
              "\n",
              "    .colab-df-convert {\n",
              "      background-color: #E8F0FE;\n",
              "      border: none;\n",
              "      border-radius: 50%;\n",
              "      cursor: pointer;\n",
              "      display: none;\n",
              "      fill: #1967D2;\n",
              "      height: 32px;\n",
              "      padding: 0 0 0 0;\n",
              "      width: 32px;\n",
              "    }\n",
              "\n",
              "    .colab-df-convert:hover {\n",
              "      background-color: #E2EBFA;\n",
              "      box-shadow: 0px 1px 2px rgba(60, 64, 67, 0.3), 0px 1px 3px 1px rgba(60, 64, 67, 0.15);\n",
              "      fill: #174EA6;\n",
              "    }\n",
              "\n",
              "    [theme=dark] .colab-df-convert {\n",
              "      background-color: #3B4455;\n",
              "      fill: #D2E3FC;\n",
              "    }\n",
              "\n",
              "    [theme=dark] .colab-df-convert:hover {\n",
              "      background-color: #434B5C;\n",
              "      box-shadow: 0px 1px 3px 1px rgba(0, 0, 0, 0.15);\n",
              "      filter: drop-shadow(0px 1px 2px rgba(0, 0, 0, 0.3));\n",
              "      fill: #FFFFFF;\n",
              "    }\n",
              "  </style>\n",
              "\n",
              "      <script>\n",
              "        const buttonEl =\n",
              "          document.querySelector('#df-c599f372-c487-4774-bc5c-53ce40ace8b9 button.colab-df-convert');\n",
              "        buttonEl.style.display =\n",
              "          google.colab.kernel.accessAllowed ? 'block' : 'none';\n",
              "\n",
              "        async function convertToInteractive(key) {\n",
              "          const element = document.querySelector('#df-c599f372-c487-4774-bc5c-53ce40ace8b9');\n",
              "          const dataTable =\n",
              "            await google.colab.kernel.invokeFunction('convertToInteractive',\n",
              "                                                     [key], {});\n",
              "          if (!dataTable) return;\n",
              "\n",
              "          const docLinkHtml = 'Like what you see? Visit the ' +\n",
              "            '<a target=\"_blank\" href=https://colab.research.google.com/notebooks/data_table.ipynb>data table notebook</a>'\n",
              "            + ' to learn more about interactive tables.';\n",
              "          element.innerHTML = '';\n",
              "          dataTable['output_type'] = 'display_data';\n",
              "          await google.colab.output.renderOutput(dataTable, element);\n",
              "          const docLink = document.createElement('div');\n",
              "          docLink.innerHTML = docLinkHtml;\n",
              "          element.appendChild(docLink);\n",
              "        }\n",
              "      </script>\n",
              "    </div>\n",
              "  </div>\n",
              "  "
            ]
          },
          "metadata": {},
          "execution_count": 19
        }
      ]
    },
    {
      "cell_type": "markdown",
      "source": [
        "- Now let's perform an iteration of what values show up in those categorical columns."
      ],
      "metadata": {
        "id": "BRna1sO8DXGG"
      }
    },
    {
      "cell_type": "code",
      "source": [
        "# Save just index of str_cols.\n",
        "str_cols = str_cols.index"
      ],
      "metadata": {
        "id": "HpMoVMyv4xQT"
      },
      "execution_count": null,
      "outputs": []
    },
    {
      "cell_type": "code",
      "source": [
        "# Iterate through all object columns to examine values in the columns.\n",
        "for col in str_cols:\n",
        "  print(f\"{col}:\")\n",
        "  print(df_cleaning[col].value_counts(dropna=False))\n",
        "  print(\"\\n\\n\")"
      ],
      "metadata": {
        "colab": {
          "base_uri": "https://localhost:8080/"
        },
        "id": "q-YTF7cn40vS",
        "outputId": "f29ad956-cccc-4927-e5ef-ebad1e843086"
      },
      "execution_count": null,
      "outputs": [
        {
          "output_type": "stream",
          "name": "stdout",
          "text": [
            "Item_Identifier:\n",
            "FDW13    10\n",
            "FDG33    10\n",
            "NCY18     9\n",
            "FDD38     9\n",
            "DRE49     9\n",
            "         ..\n",
            "FDY43     1\n",
            "FDQ60     1\n",
            "FDO33     1\n",
            "DRF48     1\n",
            "FDC23     1\n",
            "Name: Item_Identifier, Length: 1559, dtype: int64\n",
            "\n",
            "\n",
            "\n",
            "Item_Fat_Content:\n",
            "Low Fat    5089\n",
            "Regular    2889\n",
            "LF          316\n",
            "reg         117\n",
            "low fat     112\n",
            "Name: Item_Fat_Content, dtype: int64\n",
            "\n",
            "\n",
            "\n",
            "Item_Type:\n",
            "Fruits and Vegetables    1232\n",
            "Snack Foods              1200\n",
            "Household                 910\n",
            "Frozen Foods              856\n",
            "Dairy                     682\n",
            "Canned                    649\n",
            "Baking Goods              648\n",
            "Health and Hygiene        520\n",
            "Soft Drinks               445\n",
            "Meat                      425\n",
            "Breads                    251\n",
            "Hard Drinks               214\n",
            "Others                    169\n",
            "Starchy Foods             148\n",
            "Breakfast                 110\n",
            "Seafood                    64\n",
            "Name: Item_Type, dtype: int64\n",
            "\n",
            "\n",
            "\n",
            "Outlet_Identifier:\n",
            "OUT027    935\n",
            "OUT013    932\n",
            "OUT049    930\n",
            "OUT046    930\n",
            "OUT035    930\n",
            "OUT045    929\n",
            "OUT018    928\n",
            "OUT017    926\n",
            "OUT010    555\n",
            "OUT019    528\n",
            "Name: Outlet_Identifier, dtype: int64\n",
            "\n",
            "\n",
            "\n",
            "Outlet_Location_Type:\n",
            "Tier 3    3350\n",
            "Tier 2    2785\n",
            "Tier 1    2388\n",
            "Name: Outlet_Location_Type, dtype: int64\n",
            "\n",
            "\n",
            "\n",
            "Outlet_Type:\n",
            "Supermarket Type1    5577\n",
            "Grocery Store        1083\n",
            "Supermarket Type3     935\n",
            "Supermarket Type2     928\n",
            "Name: Outlet_Type, dtype: int64\n",
            "\n",
            "\n",
            "\n"
          ]
        }
      ]
    },
    {
      "cell_type": "markdown",
      "source": [
        "- Looks like item fat content is the only column that needs all values adjusted for consistency.\n",
        "- Let us change the values to have just Low Fat and Regular."
      ],
      "metadata": {
        "id": "IdFTBIjPDhqe"
      }
    },
    {
      "cell_type": "code",
      "source": [
        "# Shows the values for Item_Fat_Content column along with the counts.\n",
        "df_cleaning['Item_Fat_Content'].value_counts()"
      ],
      "metadata": {
        "colab": {
          "base_uri": "https://localhost:8080/"
        },
        "id": "rwj1KADT61iN",
        "outputId": "74f38518-dbb7-4bb0-ab01-416d020b3fc2"
      },
      "execution_count": null,
      "outputs": [
        {
          "output_type": "execute_result",
          "data": {
            "text/plain": [
              "Low Fat    5089\n",
              "Regular    2889\n",
              "LF          316\n",
              "reg         117\n",
              "low fat     112\n",
              "Name: Item_Fat_Content, dtype: int64"
            ]
          },
          "metadata": {},
          "execution_count": 22
        }
      ]
    },
    {
      "cell_type": "markdown",
      "source": [
        "- Let's go ahead and standardize the values in that column."
      ],
      "metadata": {
        "id": "cU-dwGecDq6y"
      }
    },
    {
      "cell_type": "code",
      "source": [
        "# Standardize the values in the Item_Fat_Content column.\n",
        "df_cleaning['Item_Fat_Content'] = df_cleaning['Item_Fat_Content'].replace(['low fat', 'LF'],'Low Fat')\n",
        "df_cleaning['Item_Fat_Content'] = df_cleaning['Item_Fat_Content'].replace('reg', 'Regular')\n",
        "# Verify the values in the column to ensure that the column has standardized values.\n",
        "df_cleaning['Item_Fat_Content'].value_counts()"
      ],
      "metadata": {
        "colab": {
          "base_uri": "https://localhost:8080/"
        },
        "id": "EJX3Dmoy6gHA",
        "outputId": "4d341791-58ee-4967-ecff-37d28e1316d4"
      },
      "execution_count": null,
      "outputs": [
        {
          "output_type": "execute_result",
          "data": {
            "text/plain": [
              "Low Fat    5517\n",
              "Regular    3006\n",
              "Name: Item_Fat_Content, dtype: int64"
            ]
          },
          "metadata": {},
          "execution_count": 23
        }
      ]
    },
    {
      "cell_type": "markdown",
      "source": [
        "- Notice that Low Fat sum: 5089 + 316 + 112 = 5517.\n",
        "- Notice that Regular sum: 2889 + 117 = 3006.\n",
        "- To finalize the cleaning and imputation process of this dataset, let's obtain the statistical results for the numerical columns."
      ],
      "metadata": {
        "id": "vv73cXaA-wUG"
      }
    },
    {
      "cell_type": "code",
      "source": [
        "# Use describe code to obtain summary stats for all numerical columns.\n",
        "df_cleaning.describe()"
      ],
      "metadata": {
        "colab": {
          "base_uri": "https://localhost:8080/",
          "height": 300
        },
        "id": "o3Y2TFOG-y5P",
        "outputId": "6e79b23d-e4b2-4a76-c17f-d128a7dfab25"
      },
      "execution_count": null,
      "outputs": [
        {
          "output_type": "execute_result",
          "data": {
            "text/plain": [
              "       Item_Weight  Item_Visibility     Item_MRP  Outlet_Establishment_Year  \\\n",
              "count  8523.000000      8523.000000  8523.000000                8523.000000   \n",
              "mean     12.857645         0.066132   140.992782                1997.831867   \n",
              "std       4.226124         0.051598    62.275067                   8.371760   \n",
              "min       4.555000         0.000000    31.290000                1985.000000   \n",
              "25%       9.310000         0.026989    93.826500                1987.000000   \n",
              "50%      12.857645         0.053931   143.012800                1999.000000   \n",
              "75%      16.000000         0.094585   185.643700                2004.000000   \n",
              "max      21.350000         0.328391   266.888400                2009.000000   \n",
              "\n",
              "       Item_Outlet_Sales  \n",
              "count        8523.000000  \n",
              "mean         2181.288914  \n",
              "std          1706.499616  \n",
              "min            33.290000  \n",
              "25%           834.247400  \n",
              "50%          1794.331000  \n",
              "75%          3101.296400  \n",
              "max         13086.964800  "
            ],
            "text/html": [
              "\n",
              "  <div id=\"df-dcd92c9e-1a78-4045-a9c9-9fdf90eb06b9\">\n",
              "    <div class=\"colab-df-container\">\n",
              "      <div>\n",
              "<style scoped>\n",
              "    .dataframe tbody tr th:only-of-type {\n",
              "        vertical-align: middle;\n",
              "    }\n",
              "\n",
              "    .dataframe tbody tr th {\n",
              "        vertical-align: top;\n",
              "    }\n",
              "\n",
              "    .dataframe thead th {\n",
              "        text-align: right;\n",
              "    }\n",
              "</style>\n",
              "<table border=\"1\" class=\"dataframe\">\n",
              "  <thead>\n",
              "    <tr style=\"text-align: right;\">\n",
              "      <th></th>\n",
              "      <th>Item_Weight</th>\n",
              "      <th>Item_Visibility</th>\n",
              "      <th>Item_MRP</th>\n",
              "      <th>Outlet_Establishment_Year</th>\n",
              "      <th>Item_Outlet_Sales</th>\n",
              "    </tr>\n",
              "  </thead>\n",
              "  <tbody>\n",
              "    <tr>\n",
              "      <th>count</th>\n",
              "      <td>8523.000000</td>\n",
              "      <td>8523.000000</td>\n",
              "      <td>8523.000000</td>\n",
              "      <td>8523.000000</td>\n",
              "      <td>8523.000000</td>\n",
              "    </tr>\n",
              "    <tr>\n",
              "      <th>mean</th>\n",
              "      <td>12.857645</td>\n",
              "      <td>0.066132</td>\n",
              "      <td>140.992782</td>\n",
              "      <td>1997.831867</td>\n",
              "      <td>2181.288914</td>\n",
              "    </tr>\n",
              "    <tr>\n",
              "      <th>std</th>\n",
              "      <td>4.226124</td>\n",
              "      <td>0.051598</td>\n",
              "      <td>62.275067</td>\n",
              "      <td>8.371760</td>\n",
              "      <td>1706.499616</td>\n",
              "    </tr>\n",
              "    <tr>\n",
              "      <th>min</th>\n",
              "      <td>4.555000</td>\n",
              "      <td>0.000000</td>\n",
              "      <td>31.290000</td>\n",
              "      <td>1985.000000</td>\n",
              "      <td>33.290000</td>\n",
              "    </tr>\n",
              "    <tr>\n",
              "      <th>25%</th>\n",
              "      <td>9.310000</td>\n",
              "      <td>0.026989</td>\n",
              "      <td>93.826500</td>\n",
              "      <td>1987.000000</td>\n",
              "      <td>834.247400</td>\n",
              "    </tr>\n",
              "    <tr>\n",
              "      <th>50%</th>\n",
              "      <td>12.857645</td>\n",
              "      <td>0.053931</td>\n",
              "      <td>143.012800</td>\n",
              "      <td>1999.000000</td>\n",
              "      <td>1794.331000</td>\n",
              "    </tr>\n",
              "    <tr>\n",
              "      <th>75%</th>\n",
              "      <td>16.000000</td>\n",
              "      <td>0.094585</td>\n",
              "      <td>185.643700</td>\n",
              "      <td>2004.000000</td>\n",
              "      <td>3101.296400</td>\n",
              "    </tr>\n",
              "    <tr>\n",
              "      <th>max</th>\n",
              "      <td>21.350000</td>\n",
              "      <td>0.328391</td>\n",
              "      <td>266.888400</td>\n",
              "      <td>2009.000000</td>\n",
              "      <td>13086.964800</td>\n",
              "    </tr>\n",
              "  </tbody>\n",
              "</table>\n",
              "</div>\n",
              "      <button class=\"colab-df-convert\" onclick=\"convertToInteractive('df-dcd92c9e-1a78-4045-a9c9-9fdf90eb06b9')\"\n",
              "              title=\"Convert this dataframe to an interactive table.\"\n",
              "              style=\"display:none;\">\n",
              "        \n",
              "  <svg xmlns=\"http://www.w3.org/2000/svg\" height=\"24px\"viewBox=\"0 0 24 24\"\n",
              "       width=\"24px\">\n",
              "    <path d=\"M0 0h24v24H0V0z\" fill=\"none\"/>\n",
              "    <path d=\"M18.56 5.44l.94 2.06.94-2.06 2.06-.94-2.06-.94-.94-2.06-.94 2.06-2.06.94zm-11 1L8.5 8.5l.94-2.06 2.06-.94-2.06-.94L8.5 2.5l-.94 2.06-2.06.94zm10 10l.94 2.06.94-2.06 2.06-.94-2.06-.94-.94-2.06-.94 2.06-2.06.94z\"/><path d=\"M17.41 7.96l-1.37-1.37c-.4-.4-.92-.59-1.43-.59-.52 0-1.04.2-1.43.59L10.3 9.45l-7.72 7.72c-.78.78-.78 2.05 0 2.83L4 21.41c.39.39.9.59 1.41.59.51 0 1.02-.2 1.41-.59l7.78-7.78 2.81-2.81c.8-.78.8-2.07 0-2.86zM5.41 20L4 18.59l7.72-7.72 1.47 1.35L5.41 20z\"/>\n",
              "  </svg>\n",
              "      </button>\n",
              "      \n",
              "  <style>\n",
              "    .colab-df-container {\n",
              "      display:flex;\n",
              "      flex-wrap:wrap;\n",
              "      gap: 12px;\n",
              "    }\n",
              "\n",
              "    .colab-df-convert {\n",
              "      background-color: #E8F0FE;\n",
              "      border: none;\n",
              "      border-radius: 50%;\n",
              "      cursor: pointer;\n",
              "      display: none;\n",
              "      fill: #1967D2;\n",
              "      height: 32px;\n",
              "      padding: 0 0 0 0;\n",
              "      width: 32px;\n",
              "    }\n",
              "\n",
              "    .colab-df-convert:hover {\n",
              "      background-color: #E2EBFA;\n",
              "      box-shadow: 0px 1px 2px rgba(60, 64, 67, 0.3), 0px 1px 3px 1px rgba(60, 64, 67, 0.15);\n",
              "      fill: #174EA6;\n",
              "    }\n",
              "\n",
              "    [theme=dark] .colab-df-convert {\n",
              "      background-color: #3B4455;\n",
              "      fill: #D2E3FC;\n",
              "    }\n",
              "\n",
              "    [theme=dark] .colab-df-convert:hover {\n",
              "      background-color: #434B5C;\n",
              "      box-shadow: 0px 1px 3px 1px rgba(0, 0, 0, 0.15);\n",
              "      filter: drop-shadow(0px 1px 2px rgba(0, 0, 0, 0.3));\n",
              "      fill: #FFFFFF;\n",
              "    }\n",
              "  </style>\n",
              "\n",
              "      <script>\n",
              "        const buttonEl =\n",
              "          document.querySelector('#df-dcd92c9e-1a78-4045-a9c9-9fdf90eb06b9 button.colab-df-convert');\n",
              "        buttonEl.style.display =\n",
              "          google.colab.kernel.accessAllowed ? 'block' : 'none';\n",
              "\n",
              "        async function convertToInteractive(key) {\n",
              "          const element = document.querySelector('#df-dcd92c9e-1a78-4045-a9c9-9fdf90eb06b9');\n",
              "          const dataTable =\n",
              "            await google.colab.kernel.invokeFunction('convertToInteractive',\n",
              "                                                     [key], {});\n",
              "          if (!dataTable) return;\n",
              "\n",
              "          const docLinkHtml = 'Like what you see? Visit the ' +\n",
              "            '<a target=\"_blank\" href=https://colab.research.google.com/notebooks/data_table.ipynb>data table notebook</a>'\n",
              "            + ' to learn more about interactive tables.';\n",
              "          element.innerHTML = '';\n",
              "          dataTable['output_type'] = 'display_data';\n",
              "          await google.colab.output.renderOutput(dataTable, element);\n",
              "          const docLink = document.createElement('div');\n",
              "          docLink.innerHTML = docLinkHtml;\n",
              "          element.appendChild(docLink);\n",
              "        }\n",
              "      </script>\n",
              "    </div>\n",
              "  </div>\n",
              "  "
            ]
          },
          "metadata": {},
          "execution_count": 24
        }
      ]
    },
    {
      "cell_type": "code",
      "source": [
        "# Rounds the summary values to the nearest hundreth place for cleanliness.\n",
        "df_cleaning.describe().round(2)"
      ],
      "metadata": {
        "colab": {
          "base_uri": "https://localhost:8080/",
          "height": 300
        },
        "id": "3kly_ypLAT4k",
        "outputId": "bbc189b4-934c-46f4-e00f-467624e98345"
      },
      "execution_count": null,
      "outputs": [
        {
          "output_type": "execute_result",
          "data": {
            "text/plain": [
              "       Item_Weight  Item_Visibility  Item_MRP  Outlet_Establishment_Year  \\\n",
              "count      8523.00          8523.00   8523.00                    8523.00   \n",
              "mean         12.86             0.07    140.99                    1997.83   \n",
              "std           4.23             0.05     62.28                       8.37   \n",
              "min           4.56             0.00     31.29                    1985.00   \n",
              "25%           9.31             0.03     93.83                    1987.00   \n",
              "50%          12.86             0.05    143.01                    1999.00   \n",
              "75%          16.00             0.09    185.64                    2004.00   \n",
              "max          21.35             0.33    266.89                    2009.00   \n",
              "\n",
              "       Item_Outlet_Sales  \n",
              "count            8523.00  \n",
              "mean             2181.29  \n",
              "std              1706.50  \n",
              "min                33.29  \n",
              "25%               834.25  \n",
              "50%              1794.33  \n",
              "75%              3101.30  \n",
              "max             13086.96  "
            ],
            "text/html": [
              "\n",
              "  <div id=\"df-f41e96c3-12b4-411f-bce2-c4fe3b442b05\">\n",
              "    <div class=\"colab-df-container\">\n",
              "      <div>\n",
              "<style scoped>\n",
              "    .dataframe tbody tr th:only-of-type {\n",
              "        vertical-align: middle;\n",
              "    }\n",
              "\n",
              "    .dataframe tbody tr th {\n",
              "        vertical-align: top;\n",
              "    }\n",
              "\n",
              "    .dataframe thead th {\n",
              "        text-align: right;\n",
              "    }\n",
              "</style>\n",
              "<table border=\"1\" class=\"dataframe\">\n",
              "  <thead>\n",
              "    <tr style=\"text-align: right;\">\n",
              "      <th></th>\n",
              "      <th>Item_Weight</th>\n",
              "      <th>Item_Visibility</th>\n",
              "      <th>Item_MRP</th>\n",
              "      <th>Outlet_Establishment_Year</th>\n",
              "      <th>Item_Outlet_Sales</th>\n",
              "    </tr>\n",
              "  </thead>\n",
              "  <tbody>\n",
              "    <tr>\n",
              "      <th>count</th>\n",
              "      <td>8523.00</td>\n",
              "      <td>8523.00</td>\n",
              "      <td>8523.00</td>\n",
              "      <td>8523.00</td>\n",
              "      <td>8523.00</td>\n",
              "    </tr>\n",
              "    <tr>\n",
              "      <th>mean</th>\n",
              "      <td>12.86</td>\n",
              "      <td>0.07</td>\n",
              "      <td>140.99</td>\n",
              "      <td>1997.83</td>\n",
              "      <td>2181.29</td>\n",
              "    </tr>\n",
              "    <tr>\n",
              "      <th>std</th>\n",
              "      <td>4.23</td>\n",
              "      <td>0.05</td>\n",
              "      <td>62.28</td>\n",
              "      <td>8.37</td>\n",
              "      <td>1706.50</td>\n",
              "    </tr>\n",
              "    <tr>\n",
              "      <th>min</th>\n",
              "      <td>4.56</td>\n",
              "      <td>0.00</td>\n",
              "      <td>31.29</td>\n",
              "      <td>1985.00</td>\n",
              "      <td>33.29</td>\n",
              "    </tr>\n",
              "    <tr>\n",
              "      <th>25%</th>\n",
              "      <td>9.31</td>\n",
              "      <td>0.03</td>\n",
              "      <td>93.83</td>\n",
              "      <td>1987.00</td>\n",
              "      <td>834.25</td>\n",
              "    </tr>\n",
              "    <tr>\n",
              "      <th>50%</th>\n",
              "      <td>12.86</td>\n",
              "      <td>0.05</td>\n",
              "      <td>143.01</td>\n",
              "      <td>1999.00</td>\n",
              "      <td>1794.33</td>\n",
              "    </tr>\n",
              "    <tr>\n",
              "      <th>75%</th>\n",
              "      <td>16.00</td>\n",
              "      <td>0.09</td>\n",
              "      <td>185.64</td>\n",
              "      <td>2004.00</td>\n",
              "      <td>3101.30</td>\n",
              "    </tr>\n",
              "    <tr>\n",
              "      <th>max</th>\n",
              "      <td>21.35</td>\n",
              "      <td>0.33</td>\n",
              "      <td>266.89</td>\n",
              "      <td>2009.00</td>\n",
              "      <td>13086.96</td>\n",
              "    </tr>\n",
              "  </tbody>\n",
              "</table>\n",
              "</div>\n",
              "      <button class=\"colab-df-convert\" onclick=\"convertToInteractive('df-f41e96c3-12b4-411f-bce2-c4fe3b442b05')\"\n",
              "              title=\"Convert this dataframe to an interactive table.\"\n",
              "              style=\"display:none;\">\n",
              "        \n",
              "  <svg xmlns=\"http://www.w3.org/2000/svg\" height=\"24px\"viewBox=\"0 0 24 24\"\n",
              "       width=\"24px\">\n",
              "    <path d=\"M0 0h24v24H0V0z\" fill=\"none\"/>\n",
              "    <path d=\"M18.56 5.44l.94 2.06.94-2.06 2.06-.94-2.06-.94-.94-2.06-.94 2.06-2.06.94zm-11 1L8.5 8.5l.94-2.06 2.06-.94-2.06-.94L8.5 2.5l-.94 2.06-2.06.94zm10 10l.94 2.06.94-2.06 2.06-.94-2.06-.94-.94-2.06-.94 2.06-2.06.94z\"/><path d=\"M17.41 7.96l-1.37-1.37c-.4-.4-.92-.59-1.43-.59-.52 0-1.04.2-1.43.59L10.3 9.45l-7.72 7.72c-.78.78-.78 2.05 0 2.83L4 21.41c.39.39.9.59 1.41.59.51 0 1.02-.2 1.41-.59l7.78-7.78 2.81-2.81c.8-.78.8-2.07 0-2.86zM5.41 20L4 18.59l7.72-7.72 1.47 1.35L5.41 20z\"/>\n",
              "  </svg>\n",
              "      </button>\n",
              "      \n",
              "  <style>\n",
              "    .colab-df-container {\n",
              "      display:flex;\n",
              "      flex-wrap:wrap;\n",
              "      gap: 12px;\n",
              "    }\n",
              "\n",
              "    .colab-df-convert {\n",
              "      background-color: #E8F0FE;\n",
              "      border: none;\n",
              "      border-radius: 50%;\n",
              "      cursor: pointer;\n",
              "      display: none;\n",
              "      fill: #1967D2;\n",
              "      height: 32px;\n",
              "      padding: 0 0 0 0;\n",
              "      width: 32px;\n",
              "    }\n",
              "\n",
              "    .colab-df-convert:hover {\n",
              "      background-color: #E2EBFA;\n",
              "      box-shadow: 0px 1px 2px rgba(60, 64, 67, 0.3), 0px 1px 3px 1px rgba(60, 64, 67, 0.15);\n",
              "      fill: #174EA6;\n",
              "    }\n",
              "\n",
              "    [theme=dark] .colab-df-convert {\n",
              "      background-color: #3B4455;\n",
              "      fill: #D2E3FC;\n",
              "    }\n",
              "\n",
              "    [theme=dark] .colab-df-convert:hover {\n",
              "      background-color: #434B5C;\n",
              "      box-shadow: 0px 1px 3px 1px rgba(0, 0, 0, 0.15);\n",
              "      filter: drop-shadow(0px 1px 2px rgba(0, 0, 0, 0.3));\n",
              "      fill: #FFFFFF;\n",
              "    }\n",
              "  </style>\n",
              "\n",
              "      <script>\n",
              "        const buttonEl =\n",
              "          document.querySelector('#df-f41e96c3-12b4-411f-bce2-c4fe3b442b05 button.colab-df-convert');\n",
              "        buttonEl.style.display =\n",
              "          google.colab.kernel.accessAllowed ? 'block' : 'none';\n",
              "\n",
              "        async function convertToInteractive(key) {\n",
              "          const element = document.querySelector('#df-f41e96c3-12b4-411f-bce2-c4fe3b442b05');\n",
              "          const dataTable =\n",
              "            await google.colab.kernel.invokeFunction('convertToInteractive',\n",
              "                                                     [key], {});\n",
              "          if (!dataTable) return;\n",
              "\n",
              "          const docLinkHtml = 'Like what you see? Visit the ' +\n",
              "            '<a target=\"_blank\" href=https://colab.research.google.com/notebooks/data_table.ipynb>data table notebook</a>'\n",
              "            + ' to learn more about interactive tables.';\n",
              "          element.innerHTML = '';\n",
              "          dataTable['output_type'] = 'display_data';\n",
              "          await google.colab.output.renderOutput(dataTable, element);\n",
              "          const docLink = document.createElement('div');\n",
              "          docLink.innerHTML = docLinkHtml;\n",
              "          element.appendChild(docLink);\n",
              "        }\n",
              "      </script>\n",
              "    </div>\n",
              "  </div>\n",
              "  "
            ]
          },
          "metadata": {},
          "execution_count": 25
        }
      ]
    },
    {
      "cell_type": "markdown",
      "source": [
        "- The statistical information looks normal to me. I don't really see anything out of the ordinary there.\n",
        "- Now the dataset has been cleaned and all missing values imputed!\n",
        "- We will go ahead and make a copy of the dataframe to be named df_clean."
      ],
      "metadata": {
        "id": "z-RjXlAfELTY"
      }
    },
    {
      "cell_type": "code",
      "source": [
        "# Make a copy of the cleaned dataframe into df_clean.\n",
        "df_clean = df_cleaning.copy(deep=True)\n",
        "# Get an overview of the cleaned dataset.\n",
        "df_clean.info()"
      ],
      "metadata": {
        "colab": {
          "base_uri": "https://localhost:8080/"
        },
        "id": "n-_iBKy6Ej7S",
        "outputId": "4a6fac50-1a31-410c-b218-aa2d5ca61f5a"
      },
      "execution_count": null,
      "outputs": [
        {
          "output_type": "stream",
          "name": "stdout",
          "text": [
            "<class 'pandas.core.frame.DataFrame'>\n",
            "RangeIndex: 8523 entries, 0 to 8522\n",
            "Data columns (total 11 columns):\n",
            " #   Column                     Non-Null Count  Dtype  \n",
            "---  ------                     --------------  -----  \n",
            " 0   Item_Identifier            8523 non-null   object \n",
            " 1   Item_Weight                8523 non-null   float64\n",
            " 2   Item_Fat_Content           8523 non-null   object \n",
            " 3   Item_Visibility            8523 non-null   float64\n",
            " 4   Item_Type                  8523 non-null   object \n",
            " 5   Item_MRP                   8523 non-null   float64\n",
            " 6   Outlet_Identifier          8523 non-null   object \n",
            " 7   Outlet_Establishment_Year  8523 non-null   int64  \n",
            " 8   Outlet_Location_Type       8523 non-null   object \n",
            " 9   Outlet_Type                8523 non-null   object \n",
            " 10  Item_Outlet_Sales          8523 non-null   float64\n",
            "dtypes: float64(4), int64(1), object(6)\n",
            "memory usage: 732.6+ KB\n"
          ]
        }
      ]
    },
    {
      "cell_type": "markdown",
      "source": [
        "# **Data Visualization**"
      ],
      "metadata": {
        "id": "rNh6L8VNEWQe"
      }
    },
    {
      "cell_type": "markdown",
      "source": [
        "- Now that the data has been successfully cleaned, we are now ready to make our visualizations on the cleaned data to see how sales numbers correlate to certain features and what the distribution of item and outlet sales look like!\n",
        "- Let's check what data we have to work with based on datatypes."
      ],
      "metadata": {
        "id": "lZmvi5v9FHyK"
      }
    },
    {
      "cell_type": "code",
      "source": [
        "# Lets examine the data types using dtypes.\n",
        "data_types = df_clean.dtypes\n",
        "data_types"
      ],
      "metadata": {
        "colab": {
          "base_uri": "https://localhost:8080/"
        },
        "id": "RqfdnlK9HfVj",
        "outputId": "700e031f-cbee-48bc-9dff-e7c62f5a6a10"
      },
      "execution_count": null,
      "outputs": [
        {
          "output_type": "execute_result",
          "data": {
            "text/plain": [
              "Item_Identifier               object\n",
              "Item_Weight                  float64\n",
              "Item_Fat_Content              object\n",
              "Item_Visibility              float64\n",
              "Item_Type                     object\n",
              "Item_MRP                     float64\n",
              "Outlet_Identifier             object\n",
              "Outlet_Establishment_Year      int64\n",
              "Outlet_Location_Type          object\n",
              "Outlet_Type                   object\n",
              "Item_Outlet_Sales            float64\n",
              "dtype: object"
            ]
          },
          "metadata": {},
          "execution_count": 27
        }
      ]
    },
    {
      "cell_type": "markdown",
      "source": [
        "- Next, lets separate the columns based on the data types.\n",
        "- Let's start by creating a list of columns with object data types. These columns will be handled as categorical data for visualization purposes."
      ],
      "metadata": {
        "id": "OaXbehpVFfXj"
      }
    },
    {
      "cell_type": "code",
      "source": [
        "# Create a dataframe of columns with object datatype.\n",
        "string_columns = data_types[data_types == \"object\"]\n",
        "string_columns"
      ],
      "metadata": {
        "colab": {
          "base_uri": "https://localhost:8080/"
        },
        "id": "BW63zEOyIN72",
        "outputId": "62cb10bb-a14a-4594-a205-49efeeb6769d"
      },
      "execution_count": null,
      "outputs": [
        {
          "output_type": "execute_result",
          "data": {
            "text/plain": [
              "Item_Identifier         object\n",
              "Item_Fat_Content        object\n",
              "Item_Type               object\n",
              "Outlet_Identifier       object\n",
              "Outlet_Location_Type    object\n",
              "Outlet_Type             object\n",
              "dtype: object"
            ]
          },
          "metadata": {},
          "execution_count": 28
        }
      ]
    },
    {
      "cell_type": "markdown",
      "source": [
        "- Let's also create a list of columsn with numerical data types. These columns will be handled as numerical data for visualization purposes.\n",
        "- Pretty much any column with datatype other than object would fall into this category."
      ],
      "metadata": {
        "id": "X3b8b441F5ME"
      }
    },
    {
      "cell_type": "code",
      "source": [
        "# Create a dataframe of columns with number datatype.\n",
        "number_columns = data_types[data_types != \"object\"]\n",
        "number_columns"
      ],
      "metadata": {
        "colab": {
          "base_uri": "https://localhost:8080/"
        },
        "id": "YsQV498FI0HW",
        "outputId": "4dfc5b66-3a7e-4dfa-ee65-cde8c9d6f03f"
      },
      "execution_count": null,
      "outputs": [
        {
          "output_type": "execute_result",
          "data": {
            "text/plain": [
              "Item_Weight                  float64\n",
              "Item_Visibility              float64\n",
              "Item_MRP                     float64\n",
              "Outlet_Establishment_Year      int64\n",
              "Item_Outlet_Sales            float64\n",
              "dtype: object"
            ]
          },
          "metadata": {},
          "execution_count": 29
        }
      ]
    },
    {
      "cell_type": "markdown",
      "source": [
        "## **Creating a Histogram**"
      ],
      "metadata": {
        "id": "zLQEdjEU_VO-"
      }
    },
    {
      "cell_type": "markdown",
      "source": [
        "- For my histogram, I would like to generate one that details the item MRP across the board.\n",
        "- Hopefully that should generate some understanding as to how much the items sales are valued.\n",
        "- I want to try Seaborn style just to see how it looks!\n",
        "- Bins is set to 50 to improve the visualization quality of the bars.\n",
        "- X value rotation is set at 30 degrees.\n",
        "- I adjusted the font of title and label values for legibility.\n",
        "- I wish I could tinker with more settings, but my creativity can only take me so far.....\n"
      ],
      "metadata": {
        "id": "4Jx-_HWI_qT1"
      }
    },
    {
      "cell_type": "code",
      "source": [
        "# Lets go ahead and create a histogram plotting the MRP of items sold.\n",
        "plt.style.use('seaborn')\n",
        "df_clean['Item_MRP'].hist(bins = 50)\n",
        "plt.xticks(rotation = 30)\n",
        "plt.ticklabel_format(useOffset=False, style='plain')\n",
        "plt.title('Distribution of Item MRP Values', fontsize = 24)\n",
        "plt.xlabel('Item MRP', fontsize = 16)\n",
        "plt.ylabel('Number of Items', fontsize = 16)"
      ],
      "metadata": {
        "colab": {
          "base_uri": "https://localhost:8080/"
        },
        "id": "bBWOM5dY_Pl4",
        "outputId": "c0a416e9-f9b6-404e-ea2e-381ecdfdbff2"
      },
      "execution_count": null,
      "outputs": [
        {
          "output_type": "execute_result",
          "data": {
            "text/plain": [
              "Text(0, 0.5, 'Number of Items')"
            ]
          },
          "metadata": {},
          "execution_count": 30
        },
        {
          "output_type": "display_data",
          "data": {
            "text/plain": [
              "<Figure size 576x396 with 1 Axes>"
            ],
            "image/png": "[encoded data removed]"
          },
          "metadata": {}
        }
      ]
    },
    {
      "cell_type": "markdown",
      "source": [
        "- Based on what I have observed from the histogram, it seems like the Item MRP values are somewhat evenly distributed across the board, ranging from about 20 to around 270. \n",
        "- However, there seems to be separate clusters of MRP values centered around certain values, indicating that certain categories of items may have similar MRP values depending on item type. \n",
        "- Also, it seems like the MRP of items favors certain price ranges and disfavors others. \n",
        "- For example, not a lot of items are priced at 200-210ish range. This may indicate that items were much more favorable to be priced at 190-200ish. The 199.99 effect may play a role as well in terms of consumer psychology? (Pretty much making the item seem like it costs less than what it actually is.)"
      ],
      "metadata": {
        "id": "sRmTPc5gGCjS"
      }
    },
    {
      "cell_type": "markdown",
      "source": [
        "## **Creating a Boxplot for Item MRP Value Based on Item Fat Content**"
      ],
      "metadata": {
        "id": "dzTVgU71HMdb"
      }
    },
    {
      "cell_type": "markdown",
      "source": [
        "- For my boxplot, I do want to examine how the item fat content plays a role in the Item MRP value. \n",
        "- Are reduced fat products more expensive in general than regular fat products? Hopefully the boxplot will answer that question.\n",
        "- Lets create a couple of filters that will help us sort the data.\n",
        "- First, lets examine what values reside in the Item Fat Content column. There should be only 2 values in that column: Low Fat and Regular."
      ],
      "metadata": {
        "id": "FyaQlGYxH6h7"
      }
    },
    {
      "cell_type": "code",
      "source": [
        "# Check the unique values of the Item_Fat_Content column.\n",
        "df_clean['Item_Fat_Content'].unique()"
      ],
      "metadata": {
        "colab": {
          "base_uri": "https://localhost:8080/"
        },
        "id": "RQJqssOlH6Pd",
        "outputId": "9dd6561e-dd06-4c7e-ef5e-1f6593f48952"
      },
      "execution_count": null,
      "outputs": [
        {
          "output_type": "execute_result",
          "data": {
            "text/plain": [
              "array(['Low Fat', 'Regular'], dtype=object)"
            ]
          },
          "metadata": {},
          "execution_count": 31
        }
      ]
    },
    {
      "cell_type": "markdown",
      "source": [
        "- Let's go ahead and create a couple of filters: one for Low Fat and one for Regular."
      ],
      "metadata": {
        "id": "pgb59CDrG2E6"
      }
    },
    {
      "cell_type": "code",
      "source": [
        "# Creates a filter for Low Fat.\n",
        "lowfat_filter = df_clean['Item_Fat_Content'] == 'Low Fat'\n",
        "lowfat_filter.head()"
      ],
      "metadata": {
        "colab": {
          "base_uri": "https://localhost:8080/"
        },
        "id": "emveW1ZTJIJn",
        "outputId": "8f762aea-31bb-4238-fa74-d42c415ded4b"
      },
      "execution_count": null,
      "outputs": [
        {
          "output_type": "execute_result",
          "data": {
            "text/plain": [
              "0     True\n",
              "1    False\n",
              "2     True\n",
              "3    False\n",
              "4     True\n",
              "Name: Item_Fat_Content, dtype: bool"
            ]
          },
          "metadata": {},
          "execution_count": 32
        }
      ]
    },
    {
      "cell_type": "code",
      "source": [
        "# Creates a filter for Regular, only with the ~ symbol.\n",
        "# What is not lowfat is considered regular.\n",
        "regular_filter = ~lowfat_filter\n",
        "regular_filter.head()"
      ],
      "metadata": {
        "colab": {
          "base_uri": "https://localhost:8080/"
        },
        "id": "lU6GlChsJijn",
        "outputId": "5ede23c2-2207-4208-a4ad-1660da36975b"
      },
      "execution_count": null,
      "outputs": [
        {
          "output_type": "execute_result",
          "data": {
            "text/plain": [
              "0    False\n",
              "1     True\n",
              "2    False\n",
              "3     True\n",
              "4    False\n",
              "Name: Item_Fat_Content, dtype: bool"
            ]
          },
          "metadata": {},
          "execution_count": 33
        }
      ]
    },
    {
      "cell_type": "markdown",
      "source": [
        "- Lets create a new DataFrame named df_lowfat containing Low Fat items."
      ],
      "metadata": {
        "id": "FfiTvaTyHDmK"
      }
    },
    {
      "cell_type": "code",
      "source": [
        "# Create the dataframe with Low Fat for Item_Fat_Content column.\n",
        "df_lowfat = df_clean.loc[lowfat_filter, :]\n",
        "df_lowfat.head()"
      ],
      "metadata": {
        "colab": {
          "base_uri": "https://localhost:8080/"
        },
        "id": "l4Y_96gdJwVu",
        "outputId": "f3fc6ba7-c3e7-4bf9-8aa3-ed4697a506bc"
      },
      "execution_count": null,
      "outputs": [
        {
          "output_type": "execute_result",
          "data": {
            "text/plain": [
              "   Item_Identifier  Item_Weight Item_Fat_Content  Item_Visibility  \\\n",
              "0            FDA15     9.300000          Low Fat         0.016047   \n",
              "2            FDN15    17.500000          Low Fat         0.016760   \n",
              "4            NCD19     8.930000          Low Fat         0.000000   \n",
              "7            FDP10    12.857645          Low Fat         0.127470   \n",
              "10           FDY07    11.800000          Low Fat         0.000000   \n",
              "\n",
              "                Item_Type  Item_MRP Outlet_Identifier  \\\n",
              "0                   Dairy  249.8092            OUT049   \n",
              "2                    Meat  141.6180            OUT049   \n",
              "4               Household   53.8614            OUT013   \n",
              "7             Snack Foods  107.7622            OUT027   \n",
              "10  Fruits and Vegetables   45.5402            OUT049   \n",
              "\n",
              "    Outlet_Establishment_Year Outlet_Location_Type        Outlet_Type  \\\n",
              "0                        1999               Tier 1  Supermarket Type1   \n",
              "2                        1999               Tier 1  Supermarket Type1   \n",
              "4                        1987               Tier 3  Supermarket Type1   \n",
              "7                        1985               Tier 3  Supermarket Type3   \n",
              "10                       1999               Tier 1  Supermarket Type1   \n",
              "\n",
              "    Item_Outlet_Sales  \n",
              "0           3735.1380  \n",
              "2           2097.2700  \n",
              "4            994.7052  \n",
              "7           4022.7636  \n",
              "10          1516.0266  "
            ],
            "text/html": [
              "\n",
              "  <div id=\"df-db15de1f-536b-4dfc-b585-a5955894f776\">\n",
              "    <div class=\"colab-df-container\">\n",
              "      <div>\n",
              "<style scoped>\n",
              "    .dataframe tbody tr th:only-of-type {\n",
              "        vertical-align: middle;\n",
              "    }\n",
              "\n",
              "    .dataframe tbody tr th {\n",
              "        vertical-align: top;\n",
              "    }\n",
              "\n",
              "    .dataframe thead th {\n",
              "        text-align: right;\n",
              "    }\n",
              "</style>\n",
              "<table border=\"1\" class=\"dataframe\">\n",
              "  <thead>\n",
              "    <tr style=\"text-align: right;\">\n",
              "      <th></th>\n",
              "      <th>Item_Identifier</th>\n",
              "      <th>Item_Weight</th>\n",
              "      <th>Item_Fat_Content</th>\n",
              "      <th>Item_Visibility</th>\n",
              "      <th>Item_Type</th>\n",
              "      <th>Item_MRP</th>\n",
              "      <th>Outlet_Identifier</th>\n",
              "      <th>Outlet_Establishment_Year</th>\n",
              "      <th>Outlet_Location_Type</th>\n",
              "      <th>Outlet_Type</th>\n",
              "      <th>Item_Outlet_Sales</th>\n",
              "    </tr>\n",
              "  </thead>\n",
              "  <tbody>\n",
              "    <tr>\n",
              "      <th>0</th>\n",
              "      <td>FDA15</td>\n",
              "      <td>9.300000</td>\n",
              "      <td>Low Fat</td>\n",
              "      <td>0.016047</td>\n",
              "      <td>Dairy</td>\n",
              "      <td>249.8092</td>\n",
              "      <td>OUT049</td>\n",
              "      <td>1999</td>\n",
              "      <td>Tier 1</td>\n",
              "      <td>Supermarket Type1</td>\n",
              "      <td>3735.1380</td>\n",
              "    </tr>\n",
              "    <tr>\n",
              "      <th>2</th>\n",
              "      <td>FDN15</td>\n",
              "      <td>17.500000</td>\n",
              "      <td>Low Fat</td>\n",
              "      <td>0.016760</td>\n",
              "      <td>Meat</td>\n",
              "      <td>141.6180</td>\n",
              "      <td>OUT049</td>\n",
              "      <td>1999</td>\n",
              "      <td>Tier 1</td>\n",
              "      <td>Supermarket Type1</td>\n",
              "      <td>2097.2700</td>\n",
              "    </tr>\n",
              "    <tr>\n",
              "      <th>4</th>\n",
              "      <td>NCD19</td>\n",
              "      <td>8.930000</td>\n",
              "      <td>Low Fat</td>\n",
              "      <td>0.000000</td>\n",
              "      <td>Household</td>\n",
              "      <td>53.8614</td>\n",
              "      <td>OUT013</td>\n",
              "      <td>1987</td>\n",
              "      <td>Tier 3</td>\n",
              "      <td>Supermarket Type1</td>\n",
              "      <td>994.7052</td>\n",
              "    </tr>\n",
              "    <tr>\n",
              "      <th>7</th>\n",
              "      <td>FDP10</td>\n",
              "      <td>12.857645</td>\n",
              "      <td>Low Fat</td>\n",
              "      <td>0.127470</td>\n",
              "      <td>Snack Foods</td>\n",
              "      <td>107.7622</td>\n",
              "      <td>OUT027</td>\n",
              "      <td>1985</td>\n",
              "      <td>Tier 3</td>\n",
              "      <td>Supermarket Type3</td>\n",
              "      <td>4022.7636</td>\n",
              "    </tr>\n",
              "    <tr>\n",
              "      <th>10</th>\n",
              "      <td>FDY07</td>\n",
              "      <td>11.800000</td>\n",
              "      <td>Low Fat</td>\n",
              "      <td>0.000000</td>\n",
              "      <td>Fruits and Vegetables</td>\n",
              "      <td>45.5402</td>\n",
              "      <td>OUT049</td>\n",
              "      <td>1999</td>\n",
              "      <td>Tier 1</td>\n",
              "      <td>Supermarket Type1</td>\n",
              "      <td>1516.0266</td>\n",
              "    </tr>\n",
              "  </tbody>\n",
              "</table>\n",
              "</div>\n",
              "      <button class=\"colab-df-convert\" onclick=\"convertToInteractive('df-db15de1f-536b-4dfc-b585-a5955894f776')\"\n",
              "              title=\"Convert this dataframe to an interactive table.\"\n",
              "              style=\"display:none;\">\n",
              "        \n",
              "  <svg xmlns=\"http://www.w3.org/2000/svg\" height=\"24px\"viewBox=\"0 0 24 24\"\n",
              "       width=\"24px\">\n",
              "    <path d=\"M0 0h24v24H0V0z\" fill=\"none\"/>\n",
              "    <path d=\"M18.56 5.44l.94 2.06.94-2.06 2.06-.94-2.06-.94-.94-2.06-.94 2.06-2.06.94zm-11 1L8.5 8.5l.94-2.06 2.06-.94-2.06-.94L8.5 2.5l-.94 2.06-2.06.94zm10 10l.94 2.06.94-2.06 2.06-.94-2.06-.94-.94-2.06-.94 2.06-2.06.94z\"/><path d=\"M17.41 7.96l-1.37-1.37c-.4-.4-.92-.59-1.43-.59-.52 0-1.04.2-1.43.59L10.3 9.45l-7.72 7.72c-.78.78-.78 2.05 0 2.83L4 21.41c.39.39.9.59 1.41.59.51 0 1.02-.2 1.41-.59l7.78-7.78 2.81-2.81c.8-.78.8-2.07 0-2.86zM5.41 20L4 18.59l7.72-7.72 1.47 1.35L5.41 20z\"/>\n",
              "  </svg>\n",
              "      </button>\n",
              "      \n",
              "  <style>\n",
              "    .colab-df-container {\n",
              "      display:flex;\n",
              "      flex-wrap:wrap;\n",
              "      gap: 12px;\n",
              "    }\n",
              "\n",
              "    .colab-df-convert {\n",
              "      background-color: #E8F0FE;\n",
              "      border: none;\n",
              "      border-radius: 50%;\n",
              "      cursor: pointer;\n",
              "      display: none;\n",
              "      fill: #1967D2;\n",
              "      height: 32px;\n",
              "      padding: 0 0 0 0;\n",
              "      width: 32px;\n",
              "    }\n",
              "\n",
              "    .colab-df-convert:hover {\n",
              "      background-color: #E2EBFA;\n",
              "      box-shadow: 0px 1px 2px rgba(60, 64, 67, 0.3), 0px 1px 3px 1px rgba(60, 64, 67, 0.15);\n",
              "      fill: #174EA6;\n",
              "    }\n",
              "\n",
              "    [theme=dark] .colab-df-convert {\n",
              "      background-color: #3B4455;\n",
              "      fill: #D2E3FC;\n",
              "    }\n",
              "\n",
              "    [theme=dark] .colab-df-convert:hover {\n",
              "      background-color: #434B5C;\n",
              "      box-shadow: 0px 1px 3px 1px rgba(0, 0, 0, 0.15);\n",
              "      filter: drop-shadow(0px 1px 2px rgba(0, 0, 0, 0.3));\n",
              "      fill: #FFFFFF;\n",
              "    }\n",
              "  </style>\n",
              "\n",
              "      <script>\n",
              "        const buttonEl =\n",
              "          document.querySelector('#df-db15de1f-536b-4dfc-b585-a5955894f776 button.colab-df-convert');\n",
              "        buttonEl.style.display =\n",
              "          google.colab.kernel.accessAllowed ? 'block' : 'none';\n",
              "\n",
              "        async function convertToInteractive(key) {\n",
              "          const element = document.querySelector('#df-db15de1f-536b-4dfc-b585-a5955894f776');\n",
              "          const dataTable =\n",
              "            await google.colab.kernel.invokeFunction('convertToInteractive',\n",
              "                                                     [key], {});\n",
              "          if (!dataTable) return;\n",
              "\n",
              "          const docLinkHtml = 'Like what you see? Visit the ' +\n",
              "            '<a target=\"_blank\" href=https://colab.research.google.com/notebooks/data_table.ipynb>data table notebook</a>'\n",
              "            + ' to learn more about interactive tables.';\n",
              "          element.innerHTML = '';\n",
              "          dataTable['output_type'] = 'display_data';\n",
              "          await google.colab.output.renderOutput(dataTable, element);\n",
              "          const docLink = document.createElement('div');\n",
              "          docLink.innerHTML = docLinkHtml;\n",
              "          element.appendChild(docLink);\n",
              "        }\n",
              "      </script>\n",
              "    </div>\n",
              "  </div>\n",
              "  "
            ]
          },
          "metadata": {},
          "execution_count": 34
        }
      ]
    },
    {
      "cell_type": "markdown",
      "source": [
        "- Lets also create another new DataFrame named df_regular containing Regular items."
      ],
      "metadata": {
        "id": "A29hPm69HLAY"
      }
    },
    {
      "cell_type": "code",
      "source": [
        "# Create the dataframe with Regular for Item_Fat_Content column.\n",
        "df_regular = df_clean.loc[regular_filter, :]\n",
        "df_regular.head()"
      ],
      "metadata": {
        "colab": {
          "base_uri": "https://localhost:8080/"
        },
        "id": "gxlnt2TwKVQ-",
        "outputId": "f719f2c8-6deb-433e-90af-e4ad790928cc"
      },
      "execution_count": null,
      "outputs": [
        {
          "output_type": "execute_result",
          "data": {
            "text/plain": [
              "  Item_Identifier  Item_Weight Item_Fat_Content  Item_Visibility  \\\n",
              "1           DRC01        5.920          Regular         0.019278   \n",
              "3           FDX07       19.200          Regular         0.000000   \n",
              "5           FDP36       10.395          Regular         0.000000   \n",
              "6           FDO10       13.650          Regular         0.012741   \n",
              "8           FDH17       16.200          Regular         0.016687   \n",
              "\n",
              "               Item_Type  Item_MRP Outlet_Identifier  \\\n",
              "1            Soft Drinks   48.2692            OUT018   \n",
              "3  Fruits and Vegetables  182.0950            OUT010   \n",
              "5           Baking Goods   51.4008            OUT018   \n",
              "6            Snack Foods   57.6588            OUT013   \n",
              "8           Frozen Foods   96.9726            OUT045   \n",
              "\n",
              "   Outlet_Establishment_Year Outlet_Location_Type        Outlet_Type  \\\n",
              "1                       2009               Tier 3  Supermarket Type2   \n",
              "3                       1998               Tier 3      Grocery Store   \n",
              "5                       2009               Tier 3  Supermarket Type2   \n",
              "6                       1987               Tier 3  Supermarket Type1   \n",
              "8                       2002               Tier 2  Supermarket Type1   \n",
              "\n",
              "   Item_Outlet_Sales  \n",
              "1           443.4228  \n",
              "3           732.3800  \n",
              "5           556.6088  \n",
              "6           343.5528  \n",
              "8          1076.5986  "
            ],
            "text/html": [
              "\n",
              "  <div id=\"df-47535386-27a3-4bdc-b17d-027a753dde72\">\n",
              "    <div class=\"colab-df-container\">\n",
              "      <div>\n",
              "<style scoped>\n",
              "    .dataframe tbody tr th:only-of-type {\n",
              "        vertical-align: middle;\n",
              "    }\n",
              "\n",
              "    .dataframe tbody tr th {\n",
              "        vertical-align: top;\n",
              "    }\n",
              "\n",
              "    .dataframe thead th {\n",
              "        text-align: right;\n",
              "    }\n",
              "</style>\n",
              "<table border=\"1\" class=\"dataframe\">\n",
              "  <thead>\n",
              "    <tr style=\"text-align: right;\">\n",
              "      <th></th>\n",
              "      <th>Item_Identifier</th>\n",
              "      <th>Item_Weight</th>\n",
              "      <th>Item_Fat_Content</th>\n",
              "      <th>Item_Visibility</th>\n",
              "      <th>Item_Type</th>\n",
              "      <th>Item_MRP</th>\n",
              "      <th>Outlet_Identifier</th>\n",
              "      <th>Outlet_Establishment_Year</th>\n",
              "      <th>Outlet_Location_Type</th>\n",
              "      <th>Outlet_Type</th>\n",
              "      <th>Item_Outlet_Sales</th>\n",
              "    </tr>\n",
              "  </thead>\n",
              "  <tbody>\n",
              "    <tr>\n",
              "      <th>1</th>\n",
              "      <td>DRC01</td>\n",
              "      <td>5.920</td>\n",
              "      <td>Regular</td>\n",
              "      <td>0.019278</td>\n",
              "      <td>Soft Drinks</td>\n",
              "      <td>48.2692</td>\n",
              "      <td>OUT018</td>\n",
              "      <td>2009</td>\n",
              "      <td>Tier 3</td>\n",
              "      <td>Supermarket Type2</td>\n",
              "      <td>443.4228</td>\n",
              "    </tr>\n",
              "    <tr>\n",
              "      <th>3</th>\n",
              "      <td>FDX07</td>\n",
              "      <td>19.200</td>\n",
              "      <td>Regular</td>\n",
              "      <td>0.000000</td>\n",
              "      <td>Fruits and Vegetables</td>\n",
              "      <td>182.0950</td>\n",
              "      <td>OUT010</td>\n",
              "      <td>1998</td>\n",
              "      <td>Tier 3</td>\n",
              "      <td>Grocery Store</td>\n",
              "      <td>732.3800</td>\n",
              "    </tr>\n",
              "    <tr>\n",
              "      <th>5</th>\n",
              "      <td>FDP36</td>\n",
              "      <td>10.395</td>\n",
              "      <td>Regular</td>\n",
              "      <td>0.000000</td>\n",
              "      <td>Baking Goods</td>\n",
              "      <td>51.4008</td>\n",
              "      <td>OUT018</td>\n",
              "      <td>2009</td>\n",
              "      <td>Tier 3</td>\n",
              "      <td>Supermarket Type2</td>\n",
              "      <td>556.6088</td>\n",
              "    </tr>\n",
              "    <tr>\n",
              "      <th>6</th>\n",
              "      <td>FDO10</td>\n",
              "      <td>13.650</td>\n",
              "      <td>Regular</td>\n",
              "      <td>0.012741</td>\n",
              "      <td>Snack Foods</td>\n",
              "      <td>57.6588</td>\n",
              "      <td>OUT013</td>\n",
              "      <td>1987</td>\n",
              "      <td>Tier 3</td>\n",
              "      <td>Supermarket Type1</td>\n",
              "      <td>343.5528</td>\n",
              "    </tr>\n",
              "    <tr>\n",
              "      <th>8</th>\n",
              "      <td>FDH17</td>\n",
              "      <td>16.200</td>\n",
              "      <td>Regular</td>\n",
              "      <td>0.016687</td>\n",
              "      <td>Frozen Foods</td>\n",
              "      <td>96.9726</td>\n",
              "      <td>OUT045</td>\n",
              "      <td>2002</td>\n",
              "      <td>Tier 2</td>\n",
              "      <td>Supermarket Type1</td>\n",
              "      <td>1076.5986</td>\n",
              "    </tr>\n",
              "  </tbody>\n",
              "</table>\n",
              "</div>\n",
              "      <button class=\"colab-df-convert\" onclick=\"convertToInteractive('df-47535386-27a3-4bdc-b17d-027a753dde72')\"\n",
              "              title=\"Convert this dataframe to an interactive table.\"\n",
              "              style=\"display:none;\">\n",
              "        \n",
              "  <svg xmlns=\"http://www.w3.org/2000/svg\" height=\"24px\"viewBox=\"0 0 24 24\"\n",
              "       width=\"24px\">\n",
              "    <path d=\"M0 0h24v24H0V0z\" fill=\"none\"/>\n",
              "    <path d=\"M18.56 5.44l.94 2.06.94-2.06 2.06-.94-2.06-.94-.94-2.06-.94 2.06-2.06.94zm-11 1L8.5 8.5l.94-2.06 2.06-.94-2.06-.94L8.5 2.5l-.94 2.06-2.06.94zm10 10l.94 2.06.94-2.06 2.06-.94-2.06-.94-.94-2.06-.94 2.06-2.06.94z\"/><path d=\"M17.41 7.96l-1.37-1.37c-.4-.4-.92-.59-1.43-.59-.52 0-1.04.2-1.43.59L10.3 9.45l-7.72 7.72c-.78.78-.78 2.05 0 2.83L4 21.41c.39.39.9.59 1.41.59.51 0 1.02-.2 1.41-.59l7.78-7.78 2.81-2.81c.8-.78.8-2.07 0-2.86zM5.41 20L4 18.59l7.72-7.72 1.47 1.35L5.41 20z\"/>\n",
              "  </svg>\n",
              "      </button>\n",
              "      \n",
              "  <style>\n",
              "    .colab-df-container {\n",
              "      display:flex;\n",
              "      flex-wrap:wrap;\n",
              "      gap: 12px;\n",
              "    }\n",
              "\n",
              "    .colab-df-convert {\n",
              "      background-color: #E8F0FE;\n",
              "      border: none;\n",
              "      border-radius: 50%;\n",
              "      cursor: pointer;\n",
              "      display: none;\n",
              "      fill: #1967D2;\n",
              "      height: 32px;\n",
              "      padding: 0 0 0 0;\n",
              "      width: 32px;\n",
              "    }\n",
              "\n",
              "    .colab-df-convert:hover {\n",
              "      background-color: #E2EBFA;\n",
              "      box-shadow: 0px 1px 2px rgba(60, 64, 67, 0.3), 0px 1px 3px 1px rgba(60, 64, 67, 0.15);\n",
              "      fill: #174EA6;\n",
              "    }\n",
              "\n",
              "    [theme=dark] .colab-df-convert {\n",
              "      background-color: #3B4455;\n",
              "      fill: #D2E3FC;\n",
              "    }\n",
              "\n",
              "    [theme=dark] .colab-df-convert:hover {\n",
              "      background-color: #434B5C;\n",
              "      box-shadow: 0px 1px 3px 1px rgba(0, 0, 0, 0.15);\n",
              "      filter: drop-shadow(0px 1px 2px rgba(0, 0, 0, 0.3));\n",
              "      fill: #FFFFFF;\n",
              "    }\n",
              "  </style>\n",
              "\n",
              "      <script>\n",
              "        const buttonEl =\n",
              "          document.querySelector('#df-47535386-27a3-4bdc-b17d-027a753dde72 button.colab-df-convert');\n",
              "        buttonEl.style.display =\n",
              "          google.colab.kernel.accessAllowed ? 'block' : 'none';\n",
              "\n",
              "        async function convertToInteractive(key) {\n",
              "          const element = document.querySelector('#df-47535386-27a3-4bdc-b17d-027a753dde72');\n",
              "          const dataTable =\n",
              "            await google.colab.kernel.invokeFunction('convertToInteractive',\n",
              "                                                     [key], {});\n",
              "          if (!dataTable) return;\n",
              "\n",
              "          const docLinkHtml = 'Like what you see? Visit the ' +\n",
              "            '<a target=\"_blank\" href=https://colab.research.google.com/notebooks/data_table.ipynb>data table notebook</a>'\n",
              "            + ' to learn more about interactive tables.';\n",
              "          element.innerHTML = '';\n",
              "          dataTable['output_type'] = 'display_data';\n",
              "          await google.colab.output.renderOutput(dataTable, element);\n",
              "          const docLink = document.createElement('div');\n",
              "          docLink.innerHTML = docLinkHtml;\n",
              "          element.appendChild(docLink);\n",
              "        }\n",
              "      </script>\n",
              "    </div>\n",
              "  </div>\n",
              "  "
            ]
          },
          "metadata": {},
          "execution_count": 35
        }
      ]
    },
    {
      "cell_type": "markdown",
      "source": [
        "- Now that we have the data separated by item fat content values, lets use the dataframes to create our boxplots!\n",
        "- I went ahead and used most of the same styles as the histogram.\n",
        "- These boxplots will plot the MRP values of items based on item fat content."
      ],
      "metadata": {
        "id": "bEHGF5xOHYzR"
      }
    },
    {
      "cell_type": "code",
      "source": [
        "# Create the histogram plotting the MRP values based on item fat content.\n",
        "plt.style.use('seaborn')\n",
        "lowfat = df_lowfat['Item_MRP']\n",
        "regular = df_regular['Item_MRP']\n",
        "plt.boxplot([regular,lowfat], notch = True, labels=['Regular', 'Low Fat']);\n",
        "plt.title('Regular vs Non Fat Item MRP Values', fontsize = 20)\n",
        "plt.xlabel('Item Fat Content', fontsize = 16)\n",
        "plt.ylabel('Item MRP', fontsize = 16)"
      ],
      "metadata": {
        "colab": {
          "base_uri": "https://localhost:8080/"
        },
        "id": "d7cSfN12KtGl",
        "outputId": "d998452a-d07e-49fe-bf83-54e1a3f32192"
      },
      "execution_count": null,
      "outputs": [
        {
          "output_type": "stream",
          "name": "stderr",
          "text": [
            "/usr/local/lib/python3.7/dist-packages/matplotlib/cbook/__init__.py:1376: VisibleDeprecationWarning: Creating an ndarray from ragged nested sequences (which is a list-or-tuple of lists-or-tuples-or ndarrays with different lengths or shapes) is deprecated. If you meant to do this, you must specify 'dtype=object' when creating the ndarray.\n",
            "  X = np.atleast_1d(X.T if isinstance(X, np.ndarray) else np.asarray(X))\n"
          ]
        },
        {
          "output_type": "execute_result",
          "data": {
            "text/plain": [
              "Text(0, 0.5, 'Item MRP')"
            ]
          },
          "metadata": {},
          "execution_count": 36
        },
        {
          "output_type": "display_data",
          "data": {
            "text/plain": [
              "<Figure size 576x396 with 1 Axes>"
            ],
            "image/png": "[encoded data removed]"
          },
          "metadata": {}
        }
      ]
    },
    {
      "cell_type": "markdown",
      "source": [
        "- Based on my observations with the histogram comparing the Item MRP values of regular vs nonfat items, it doesnt appear as though there was any discrepancies in the Item MRP for both categories!\n",
        "- In addition, it looks as though the boxplot distributions of both item fat content categories are almost identical to each other. \n",
        "- Therefore, based on the overlap of the notches, we CANNOT conclude with a 95% confidence interval that the item fat content makes any significant difference in the distribution of Item MRP values.\n",
        "- Just to confirm that my observations about the boxplot visualization are correct, I will check the descriptive summaries of the Item MRP values for both Low Fat and Regular items."
      ],
      "metadata": {
        "id": "UzsLf_BtMGsd"
      }
    },
    {
      "cell_type": "code",
      "source": [
        "# Show descriptive statistics of Item_MRP column for the lowfat dataframe.\n",
        "# The median is set at around 142.\n",
        "df_lowfat['Item_MRP'].describe()"
      ],
      "metadata": {
        "colab": {
          "base_uri": "https://localhost:8080/"
        },
        "id": "EEttpwxrM0ob",
        "outputId": "418389f0-f294-42e2-e8e3-f7516be4532a"
      },
      "execution_count": null,
      "outputs": [
        {
          "output_type": "execute_result",
          "data": {
            "text/plain": [
              "count    5517.000000\n",
              "mean      140.714098\n",
              "std        62.311756\n",
              "min        31.290000\n",
              "25%        94.477800\n",
              "50%       142.081200\n",
              "75%       185.089800\n",
              "max       266.888400\n",
              "Name: Item_MRP, dtype: float64"
            ]
          },
          "metadata": {},
          "execution_count": 37
        }
      ]
    },
    {
      "cell_type": "code",
      "source": [
        "# Show descriptive statistics of Item_MRP column for the regular dataframe.\n",
        "# The median is set at around 144.\n",
        "df_regular['Item_MRP'].describe()"
      ],
      "metadata": {
        "colab": {
          "base_uri": "https://localhost:8080/"
        },
        "id": "sD4ul4muNLyo",
        "outputId": "ec568ad8-00ff-46cc-919e-2c5ee5ad1bfc"
      },
      "execution_count": null,
      "outputs": [
        {
          "output_type": "execute_result",
          "data": {
            "text/plain": [
              "count    3006.000000\n",
              "mean      141.504259\n",
              "std        62.214786\n",
              "min        32.055800\n",
              "25%        92.221200\n",
              "50%       144.044400\n",
              "75%       186.521400\n",
              "max       266.888400\n",
              "Name: Item_MRP, dtype: float64"
            ]
          },
          "metadata": {},
          "execution_count": 38
        }
      ]
    },
    {
      "cell_type": "markdown",
      "source": [
        "- Overall, the data summarization sets for both lowfat and regular items confirm my aforementioned conclusions."
      ],
      "metadata": {
        "id": "_XwIU9dsNo_C"
      }
    },
    {
      "cell_type": "markdown",
      "source": [
        "## **Creating a Correlation Heatmap**"
      ],
      "metadata": {
        "id": "U4xrtQbkN1x2"
      }
    },
    {
      "cell_type": "markdown",
      "source": [
        "- Let us see the heatmap to determine if there are any correlations in the dataset that would be of significance in our data analysis.\n",
        "- First, we need to obtain our correlation values of the dataset."
      ],
      "metadata": {
        "id": "YLB-_QW-OKNP"
      }
    },
    {
      "cell_type": "code",
      "source": [
        "# Save the correlation information under corr.\n",
        "corr = df_clean.corr()\n",
        "corr.head()"
      ],
      "metadata": {
        "colab": {
          "base_uri": "https://localhost:8080/"
        },
        "id": "K6GJDftcOJrp",
        "outputId": "3c14d0b4-c0be-43d0-b9da-f0a5bbb9f624"
      },
      "execution_count": null,
      "outputs": [
        {
          "output_type": "execute_result",
          "data": {
            "text/plain": [
              "                           Item_Weight  Item_Visibility  Item_MRP  \\\n",
              "Item_Weight                   1.000000        -0.012049  0.024756   \n",
              "Item_Visibility              -0.012049         1.000000 -0.001315   \n",
              "Item_MRP                      0.024756        -0.001315  1.000000   \n",
              "Outlet_Establishment_Year    -0.008301        -0.074834  0.005020   \n",
              "Item_Outlet_Sales             0.011550        -0.128625  0.567574   \n",
              "\n",
              "                           Outlet_Establishment_Year  Item_Outlet_Sales  \n",
              "Item_Weight                                -0.008301           0.011550  \n",
              "Item_Visibility                            -0.074834          -0.128625  \n",
              "Item_MRP                                    0.005020           0.567574  \n",
              "Outlet_Establishment_Year                   1.000000          -0.049135  \n",
              "Item_Outlet_Sales                          -0.049135           1.000000  "
            ],
            "text/html": [
              "\n",
              "  <div id=\"df-aea799a2-8dcd-4b6b-a1a6-018d6cbd8efb\">\n",
              "    <div class=\"colab-df-container\">\n",
              "      <div>\n",
              "<style scoped>\n",
              "    .dataframe tbody tr th:only-of-type {\n",
              "        vertical-align: middle;\n",
              "    }\n",
              "\n",
              "    .dataframe tbody tr th {\n",
              "        vertical-align: top;\n",
              "    }\n",
              "\n",
              "    .dataframe thead th {\n",
              "        text-align: right;\n",
              "    }\n",
              "</style>\n",
              "<table border=\"1\" class=\"dataframe\">\n",
              "  <thead>\n",
              "    <tr style=\"text-align: right;\">\n",
              "      <th></th>\n",
              "      <th>Item_Weight</th>\n",
              "      <th>Item_Visibility</th>\n",
              "      <th>Item_MRP</th>\n",
              "      <th>Outlet_Establishment_Year</th>\n",
              "      <th>Item_Outlet_Sales</th>\n",
              "    </tr>\n",
              "  </thead>\n",
              "  <tbody>\n",
              "    <tr>\n",
              "      <th>Item_Weight</th>\n",
              "      <td>1.000000</td>\n",
              "      <td>-0.012049</td>\n",
              "      <td>0.024756</td>\n",
              "      <td>-0.008301</td>\n",
              "      <td>0.011550</td>\n",
              "    </tr>\n",
              "    <tr>\n",
              "      <th>Item_Visibility</th>\n",
              "      <td>-0.012049</td>\n",
              "      <td>1.000000</td>\n",
              "      <td>-0.001315</td>\n",
              "      <td>-0.074834</td>\n",
              "      <td>-0.128625</td>\n",
              "    </tr>\n",
              "    <tr>\n",
              "      <th>Item_MRP</th>\n",
              "      <td>0.024756</td>\n",
              "      <td>-0.001315</td>\n",
              "      <td>1.000000</td>\n",
              "      <td>0.005020</td>\n",
              "      <td>0.567574</td>\n",
              "    </tr>\n",
              "    <tr>\n",
              "      <th>Outlet_Establishment_Year</th>\n",
              "      <td>-0.008301</td>\n",
              "      <td>-0.074834</td>\n",
              "      <td>0.005020</td>\n",
              "      <td>1.000000</td>\n",
              "      <td>-0.049135</td>\n",
              "    </tr>\n",
              "    <tr>\n",
              "      <th>Item_Outlet_Sales</th>\n",
              "      <td>0.011550</td>\n",
              "      <td>-0.128625</td>\n",
              "      <td>0.567574</td>\n",
              "      <td>-0.049135</td>\n",
              "      <td>1.000000</td>\n",
              "    </tr>\n",
              "  </tbody>\n",
              "</table>\n",
              "</div>\n",
              "      <button class=\"colab-df-convert\" onclick=\"convertToInteractive('df-aea799a2-8dcd-4b6b-a1a6-018d6cbd8efb')\"\n",
              "              title=\"Convert this dataframe to an interactive table.\"\n",
              "              style=\"display:none;\">\n",
              "        \n",
              "  <svg xmlns=\"http://www.w3.org/2000/svg\" height=\"24px\"viewBox=\"0 0 24 24\"\n",
              "       width=\"24px\">\n",
              "    <path d=\"M0 0h24v24H0V0z\" fill=\"none\"/>\n",
              "    <path d=\"M18.56 5.44l.94 2.06.94-2.06 2.06-.94-2.06-.94-.94-2.06-.94 2.06-2.06.94zm-11 1L8.5 8.5l.94-2.06 2.06-.94-2.06-.94L8.5 2.5l-.94 2.06-2.06.94zm10 10l.94 2.06.94-2.06 2.06-.94-2.06-.94-.94-2.06-.94 2.06-2.06.94z\"/><path d=\"M17.41 7.96l-1.37-1.37c-.4-.4-.92-.59-1.43-.59-.52 0-1.04.2-1.43.59L10.3 9.45l-7.72 7.72c-.78.78-.78 2.05 0 2.83L4 21.41c.39.39.9.59 1.41.59.51 0 1.02-.2 1.41-.59l7.78-7.78 2.81-2.81c.8-.78.8-2.07 0-2.86zM5.41 20L4 18.59l7.72-7.72 1.47 1.35L5.41 20z\"/>\n",
              "  </svg>\n",
              "      </button>\n",
              "      \n",
              "  <style>\n",
              "    .colab-df-container {\n",
              "      display:flex;\n",
              "      flex-wrap:wrap;\n",
              "      gap: 12px;\n",
              "    }\n",
              "\n",
              "    .colab-df-convert {\n",
              "      background-color: #E8F0FE;\n",
              "      border: none;\n",
              "      border-radius: 50%;\n",
              "      cursor: pointer;\n",
              "      display: none;\n",
              "      fill: #1967D2;\n",
              "      height: 32px;\n",
              "      padding: 0 0 0 0;\n",
              "      width: 32px;\n",
              "    }\n",
              "\n",
              "    .colab-df-convert:hover {\n",
              "      background-color: #E2EBFA;\n",
              "      box-shadow: 0px 1px 2px rgba(60, 64, 67, 0.3), 0px 1px 3px 1px rgba(60, 64, 67, 0.15);\n",
              "      fill: #174EA6;\n",
              "    }\n",
              "\n",
              "    [theme=dark] .colab-df-convert {\n",
              "      background-color: #3B4455;\n",
              "      fill: #D2E3FC;\n",
              "    }\n",
              "\n",
              "    [theme=dark] .colab-df-convert:hover {\n",
              "      background-color: #434B5C;\n",
              "      box-shadow: 0px 1px 3px 1px rgba(0, 0, 0, 0.15);\n",
              "      filter: drop-shadow(0px 1px 2px rgba(0, 0, 0, 0.3));\n",
              "      fill: #FFFFFF;\n",
              "    }\n",
              "  </style>\n",
              "\n",
              "      <script>\n",
              "        const buttonEl =\n",
              "          document.querySelector('#df-aea799a2-8dcd-4b6b-a1a6-018d6cbd8efb button.colab-df-convert');\n",
              "        buttonEl.style.display =\n",
              "          google.colab.kernel.accessAllowed ? 'block' : 'none';\n",
              "\n",
              "        async function convertToInteractive(key) {\n",
              "          const element = document.querySelector('#df-aea799a2-8dcd-4b6b-a1a6-018d6cbd8efb');\n",
              "          const dataTable =\n",
              "            await google.colab.kernel.invokeFunction('convertToInteractive',\n",
              "                                                     [key], {});\n",
              "          if (!dataTable) return;\n",
              "\n",
              "          const docLinkHtml = 'Like what you see? Visit the ' +\n",
              "            '<a target=\"_blank\" href=https://colab.research.google.com/notebooks/data_table.ipynb>data table notebook</a>'\n",
              "            + ' to learn more about interactive tables.';\n",
              "          element.innerHTML = '';\n",
              "          dataTable['output_type'] = 'display_data';\n",
              "          await google.colab.output.renderOutput(dataTable, element);\n",
              "          const docLink = document.createElement('div');\n",
              "          docLink.innerHTML = docLinkHtml;\n",
              "          element.appendChild(docLink);\n",
              "        }\n",
              "      </script>\n",
              "    </div>\n",
              "  </div>\n",
              "  "
            ]
          },
          "metadata": {},
          "execution_count": 39
        }
      ]
    },
    {
      "cell_type": "markdown",
      "source": [
        "- Now that we have our correlation values, let's check the heatmap and see where the correlation values lie."
      ],
      "metadata": {
        "id": "XQUFdXn3I1A5"
      }
    },
    {
      "cell_type": "code",
      "source": [
        "# Use the stored correlation values to generate the heatmap.\n",
        "sns.heatmap(corr, cmap = 'Reds', annot = True)"
      ],
      "metadata": {
        "colab": {
          "base_uri": "https://localhost:8080/"
        },
        "id": "9cplpsJjOspo",
        "outputId": "53194220-e41f-4a9b-a33f-950fc9ea0d1e"
      },
      "execution_count": null,
      "outputs": [
        {
          "output_type": "execute_result",
          "data": {
            "text/plain": [
              "<matplotlib.axes._subplots.AxesSubplot at 0x7f0a55d84810>"
            ]
          },
          "metadata": {},
          "execution_count": 40
        },
        {
          "output_type": "display_data",
          "data": {
            "text/plain": [
              "<Figure size 576x396 with 2 Axes>"
            ],
            "image/png": "[encoded data removed]"
          },
          "metadata": {}
        }
      ]
    },
    {
      "cell_type": "markdown",
      "source": [
        "- Very interesting heatmap indeed!\n",
        "- The only correlation value that really stands out is the 0.57 from the Item_MRP to Item_Outlet_Sales relationship.\n",
        "- This indicates that there is a moderate positive correlation between the 2 columns.\n",
        "- My reasoning behind this correlation would be that there may be a demand for higher MRP valued items that would drive up the value of item outlet sale values.\n",
        "- Also, the demand in general for those specific high-MRP items may help elevate the sale values for those outlets."
      ],
      "metadata": {
        "id": "VkRFZh8xPAbx"
      }
    },
    {
      "cell_type": "markdown",
      "source": [
        "## **Creating a Lineplot Showing Item Outlet Sales Based on Establishment Year**"
      ],
      "metadata": {
        "id": "nV80ugKlQEv7"
      }
    },
    {
      "cell_type": "markdown",
      "source": [
        "- I would definitely like to examine how the outlet establishment year affects the total sale numbers. A lineplot would definitely help us examine this further."
      ],
      "metadata": {
        "id": "W2PPMQ1tUac4"
      }
    },
    {
      "cell_type": "code",
      "source": [
        "# Obtain an overview of the data.\n",
        "df_clean.info()"
      ],
      "metadata": {
        "colab": {
          "base_uri": "https://localhost:8080/"
        },
        "id": "DOIcpGyNRsiW",
        "outputId": "1e475725-1a51-4ff7-912a-c1053c7fbe1a"
      },
      "execution_count": null,
      "outputs": [
        {
          "output_type": "stream",
          "name": "stdout",
          "text": [
            "<class 'pandas.core.frame.DataFrame'>\n",
            "RangeIndex: 8523 entries, 0 to 8522\n",
            "Data columns (total 11 columns):\n",
            " #   Column                     Non-Null Count  Dtype  \n",
            "---  ------                     --------------  -----  \n",
            " 0   Item_Identifier            8523 non-null   object \n",
            " 1   Item_Weight                8523 non-null   float64\n",
            " 2   Item_Fat_Content           8523 non-null   object \n",
            " 3   Item_Visibility            8523 non-null   float64\n",
            " 4   Item_Type                  8523 non-null   object \n",
            " 5   Item_MRP                   8523 non-null   float64\n",
            " 6   Outlet_Identifier          8523 non-null   object \n",
            " 7   Outlet_Establishment_Year  8523 non-null   int64  \n",
            " 8   Outlet_Location_Type       8523 non-null   object \n",
            " 9   Outlet_Type                8523 non-null   object \n",
            " 10  Item_Outlet_Sales          8523 non-null   float64\n",
            "dtypes: float64(4), int64(1), object(6)\n",
            "memory usage: 732.6+ KB\n"
          ]
        }
      ]
    },
    {
      "cell_type": "markdown",
      "source": [
        "- Let's aggregate the item outlet sales based on the outlet establishment year, then use this information to prepare plotting of the lineplot."
      ],
      "metadata": {
        "id": "mztrMsQ5KCV9"
      }
    },
    {
      "cell_type": "code",
      "source": [
        "# Create an array of total outlet sales with respect to establishment year.\n",
        "sales_year = df.groupby(['Outlet_Establishment_Year'])['Item_Outlet_Sales'].sum()\n",
        "sales_year"
      ],
      "metadata": {
        "colab": {
          "base_uri": "https://localhost:8080/"
        },
        "id": "8-GW2vCjUDZ3",
        "outputId": "f3c908a7-b9b2-410e-fb89-f03b4f09d5b5"
      },
      "execution_count": null,
      "outputs": [
        {
          "output_type": "execute_result",
          "data": {
            "text/plain": [
              "Outlet_Establishment_Year\n",
              "1985    3.633620e+06\n",
              "1987    2.142664e+06\n",
              "1997    2.118395e+06\n",
              "1998    1.883402e+05\n",
              "1999    2.183970e+06\n",
              "2002    2.036725e+06\n",
              "2004    2.268123e+06\n",
              "2007    2.167465e+06\n",
              "2009    1.851823e+06\n",
              "Name: Item_Outlet_Sales, dtype: float64"
            ]
          },
          "metadata": {},
          "execution_count": 42
        }
      ]
    },
    {
      "cell_type": "code",
      "source": [
        "# Converts the year information to NumPy array.\n",
        "year = np.array(sales_year.index)\n",
        "year"
      ],
      "metadata": {
        "colab": {
          "base_uri": "https://localhost:8080/"
        },
        "id": "ukaTDkNcZzZx",
        "outputId": "c21ac4ea-e8d3-41b9-cd76-03e699fc28f8"
      },
      "execution_count": null,
      "outputs": [
        {
          "output_type": "execute_result",
          "data": {
            "text/plain": [
              "array([1985, 1987, 1997, 1998, 1999, 2002, 2004, 2007, 2009])"
            ]
          },
          "metadata": {},
          "execution_count": 43
        }
      ]
    },
    {
      "cell_type": "code",
      "source": [
        "# Converts the sales information to NumPy array.\n",
        "sales = np.array(sales_year.values)\n",
        "sales"
      ],
      "metadata": {
        "colab": {
          "base_uri": "https://localhost:8080/"
        },
        "id": "RYAv309qaN-R",
        "outputId": "571174aa-7ad2-44ff-f527-20b5ff321ebb"
      },
      "execution_count": null,
      "outputs": [
        {
          "output_type": "execute_result",
          "data": {
            "text/plain": [
              "array([3633620.145 , 2142663.5782, 2118395.1682,  188340.1724,\n",
              "       2183969.8102, 2036725.477 , 2268122.9354, 2167465.294 ,\n",
              "       1851822.83  ])"
            ]
          },
          "metadata": {},
          "execution_count": 44
        }
      ]
    },
    {
      "cell_type": "markdown",
      "source": [
        "- Now that we have the information stored and prepared, let's go ahead and plot them on a lineplot using Matlab-style."
      ],
      "metadata": {
        "id": "JFBWQU-IKXcN"
      }
    },
    {
      "cell_type": "code",
      "source": [
        "# Use Matlab-style to perform the lineplot visualization process for outlet sales.\n",
        "plt.style.use('seaborn')\n",
        "plt.figure(figsize=(12,8))\n",
        "plt.plot(year, sales, c= 'blue', marker = '^', markersize = 10)\n",
        "plt.xlim(left=1985,right=2009)\n",
        "plt.ylim(bottom=0,top=4000000)\n",
        "plt.grid(axis = 'y',\n",
        "         c = 'orange', \n",
        "         alpha = .4,\n",
        "         linestyle = '-')\n",
        "plt.xlabel('Year', fontsize = 16)\n",
        "plt.ylabel('Outlet Sales ($ Million)', fontsize = 16)\n",
        "plt.title('Total Item Outlet Sales By Outlet Establishment Year', fontsize = 20)"
      ],
      "metadata": {
        "colab": {
          "base_uri": "https://localhost:8080/"
        },
        "id": "1F2W_BdHahEn",
        "outputId": "39396596-ab07-48d7-aca9-c9fa444685a6"
      },
      "execution_count": null,
      "outputs": [
        {
          "output_type": "execute_result",
          "data": {
            "text/plain": [
              "Text(0.5, 1.0, 'Total Item Outlet Sales By Outlet Establishment Year')"
            ]
          },
          "metadata": {},
          "execution_count": 45
        },
        {
          "output_type": "display_data",
          "data": {
            "text/plain": [
              "<Figure size 864x576 with 1 Axes>"
            ],
            "image/png": "[encoded data removed]"
          },
          "metadata": {}
        }
      ]
    },
    {
      "cell_type": "markdown",
      "source": [
        "- Based on what I am observing, it seems that the total item outlet sales are fairly consistent on an establishment year by year basis, but the one year that seems to be a huge outlier would be 1998.\n",
        "- Maybe there were not a lot of outlets established that year, or maybe that year was not an optimal year in terms of item sales.\n",
        "- Nevertheless, more information may need to be obtained in regards to what could have caused a major dip in sales for that specific year."
      ],
      "metadata": {
        "id": "E6tUsCxxgtRd"
      }
    },
    {
      "cell_type": "markdown",
      "source": [
        "## **Creating a Scatterplot Showing Item Outlet Sales Based on Item Visibility**"
      ],
      "metadata": {
        "id": "rZvQzsT6KntR"
      }
    },
    {
      "cell_type": "markdown",
      "source": [
        "- I would like to create a scatterplot of the data that shows how item visibility affects the sale values of the item.\n",
        "- As always, lets prepare the arrays needed to perform the scatterplot plotting."
      ],
      "metadata": {
        "id": "zrGn3R4Z-3wy"
      }
    },
    {
      "cell_type": "code",
      "source": [
        "# Create a couple of arrays that will allow us to create the scatterplot.\n",
        "visibility = df_clean['Item_Visibility'].values\n",
        "sales = df_clean['Item_Outlet_Sales'].values"
      ],
      "metadata": {
        "id": "wAOaREyqdikC"
      },
      "execution_count": null,
      "outputs": []
    },
    {
      "cell_type": "code",
      "source": [
        "# Let's examine what outlet types lie within the column.\n",
        "df_clean['Outlet_Type'].unique()"
      ],
      "metadata": {
        "colab": {
          "base_uri": "https://localhost:8080/"
        },
        "id": "q0x56fP7E-Ou",
        "outputId": "083dad4d-29f9-4071-b8c3-f6dde8fc3803"
      },
      "execution_count": null,
      "outputs": [
        {
          "output_type": "execute_result",
          "data": {
            "text/plain": [
              "array(['Supermarket Type1', 'Supermarket Type2', 'Grocery Store',\n",
              "       'Supermarket Type3'], dtype=object)"
            ]
          },
          "metadata": {},
          "execution_count": 47
        }
      ]
    },
    {
      "cell_type": "markdown",
      "source": [
        "- Now that I have the data values prepared, let's use Seaborn to perform the visualiation process for plotting item outlet sales against item visibility."
      ],
      "metadata": {
        "id": "p2PbCEuxK_Ft"
      }
    },
    {
      "cell_type": "code",
      "source": [
        "# Use Seaborn to perform the scatterplot visualization process for outlet sales.\n",
        "plt.figure(figsize=(12,8))\n",
        "sns.scatterplot(data=df_clean, x='Item_Visibility', y='Item_Outlet_Sales', hue= 'Outlet_Type')\n",
        "plt.xlim(left=-0.01,right=0.35)\n",
        "plt.ylim(bottom=-500,top=14000)\n",
        "plt.xlabel('Item Visibility (Normalized)', fontsize = 16)\n",
        "plt.ylabel('Outlet Sales ($)', fontsize = 16)\n",
        "plt.title('Distribution of Item Sales vs Visibility by Outlet Type', fontsize = 24)"
      ],
      "metadata": {
        "colab": {
          "base_uri": "https://localhost:8080/"
        },
        "id": "y0opC_wHACw_",
        "outputId": "d244ccb2-ffbf-4205-e1b3-bd5a14e5b1be"
      },
      "execution_count": null,
      "outputs": [
        {
          "output_type": "execute_result",
          "data": {
            "text/plain": [
              "Text(0.5, 1.0, 'Distribution of Item Sales vs Visibility by Outlet Type')"
            ]
          },
          "metadata": {},
          "execution_count": 48
        },
        {
          "output_type": "display_data",
          "data": {
            "text/plain": [
              "<Figure size 864x576 with 1 Axes>"
            ],
            "image/png": "[encoded data removed]"
          },
          "metadata": {}
        }
      ]
    },
    {
      "cell_type": "markdown",
      "source": [
        "- Based on the scatterplot, it seems that there is somewhat of an inverse relationship between item visibility and outlet sales of each item.\n",
        "- This is justifiable, as the more expensive the item is, the less visible and the lesser inventory the item is.\n",
        "- Grocery stores tend to have the highest distribution of visibility values, due to the nature of how the items are sold and made available to the consumers(food items tend to sell at lower costs in general).\n",
        "- On the other hand, it looks like the supermarket types tend to have the greatest distribution of outlet sale values also due in part to the nature of the item sales (merchandise and bulk items, as well as appliances and electronics may contribute to this). Bulk grocery items could also fall into the same scenario as well.\n",
        "- I believe one way to improve upon the item sales is to increase the variety of items sold at grocery stores. Since item visibility does not seem to play a major role in altering the value of items sold at grocery stores, by doing so, it may help lower item visibility of other items a bit, which may slightly increase the value at which each grocery store item is sold (consumers have the power of more choices).\n",
        "- The same could also be applied to supermarkets, but it may be more difficult to do so due to the already high variety of items in supermarkets. It may be more appropriate to phase out items with minimal visibility or promote those same items as part of a sale to increase quantities of those items sold."
      ],
      "metadata": {
        "id": "hPF_7catGkJC"
      }
    },
    {
      "cell_type": "markdown",
      "source": [
        "# **Data Modeling Preparation**"
      ],
      "metadata": {
        "id": "1u8Wr5fLGDjt"
      }
    },
    {
      "cell_type": "markdown",
      "source": [
        "## **Overview**"
      ],
      "metadata": {
        "id": "zg_tz0XjWS-V"
      }
    },
    {
      "cell_type": "markdown",
      "source": [
        "- Now that we have a general idea of how our data looks and is visualized after the cleaning process, what would happen if we wanted to prepare our dataset for machine learning? We can definitely make it possible!\n",
        "- For the purpose of preparing our dataset for machine learning and avoiding any data leakage of our model predictions, we will revert back to the original dataset prior to the data cleaning process.\n",
        "- Let's examine the original dataset and see what we originally had."
      ],
      "metadata": {
        "id": "0BZBAY62GOSA"
      }
    },
    {
      "cell_type": "code",
      "source": [
        "# Let's get an overview of the original uncleaned dataset.\n",
        "df.info()"
      ],
      "metadata": {
        "colab": {
          "base_uri": "https://localhost:8080/"
        },
        "id": "KOhEcNh2GJ37",
        "outputId": "6efc1139-1c6e-465c-9e9e-4c301c4e399a"
      },
      "execution_count": null,
      "outputs": [
        {
          "output_type": "stream",
          "name": "stdout",
          "text": [
            "<class 'pandas.core.frame.DataFrame'>\n",
            "RangeIndex: 8523 entries, 0 to 8522\n",
            "Data columns (total 12 columns):\n",
            " #   Column                     Non-Null Count  Dtype  \n",
            "---  ------                     --------------  -----  \n",
            " 0   Item_Identifier            8523 non-null   object \n",
            " 1   Item_Weight                7060 non-null   float64\n",
            " 2   Item_Fat_Content           8523 non-null   object \n",
            " 3   Item_Visibility            8523 non-null   float64\n",
            " 4   Item_Type                  8523 non-null   object \n",
            " 5   Item_MRP                   8523 non-null   float64\n",
            " 6   Outlet_Identifier          8523 non-null   object \n",
            " 7   Outlet_Establishment_Year  8523 non-null   int64  \n",
            " 8   Outlet_Size                6113 non-null   object \n",
            " 9   Outlet_Location_Type       8523 non-null   object \n",
            " 10  Outlet_Type                8523 non-null   object \n",
            " 11  Item_Outlet_Sales          8523 non-null   float64\n",
            "dtypes: float64(4), int64(1), object(7)\n",
            "memory usage: 799.2+ KB\n"
          ]
        }
      ]
    },
    {
      "cell_type": "markdown",
      "source": [
        "- Obviously, let's check for any duplicated entries before any further analysis."
      ],
      "metadata": {
        "id": "03ShlLnHHgl1"
      }
    },
    {
      "cell_type": "code",
      "source": [
        "# Checks if there are any duplicated entries.\n",
        "df.duplicated().sum()"
      ],
      "metadata": {
        "colab": {
          "base_uri": "https://localhost:8080/"
        },
        "id": "uHK73Bt3HkvQ",
        "outputId": "1a54f83c-7d47-421c-a55f-ec44e8d73c0f"
      },
      "execution_count": null,
      "outputs": [
        {
          "output_type": "execute_result",
          "data": {
            "text/plain": [
              "0"
            ]
          },
          "metadata": {},
          "execution_count": 50
        }
      ]
    },
    {
      "cell_type": "markdown",
      "source": [
        "- No duplicate entries, so that's good.\n",
        "- Let's see where our missing entries lie."
      ],
      "metadata": {
        "id": "1hDYQ_22HpSJ"
      }
    },
    {
      "cell_type": "code",
      "source": [
        "# Checks columns for missing values.\n",
        "df.isna().sum()"
      ],
      "metadata": {
        "colab": {
          "base_uri": "https://localhost:8080/"
        },
        "id": "lWdX8nPZH3u_",
        "outputId": "c31036d9-950e-48dd-a7a5-af82f07ecce3"
      },
      "execution_count": null,
      "outputs": [
        {
          "output_type": "execute_result",
          "data": {
            "text/plain": [
              "Item_Identifier                 0\n",
              "Item_Weight                  1463\n",
              "Item_Fat_Content                0\n",
              "Item_Visibility                 0\n",
              "Item_Type                       0\n",
              "Item_MRP                        0\n",
              "Outlet_Identifier               0\n",
              "Outlet_Establishment_Year       0\n",
              "Outlet_Size                  2410\n",
              "Outlet_Location_Type            0\n",
              "Outlet_Type                     0\n",
              "Item_Outlet_Sales               0\n",
              "dtype: int64"
            ]
          },
          "metadata": {},
          "execution_count": 51
        }
      ]
    },
    {
      "cell_type": "markdown",
      "source": [
        "## **Identifying Features of the Dataset**\n",
        "\n",
        "- So far, we see missing values in the Item_Weight and Outlet_Size columns.\n",
        "- Before we delve into this, let's define what our ordinal, nominal, and numeric features are.\n",
        "  - Numeric Features: Item_Weight, Item_Visibility, Item_MRP, Item_Outlet_Sales\n",
        "  - Ordinal Features: Outlet_Size\n",
        "  - Nominal Features: Item_Fat_Content, Item_Type, Outlet_Location_Type, Outlet_Type\n",
        "- Note that Item_Identifier, Outlet_Identifier, and Outlet_Establishment_Year are not really considered features. Item and outlet identifier numbers don't really provide any useful information in data aggregation for the dataset, and outlet establishment year is a date format and does not contribute much at all to model fitting with respect to item sales."
      ],
      "metadata": {
        "id": "lmwBb_8fIOaL"
      }
    },
    {
      "cell_type": "markdown",
      "source": [
        "## **Ordinal Encoding**\n",
        "\n",
        "- Let's attempt to ordinal encode the outlet size column to numeric values prior to validation splitting."
      ],
      "metadata": {
        "id": "lj4u2owROoD3"
      }
    },
    {
      "cell_type": "code",
      "source": [
        "# Obtain the value counts of the Outlet_Size column.\n",
        "df['Outlet_Size'].value_counts()"
      ],
      "metadata": {
        "colab": {
          "base_uri": "https://localhost:8080/"
        },
        "id": "_I7EzxxAPWKh",
        "outputId": "f5ad5a56-b527-48a2-f6c0-4819b7a4a27b"
      },
      "execution_count": null,
      "outputs": [
        {
          "output_type": "execute_result",
          "data": {
            "text/plain": [
              "Medium    2793\n",
              "Small     2388\n",
              "High       932\n",
              "Name: Outlet_Size, dtype: int64"
            ]
          },
          "metadata": {},
          "execution_count": 52
        }
      ]
    },
    {
      "cell_type": "code",
      "source": [
        "# Obtain the unique values of the Outlet_Size column.\n",
        "df['Outlet_Size'].unique()"
      ],
      "metadata": {
        "colab": {
          "base_uri": "https://localhost:8080/"
        },
        "id": "VrBWCaxiQv94",
        "outputId": "c8289caf-6b3d-4495-ad4a-3d0676f5b0e1"
      },
      "execution_count": null,
      "outputs": [
        {
          "output_type": "execute_result",
          "data": {
            "text/plain": [
              "array(['Medium', nan, 'High', 'Small'], dtype=object)"
            ]
          },
          "metadata": {},
          "execution_count": 53
        }
      ]
    },
    {
      "cell_type": "markdown",
      "source": [
        "- Since there is no way to replace the nan values with 'Missing' and be able to fit this feature as ordinal prior to validation splitting, we would have no choice but to perform the ordinal encoding process after the validation split for the purpose of model fitting."
      ],
      "metadata": {
        "id": "wptFBp3NPqpb"
      }
    },
    {
      "cell_type": "markdown",
      "source": [
        "## **Validation Splitting**\n",
        "\n",
        "- Based on the task at hand, we will assign the Item_Outlet_Sales column as the target vector, and the remainder of the aforementioned columns as the feature matrix.\n",
        "- We will not include the identifiers and date information in the feature matrix.\n",
        "- Let's go ahead and perform our validation split using random state 42 for consistency purposes."
      ],
      "metadata": {
        "id": "A0WfmbgMMri5"
      }
    },
    {
      "cell_type": "code",
      "source": [
        "# Perform the validation split of the cereals dataset.\n",
        "X = df.drop(columns = ['Item_Outlet_Sales', 'Item_Identifier', 'Outlet_Identifier','Outlet_Establishment_Year'])\n",
        "y = df['Item_Outlet_Sales']\n",
        "# Let's perform the validation split.\n",
        "X_train, X_test, y_train, y_test = train_test_split(X, y, random_state=42)"
      ],
      "metadata": {
        "id": "A_SQDWy_Icqa"
      },
      "execution_count": null,
      "outputs": []
    },
    {
      "cell_type": "code",
      "source": [
        "# Let's check the features matrix to see what columns are included.\n",
        "X.columns"
      ],
      "metadata": {
        "colab": {
          "base_uri": "https://localhost:8080/"
        },
        "id": "d4qVEPF_LowB",
        "outputId": "50b042b2-0251-4907-baf3-25adf24a1cff"
      },
      "execution_count": null,
      "outputs": [
        {
          "output_type": "execute_result",
          "data": {
            "text/plain": [
              "Index(['Item_Weight', 'Item_Fat_Content', 'Item_Visibility', 'Item_Type',\n",
              "       'Item_MRP', 'Outlet_Size', 'Outlet_Location_Type', 'Outlet_Type'],\n",
              "      dtype='object')"
            ]
          },
          "metadata": {},
          "execution_count": 55
        }
      ]
    },
    {
      "cell_type": "code",
      "source": [
        "# Let's verify that the target variable y is the Item_Outlet_Sales.\n",
        "y"
      ],
      "metadata": {
        "colab": {
          "base_uri": "https://localhost:8080/"
        },
        "id": "2ikvaHY3LuSy",
        "outputId": "3a860010-67ea-4044-cb28-d6b55a7c68da"
      },
      "execution_count": null,
      "outputs": [
        {
          "output_type": "execute_result",
          "data": {
            "text/plain": [
              "0       3735.1380\n",
              "1        443.4228\n",
              "2       2097.2700\n",
              "3        732.3800\n",
              "4        994.7052\n",
              "          ...    \n",
              "8518    2778.3834\n",
              "8519     549.2850\n",
              "8520    1193.1136\n",
              "8521    1845.5976\n",
              "8522     765.6700\n",
              "Name: Item_Outlet_Sales, Length: 8523, dtype: float64"
            ]
          },
          "metadata": {},
          "execution_count": 56
        }
      ]
    },
    {
      "cell_type": "markdown",
      "source": [
        "## **Instantiation Process**\n",
        "\n",
        "- To prepare for model fitting, let's go ahead and start the instantiation process of our selectors and transformers.\n",
        "- First off, lets instantiate our column selectors and the specific columns for certain imputation processes."
      ],
      "metadata": {
        "id": "y0WxqweaMJZZ"
      }
    },
    {
      "cell_type": "code",
      "source": [
        "# Instantiate the selectors for categorical and numeric columns accordingly.\n",
        "ordinal_col = ['Outlet_Size']\n",
        "nominal_col = ['Item_Fat_Content', 'Item_Type', 'Outlet_Location_Type', 'Outlet_Type']\n",
        "num_selector = make_column_selector(dtype_include='number')"
      ],
      "metadata": {
        "id": "3Y1jApZPNQ8A"
      },
      "execution_count": null,
      "outputs": []
    },
    {
      "cell_type": "markdown",
      "source": [
        "- Next, lets instantiate our imputers.\n",
        "- For numeric features, I plan on using the mean imputer to fill in the missing values.\n",
        "- For nominal features, due to the sheer volume of missing values from those columns, I would have to use a constant value as 'Missing' to fill in the missing values.\n",
        "- For ordinal features, I would use the most frequent value imputer here."
      ],
      "metadata": {
        "id": "MGJTG6fJOZwY"
      }
    },
    {
      "cell_type": "code",
      "source": [
        "# Create labels for ordinal encoding of Outlet_Size column.\n",
        "size_labels = ['Small','Medium','High']\n",
        "ordered_labels = [size_labels]\n",
        "ordered_labels"
      ],
      "metadata": {
        "colab": {
          "base_uri": "https://localhost:8080/"
        },
        "id": "Tf5R6k8_TH4j",
        "outputId": "1d2d8fc4-1c61-4731-9164-3772d9c5f506"
      },
      "execution_count": null,
      "outputs": [
        {
          "output_type": "execute_result",
          "data": {
            "text/plain": [
              "[['Small', 'Medium', 'High']]"
            ]
          },
          "metadata": {},
          "execution_count": 58
        }
      ]
    },
    {
      "cell_type": "code",
      "source": [
        "# Instantiate imputers\n",
        "mean_imputer = SimpleImputer(strategy='mean')\n",
        "freq_imputer = SimpleImputer(strategy='most_frequent')\n",
        "missing_imputer = SimpleImputer(strategy='constant', fill_value='Missing')\n",
        "# Instantiate StandardScaler\n",
        "scaler = StandardScaler()\n",
        "scaler2 = StandardScaler()\n",
        "# Instantiate One-hot encoder\n",
        "ohe = OneHotEncoder(handle_unknown='ignore', sparse=False)\n",
        "# Instantiate the OrdinalEncoder\n",
        "ordinal_enc = OrdinalEncoder(categories=ordered_labels)"
      ],
      "metadata": {
        "id": "qNuk6trIOSTf"
      },
      "execution_count": null,
      "outputs": []
    },
    {
      "cell_type": "markdown",
      "source": [
        "- Now that we have our imputers instantiated, it is time to create the pipelines needed to perform the transformation process of our datasets."
      ],
      "metadata": {
        "id": "L5XhhWlFRW0v"
      }
    },
    {
      "cell_type": "code",
      "source": [
        "# Create the numeric pipeline\n",
        "numeric_pipe = make_pipeline(mean_imputer, scaler)\n",
        "numeric_pipe"
      ],
      "metadata": {
        "colab": {
          "base_uri": "https://localhost:8080/"
        },
        "id": "tAJzQaHNQ0Cy",
        "outputId": "1bee549b-4541-4ed2-a6fc-6a3437e2ef82"
      },
      "execution_count": null,
      "outputs": [
        {
          "output_type": "execute_result",
          "data": {
            "text/plain": [
              "Pipeline(steps=[('simpleimputer', SimpleImputer()),\n",
              "                ('standardscaler', StandardScaler())])"
            ],
            "text/html": [
              "<style>#sk-394f9a2a-6e1d-4d0c-8630-17a67fe1b2e7 {color: black;background-color: white;}#sk-394f9a2a-6e1d-4d0c-8630-17a67fe1b2e7 pre{padding: 0;}#sk-394f9a2a-6e1d-4d0c-8630-17a67fe1b2e7 div.sk-toggleable {background-color: white;}#sk-394f9a2a-6e1d-4d0c-8630-17a67fe1b2e7 label.sk-toggleable__label {cursor: pointer;display: block;width: 100%;margin-bottom: 0;padding: 0.3em;box-sizing: border-box;text-align: center;}#sk-394f9a2a-6e1d-4d0c-8630-17a67fe1b2e7 label.sk-toggleable__label-arrow:before {content: \"▸\";float: left;margin-right: 0.25em;color: #696969;}#sk-394f9a2a-6e1d-4d0c-8630-17a67fe1b2e7 label.sk-toggleable__label-arrow:hover:before {color: black;}#sk-394f9a2a-6e1d-4d0c-8630-17a67fe1b2e7 div.sk-estimator:hover label.sk-toggleable__label-arrow:before {color: black;}#sk-394f9a2a-6e1d-4d0c-8630-17a67fe1b2e7 div.sk-toggleable__content {max-height: 0;max-width: 0;overflow: hidden;text-align: left;background-color: #f0f8ff;}#sk-394f9a2a-6e1d-4d0c-8630-17a67fe1b2e7 div.sk-toggleable__content pre {margin: 0.2em;color: black;border-radius: 0.25em;background-color: #f0f8ff;}#sk-394f9a2a-6e1d-4d0c-8630-17a67fe1b2e7 input.sk-toggleable__control:checked~div.sk-toggleable__content {max-height: 200px;max-width: 100%;overflow: auto;}#sk-394f9a2a-6e1d-4d0c-8630-17a67fe1b2e7 input.sk-toggleable__control:checked~label.sk-toggleable__label-arrow:before {content: \"▾\";}#sk-394f9a2a-6e1d-4d0c-8630-17a67fe1b2e7 div.sk-estimator input.sk-toggleable__control:checked~label.sk-toggleable__label {background-color: #d4ebff;}#sk-394f9a2a-6e1d-4d0c-8630-17a67fe1b2e7 div.sk-label input.sk-toggleable__control:checked~label.sk-toggleable__label {background-color: #d4ebff;}#sk-394f9a2a-6e1d-4d0c-8630-17a67fe1b2e7 input.sk-hidden--visually {border: 0;clip: rect(1px 1px 1px 1px);clip: rect(1px, 1px, 1px, 1px);height: 1px;margin: -1px;overflow: hidden;padding: 0;position: absolute;width: 1px;}#sk-394f9a2a-6e1d-4d0c-8630-17a67fe1b2e7 div.sk-estimator {font-family: monospace;background-color: #f0f8ff;border: 1px dotted black;border-radius: 0.25em;box-sizing: border-box;margin-bottom: 0.5em;}#sk-394f9a2a-6e1d-4d0c-8630-17a67fe1b2e7 div.sk-estimator:hover {background-color: #d4ebff;}#sk-394f9a2a-6e1d-4d0c-8630-17a67fe1b2e7 div.sk-parallel-item::after {content: \"\";width: 100%;border-bottom: 1px solid gray;flex-grow: 1;}#sk-394f9a2a-6e1d-4d0c-8630-17a67fe1b2e7 div.sk-label:hover label.sk-toggleable__label {background-color: #d4ebff;}#sk-394f9a2a-6e1d-4d0c-8630-17a67fe1b2e7 div.sk-serial::before {content: \"\";position: absolute;border-left: 1px solid gray;box-sizing: border-box;top: 2em;bottom: 0;left: 50%;}#sk-394f9a2a-6e1d-4d0c-8630-17a67fe1b2e7 div.sk-serial {display: flex;flex-direction: column;align-items: center;background-color: white;padding-right: 0.2em;padding-left: 0.2em;}#sk-394f9a2a-6e1d-4d0c-8630-17a67fe1b2e7 div.sk-item {z-index: 1;}#sk-394f9a2a-6e1d-4d0c-8630-17a67fe1b2e7 div.sk-parallel {display: flex;align-items: stretch;justify-content: center;background-color: white;}#sk-394f9a2a-6e1d-4d0c-8630-17a67fe1b2e7 div.sk-parallel::before {content: \"\";position: absolute;border-left: 1px solid gray;box-sizing: border-box;top: 2em;bottom: 0;left: 50%;}#sk-394f9a2a-6e1d-4d0c-8630-17a67fe1b2e7 div.sk-parallel-item {display: flex;flex-direction: column;position: relative;background-color: white;}#sk-394f9a2a-6e1d-4d0c-8630-17a67fe1b2e7 div.sk-parallel-item:first-child::after {align-self: flex-end;width: 50%;}#sk-394f9a2a-6e1d-4d0c-8630-17a67fe1b2e7 div.sk-parallel-item:last-child::after {align-self: flex-start;width: 50%;}#sk-394f9a2a-6e1d-4d0c-8630-17a67fe1b2e7 div.sk-parallel-item:only-child::after {width: 0;}#sk-394f9a2a-6e1d-4d0c-8630-17a67fe1b2e7 div.sk-dashed-wrapped {border: 1px dashed gray;margin: 0 0.4em 0.5em 0.4em;box-sizing: border-box;padding-bottom: 0.4em;background-color: white;position: relative;}#sk-394f9a2a-6e1d-4d0c-8630-17a67fe1b2e7 div.sk-label label {font-family: monospace;font-weight: bold;background-color: white;display: inline-block;line-height: 1.2em;}#sk-394f9a2a-6e1d-4d0c-8630-17a67fe1b2e7 div.sk-label-container {position: relative;z-index: 2;text-align: center;}#sk-394f9a2a-6e1d-4d0c-8630-17a67fe1b2e7 div.sk-container {/* jupyter's `normalize.less` sets `[hidden] { display: none; }` but bootstrap.min.css set `[hidden] { display: none !important; }` so we also need the `!important` here to be able to override the default hidden behavior on the sphinx rendered scikit-learn.org. See: https://github.com/scikit-learn/scikit-learn/issues/21755 */display: inline-block !important;position: relative;}#sk-394f9a2a-6e1d-4d0c-8630-17a67fe1b2e7 div.sk-text-repr-fallback {display: none;}</style><div id=\"sk-394f9a2a-6e1d-4d0c-8630-17a67fe1b2e7\" class=\"sk-top-container\"><div class=\"sk-text-repr-fallback\"><pre>Pipeline(steps=[(&#x27;simpleimputer&#x27;, SimpleImputer()),\n",
              "                (&#x27;standardscaler&#x27;, StandardScaler())])</pre><b>Please rerun this cell to show the HTML repr or trust the notebook.</b></div><div class=\"sk-container\" hidden><div class=\"sk-item sk-dashed-wrapped\"><div class=\"sk-label-container\"><div class=\"sk-label sk-toggleable\"><input class=\"sk-toggleable__control sk-hidden--visually\" id=\"52fbd4a1-ba9d-40e3-8563-a0a8d41d9685\" type=\"checkbox\" ><label for=\"52fbd4a1-ba9d-40e3-8563-a0a8d41d9685\" class=\"sk-toggleable__label sk-toggleable__label-arrow\">Pipeline</label><div class=\"sk-toggleable__content\"><pre>Pipeline(steps=[(&#x27;simpleimputer&#x27;, SimpleImputer()),\n",
              "                (&#x27;standardscaler&#x27;, StandardScaler())])</pre></div></div></div><div class=\"sk-serial\"><div class=\"sk-item\"><div class=\"sk-estimator sk-toggleable\"><input class=\"sk-toggleable__control sk-hidden--visually\" id=\"46c9c15d-8c75-47a2-b69e-3a63267518c6\" type=\"checkbox\" ><label for=\"46c9c15d-8c75-47a2-b69e-3a63267518c6\" class=\"sk-toggleable__label sk-toggleable__label-arrow\">SimpleImputer</label><div class=\"sk-toggleable__content\"><pre>SimpleImputer()</pre></div></div></div><div class=\"sk-item\"><div class=\"sk-estimator sk-toggleable\"><input class=\"sk-toggleable__control sk-hidden--visually\" id=\"fa3879d0-d45d-44b0-a6ef-801988bf0eb3\" type=\"checkbox\" ><label for=\"fa3879d0-d45d-44b0-a6ef-801988bf0eb3\" class=\"sk-toggleable__label sk-toggleable__label-arrow\">StandardScaler</label><div class=\"sk-toggleable__content\"><pre>StandardScaler()</pre></div></div></div></div></div></div></div>"
            ]
          },
          "metadata": {},
          "execution_count": 60
        }
      ]
    },
    {
      "cell_type": "code",
      "source": [
        "# Create the nominal pipeline\n",
        "nominal_pipe = make_pipeline(missing_imputer, ohe)\n",
        "nominal_pipe"
      ],
      "metadata": {
        "colab": {
          "base_uri": "https://localhost:8080/"
        },
        "id": "XZcuAj-yQ2eQ",
        "outputId": "afe8d6b1-a9ad-4198-8733-427630fbfbca"
      },
      "execution_count": null,
      "outputs": [
        {
          "output_type": "execute_result",
          "data": {
            "text/plain": [
              "Pipeline(steps=[('simpleimputer',\n",
              "                 SimpleImputer(fill_value='Missing', strategy='constant')),\n",
              "                ('onehotencoder',\n",
              "                 OneHotEncoder(handle_unknown='ignore', sparse=False))])"
            ],
            "text/html": [
              "<style>#sk-d132c539-3dfc-4981-be27-1801d38ba2bf {color: black;background-color: white;}#sk-d132c539-3dfc-4981-be27-1801d38ba2bf pre{padding: 0;}#sk-d132c539-3dfc-4981-be27-1801d38ba2bf div.sk-toggleable {background-color: white;}#sk-d132c539-3dfc-4981-be27-1801d38ba2bf label.sk-toggleable__label {cursor: pointer;display: block;width: 100%;margin-bottom: 0;padding: 0.3em;box-sizing: border-box;text-align: center;}#sk-d132c539-3dfc-4981-be27-1801d38ba2bf label.sk-toggleable__label-arrow:before {content: \"▸\";float: left;margin-right: 0.25em;color: #696969;}#sk-d132c539-3dfc-4981-be27-1801d38ba2bf label.sk-toggleable__label-arrow:hover:before {color: black;}#sk-d132c539-3dfc-4981-be27-1801d38ba2bf div.sk-estimator:hover label.sk-toggleable__label-arrow:before {color: black;}#sk-d132c539-3dfc-4981-be27-1801d38ba2bf div.sk-toggleable__content {max-height: 0;max-width: 0;overflow: hidden;text-align: left;background-color: #f0f8ff;}#sk-d132c539-3dfc-4981-be27-1801d38ba2bf div.sk-toggleable__content pre {margin: 0.2em;color: black;border-radius: 0.25em;background-color: #f0f8ff;}#sk-d132c539-3dfc-4981-be27-1801d38ba2bf input.sk-toggleable__control:checked~div.sk-toggleable__content {max-height: 200px;max-width: 100%;overflow: auto;}#sk-d132c539-3dfc-4981-be27-1801d38ba2bf input.sk-toggleable__control:checked~label.sk-toggleable__label-arrow:before {content: \"▾\";}#sk-d132c539-3dfc-4981-be27-1801d38ba2bf div.sk-estimator input.sk-toggleable__control:checked~label.sk-toggleable__label {background-color: #d4ebff;}#sk-d132c539-3dfc-4981-be27-1801d38ba2bf div.sk-label input.sk-toggleable__control:checked~label.sk-toggleable__label {background-color: #d4ebff;}#sk-d132c539-3dfc-4981-be27-1801d38ba2bf input.sk-hidden--visually {border: 0;clip: rect(1px 1px 1px 1px);clip: rect(1px, 1px, 1px, 1px);height: 1px;margin: -1px;overflow: hidden;padding: 0;position: absolute;width: 1px;}#sk-d132c539-3dfc-4981-be27-1801d38ba2bf div.sk-estimator {font-family: monospace;background-color: #f0f8ff;border: 1px dotted black;border-radius: 0.25em;box-sizing: border-box;margin-bottom: 0.5em;}#sk-d132c539-3dfc-4981-be27-1801d38ba2bf div.sk-estimator:hover {background-color: #d4ebff;}#sk-d132c539-3dfc-4981-be27-1801d38ba2bf div.sk-parallel-item::after {content: \"\";width: 100%;border-bottom: 1px solid gray;flex-grow: 1;}#sk-d132c539-3dfc-4981-be27-1801d38ba2bf div.sk-label:hover label.sk-toggleable__label {background-color: #d4ebff;}#sk-d132c539-3dfc-4981-be27-1801d38ba2bf div.sk-serial::before {content: \"\";position: absolute;border-left: 1px solid gray;box-sizing: border-box;top: 2em;bottom: 0;left: 50%;}#sk-d132c539-3dfc-4981-be27-1801d38ba2bf div.sk-serial {display: flex;flex-direction: column;align-items: center;background-color: white;padding-right: 0.2em;padding-left: 0.2em;}#sk-d132c539-3dfc-4981-be27-1801d38ba2bf div.sk-item {z-index: 1;}#sk-d132c539-3dfc-4981-be27-1801d38ba2bf div.sk-parallel {display: flex;align-items: stretch;justify-content: center;background-color: white;}#sk-d132c539-3dfc-4981-be27-1801d38ba2bf div.sk-parallel::before {content: \"\";position: absolute;border-left: 1px solid gray;box-sizing: border-box;top: 2em;bottom: 0;left: 50%;}#sk-d132c539-3dfc-4981-be27-1801d38ba2bf div.sk-parallel-item {display: flex;flex-direction: column;position: relative;background-color: white;}#sk-d132c539-3dfc-4981-be27-1801d38ba2bf div.sk-parallel-item:first-child::after {align-self: flex-end;width: 50%;}#sk-d132c539-3dfc-4981-be27-1801d38ba2bf div.sk-parallel-item:last-child::after {align-self: flex-start;width: 50%;}#sk-d132c539-3dfc-4981-be27-1801d38ba2bf div.sk-parallel-item:only-child::after {width: 0;}#sk-d132c539-3dfc-4981-be27-1801d38ba2bf div.sk-dashed-wrapped {border: 1px dashed gray;margin: 0 0.4em 0.5em 0.4em;box-sizing: border-box;padding-bottom: 0.4em;background-color: white;position: relative;}#sk-d132c539-3dfc-4981-be27-1801d38ba2bf div.sk-label label {font-family: monospace;font-weight: bold;background-color: white;display: inline-block;line-height: 1.2em;}#sk-d132c539-3dfc-4981-be27-1801d38ba2bf div.sk-label-container {position: relative;z-index: 2;text-align: center;}#sk-d132c539-3dfc-4981-be27-1801d38ba2bf div.sk-container {/* jupyter's `normalize.less` sets `[hidden] { display: none; }` but bootstrap.min.css set `[hidden] { display: none !important; }` so we also need the `!important` here to be able to override the default hidden behavior on the sphinx rendered scikit-learn.org. See: https://github.com/scikit-learn/scikit-learn/issues/21755 */display: inline-block !important;position: relative;}#sk-d132c539-3dfc-4981-be27-1801d38ba2bf div.sk-text-repr-fallback {display: none;}</style><div id=\"sk-d132c539-3dfc-4981-be27-1801d38ba2bf\" class=\"sk-top-container\"><div class=\"sk-text-repr-fallback\"><pre>Pipeline(steps=[(&#x27;simpleimputer&#x27;,\n",
              "                 SimpleImputer(fill_value=&#x27;Missing&#x27;, strategy=&#x27;constant&#x27;)),\n",
              "                (&#x27;onehotencoder&#x27;,\n",
              "                 OneHotEncoder(handle_unknown=&#x27;ignore&#x27;, sparse=False))])</pre><b>Please rerun this cell to show the HTML repr or trust the notebook.</b></div><div class=\"sk-container\" hidden><div class=\"sk-item sk-dashed-wrapped\"><div class=\"sk-label-container\"><div class=\"sk-label sk-toggleable\"><input class=\"sk-toggleable__control sk-hidden--visually\" id=\"8e28db7b-9713-4c46-8d81-ce0fda291c6c\" type=\"checkbox\" ><label for=\"8e28db7b-9713-4c46-8d81-ce0fda291c6c\" class=\"sk-toggleable__label sk-toggleable__label-arrow\">Pipeline</label><div class=\"sk-toggleable__content\"><pre>Pipeline(steps=[(&#x27;simpleimputer&#x27;,\n",
              "                 SimpleImputer(fill_value=&#x27;Missing&#x27;, strategy=&#x27;constant&#x27;)),\n",
              "                (&#x27;onehotencoder&#x27;,\n",
              "                 OneHotEncoder(handle_unknown=&#x27;ignore&#x27;, sparse=False))])</pre></div></div></div><div class=\"sk-serial\"><div class=\"sk-item\"><div class=\"sk-estimator sk-toggleable\"><input class=\"sk-toggleable__control sk-hidden--visually\" id=\"7e39a739-61c8-47e7-bdb1-82e66929b151\" type=\"checkbox\" ><label for=\"7e39a739-61c8-47e7-bdb1-82e66929b151\" class=\"sk-toggleable__label sk-toggleable__label-arrow\">SimpleImputer</label><div class=\"sk-toggleable__content\"><pre>SimpleImputer(fill_value=&#x27;Missing&#x27;, strategy=&#x27;constant&#x27;)</pre></div></div></div><div class=\"sk-item\"><div class=\"sk-estimator sk-toggleable\"><input class=\"sk-toggleable__control sk-hidden--visually\" id=\"b1449139-7343-491e-93ed-4675484b6efd\" type=\"checkbox\" ><label for=\"b1449139-7343-491e-93ed-4675484b6efd\" class=\"sk-toggleable__label sk-toggleable__label-arrow\">OneHotEncoder</label><div class=\"sk-toggleable__content\"><pre>OneHotEncoder(handle_unknown=&#x27;ignore&#x27;, sparse=False)</pre></div></div></div></div></div></div></div>"
            ]
          },
          "metadata": {},
          "execution_count": 61
        }
      ]
    },
    {
      "cell_type": "code",
      "source": [
        "# Create the ordinal pipeline\n",
        "ordinal_pipe = make_pipeline(freq_imputer, ordinal_enc, scaler2)\n",
        "ordinal_pipe"
      ],
      "metadata": {
        "colab": {
          "base_uri": "https://localhost:8080/"
        },
        "id": "StFofQ1ZQKE2",
        "outputId": "9aed438b-a6de-4551-dba5-f90ca86ac694"
      },
      "execution_count": null,
      "outputs": [
        {
          "output_type": "execute_result",
          "data": {
            "text/plain": [
              "Pipeline(steps=[('simpleimputer', SimpleImputer(strategy='most_frequent')),\n",
              "                ('ordinalencoder',\n",
              "                 OrdinalEncoder(categories=[['Small', 'Medium', 'High']])),\n",
              "                ('standardscaler', StandardScaler())])"
            ],
            "text/html": [
              "<style>#sk-6a027aae-62b1-45ec-b5ff-58289f3c68f9 {color: black;background-color: white;}#sk-6a027aae-62b1-45ec-b5ff-58289f3c68f9 pre{padding: 0;}#sk-6a027aae-62b1-45ec-b5ff-58289f3c68f9 div.sk-toggleable {background-color: white;}#sk-6a027aae-62b1-45ec-b5ff-58289f3c68f9 label.sk-toggleable__label {cursor: pointer;display: block;width: 100%;margin-bottom: 0;padding: 0.3em;box-sizing: border-box;text-align: center;}#sk-6a027aae-62b1-45ec-b5ff-58289f3c68f9 label.sk-toggleable__label-arrow:before {content: \"▸\";float: left;margin-right: 0.25em;color: #696969;}#sk-6a027aae-62b1-45ec-b5ff-58289f3c68f9 label.sk-toggleable__label-arrow:hover:before {color: black;}#sk-6a027aae-62b1-45ec-b5ff-58289f3c68f9 div.sk-estimator:hover label.sk-toggleable__label-arrow:before {color: black;}#sk-6a027aae-62b1-45ec-b5ff-58289f3c68f9 div.sk-toggleable__content {max-height: 0;max-width: 0;overflow: hidden;text-align: left;background-color: #f0f8ff;}#sk-6a027aae-62b1-45ec-b5ff-58289f3c68f9 div.sk-toggleable__content pre {margin: 0.2em;color: black;border-radius: 0.25em;background-color: #f0f8ff;}#sk-6a027aae-62b1-45ec-b5ff-58289f3c68f9 input.sk-toggleable__control:checked~div.sk-toggleable__content {max-height: 200px;max-width: 100%;overflow: auto;}#sk-6a027aae-62b1-45ec-b5ff-58289f3c68f9 input.sk-toggleable__control:checked~label.sk-toggleable__label-arrow:before {content: \"▾\";}#sk-6a027aae-62b1-45ec-b5ff-58289f3c68f9 div.sk-estimator input.sk-toggleable__control:checked~label.sk-toggleable__label {background-color: #d4ebff;}#sk-6a027aae-62b1-45ec-b5ff-58289f3c68f9 div.sk-label input.sk-toggleable__control:checked~label.sk-toggleable__label {background-color: #d4ebff;}#sk-6a027aae-62b1-45ec-b5ff-58289f3c68f9 input.sk-hidden--visually {border: 0;clip: rect(1px 1px 1px 1px);clip: rect(1px, 1px, 1px, 1px);height: 1px;margin: -1px;overflow: hidden;padding: 0;position: absolute;width: 1px;}#sk-6a027aae-62b1-45ec-b5ff-58289f3c68f9 div.sk-estimator {font-family: monospace;background-color: #f0f8ff;border: 1px dotted black;border-radius: 0.25em;box-sizing: border-box;margin-bottom: 0.5em;}#sk-6a027aae-62b1-45ec-b5ff-58289f3c68f9 div.sk-estimator:hover {background-color: #d4ebff;}#sk-6a027aae-62b1-45ec-b5ff-58289f3c68f9 div.sk-parallel-item::after {content: \"\";width: 100%;border-bottom: 1px solid gray;flex-grow: 1;}#sk-6a027aae-62b1-45ec-b5ff-58289f3c68f9 div.sk-label:hover label.sk-toggleable__label {background-color: #d4ebff;}#sk-6a027aae-62b1-45ec-b5ff-58289f3c68f9 div.sk-serial::before {content: \"\";position: absolute;border-left: 1px solid gray;box-sizing: border-box;top: 2em;bottom: 0;left: 50%;}#sk-6a027aae-62b1-45ec-b5ff-58289f3c68f9 div.sk-serial {display: flex;flex-direction: column;align-items: center;background-color: white;padding-right: 0.2em;padding-left: 0.2em;}#sk-6a027aae-62b1-45ec-b5ff-58289f3c68f9 div.sk-item {z-index: 1;}#sk-6a027aae-62b1-45ec-b5ff-58289f3c68f9 div.sk-parallel {display: flex;align-items: stretch;justify-content: center;background-color: white;}#sk-6a027aae-62b1-45ec-b5ff-58289f3c68f9 div.sk-parallel::before {content: \"\";position: absolute;border-left: 1px solid gray;box-sizing: border-box;top: 2em;bottom: 0;left: 50%;}#sk-6a027aae-62b1-45ec-b5ff-58289f3c68f9 div.sk-parallel-item {display: flex;flex-direction: column;position: relative;background-color: white;}#sk-6a027aae-62b1-45ec-b5ff-58289f3c68f9 div.sk-parallel-item:first-child::after {align-self: flex-end;width: 50%;}#sk-6a027aae-62b1-45ec-b5ff-58289f3c68f9 div.sk-parallel-item:last-child::after {align-self: flex-start;width: 50%;}#sk-6a027aae-62b1-45ec-b5ff-58289f3c68f9 div.sk-parallel-item:only-child::after {width: 0;}#sk-6a027aae-62b1-45ec-b5ff-58289f3c68f9 div.sk-dashed-wrapped {border: 1px dashed gray;margin: 0 0.4em 0.5em 0.4em;box-sizing: border-box;padding-bottom: 0.4em;background-color: white;position: relative;}#sk-6a027aae-62b1-45ec-b5ff-58289f3c68f9 div.sk-label label {font-family: monospace;font-weight: bold;background-color: white;display: inline-block;line-height: 1.2em;}#sk-6a027aae-62b1-45ec-b5ff-58289f3c68f9 div.sk-label-container {position: relative;z-index: 2;text-align: center;}#sk-6a027aae-62b1-45ec-b5ff-58289f3c68f9 div.sk-container {/* jupyter's `normalize.less` sets `[hidden] { display: none; }` but bootstrap.min.css set `[hidden] { display: none !important; }` so we also need the `!important` here to be able to override the default hidden behavior on the sphinx rendered scikit-learn.org. See: https://github.com/scikit-learn/scikit-learn/issues/21755 */display: inline-block !important;position: relative;}#sk-6a027aae-62b1-45ec-b5ff-58289f3c68f9 div.sk-text-repr-fallback {display: none;}</style><div id=\"sk-6a027aae-62b1-45ec-b5ff-58289f3c68f9\" class=\"sk-top-container\"><div class=\"sk-text-repr-fallback\"><pre>Pipeline(steps=[(&#x27;simpleimputer&#x27;, SimpleImputer(strategy=&#x27;most_frequent&#x27;)),\n",
              "                (&#x27;ordinalencoder&#x27;,\n",
              "                 OrdinalEncoder(categories=[[&#x27;Small&#x27;, &#x27;Medium&#x27;, &#x27;High&#x27;]])),\n",
              "                (&#x27;standardscaler&#x27;, StandardScaler())])</pre><b>Please rerun this cell to show the HTML repr or trust the notebook.</b></div><div class=\"sk-container\" hidden><div class=\"sk-item sk-dashed-wrapped\"><div class=\"sk-label-container\"><div class=\"sk-label sk-toggleable\"><input class=\"sk-toggleable__control sk-hidden--visually\" id=\"ff83299f-e858-4e97-8f42-3e15281c9609\" type=\"checkbox\" ><label for=\"ff83299f-e858-4e97-8f42-3e15281c9609\" class=\"sk-toggleable__label sk-toggleable__label-arrow\">Pipeline</label><div class=\"sk-toggleable__content\"><pre>Pipeline(steps=[(&#x27;simpleimputer&#x27;, SimpleImputer(strategy=&#x27;most_frequent&#x27;)),\n",
              "                (&#x27;ordinalencoder&#x27;,\n",
              "                 OrdinalEncoder(categories=[[&#x27;Small&#x27;, &#x27;Medium&#x27;, &#x27;High&#x27;]])),\n",
              "                (&#x27;standardscaler&#x27;, StandardScaler())])</pre></div></div></div><div class=\"sk-serial\"><div class=\"sk-item\"><div class=\"sk-estimator sk-toggleable\"><input class=\"sk-toggleable__control sk-hidden--visually\" id=\"4eca65d9-e1b2-42bd-83e1-5302e57ca416\" type=\"checkbox\" ><label for=\"4eca65d9-e1b2-42bd-83e1-5302e57ca416\" class=\"sk-toggleable__label sk-toggleable__label-arrow\">SimpleImputer</label><div class=\"sk-toggleable__content\"><pre>SimpleImputer(strategy=&#x27;most_frequent&#x27;)</pre></div></div></div><div class=\"sk-item\"><div class=\"sk-estimator sk-toggleable\"><input class=\"sk-toggleable__control sk-hidden--visually\" id=\"5d8808a0-8d37-44f7-9c8d-3a6583d9c1fb\" type=\"checkbox\" ><label for=\"5d8808a0-8d37-44f7-9c8d-3a6583d9c1fb\" class=\"sk-toggleable__label sk-toggleable__label-arrow\">OrdinalEncoder</label><div class=\"sk-toggleable__content\"><pre>OrdinalEncoder(categories=[[&#x27;Small&#x27;, &#x27;Medium&#x27;, &#x27;High&#x27;]])</pre></div></div></div><div class=\"sk-item\"><div class=\"sk-estimator sk-toggleable\"><input class=\"sk-toggleable__control sk-hidden--visually\" id=\"1cdfbafe-eea0-4190-b482-ab07bb2ac7e2\" type=\"checkbox\" ><label for=\"1cdfbafe-eea0-4190-b482-ab07bb2ac7e2\" class=\"sk-toggleable__label sk-toggleable__label-arrow\">StandardScaler</label><div class=\"sk-toggleable__content\"><pre>StandardScaler()</pre></div></div></div></div></div></div></div>"
            ]
          },
          "metadata": {},
          "execution_count": 62
        }
      ]
    },
    {
      "cell_type": "markdown",
      "source": [
        "## **Instantiate ColumnTransformer**\n",
        "\n",
        "- Now that we have the pipelines all instantiated, we can go ahead and create the tuples that will allow us to transform the columns using ColumnTransformer.\n",
        "- The ColumnTransformer will then be prepared to fit the model onto our data.\n",
        "- I will set remainder as drop in case any identifier information and date information gets added to the model."
      ],
      "metadata": {
        "id": "S3jN7R8lRQjW"
      }
    },
    {
      "cell_type": "code",
      "source": [
        "# Tuples for Column Transformer\n",
        "number_tuple = (numeric_pipe, num_selector)\n",
        "nominal_tuple = (nominal_pipe, nominal_col)\n",
        "ordinal_tuple = (ordinal_pipe, ordinal_col)\n",
        "# ColumnTransformer\n",
        "preprocessor = make_column_transformer(number_tuple, nominal_tuple, ordinal_tuple, remainder = 'drop')\n",
        "preprocessor"
      ],
      "metadata": {
        "colab": {
          "base_uri": "https://localhost:8080/"
        },
        "id": "PoMnsEdqRi9f",
        "outputId": "0f63c9e5-7c7a-4111-df4d-778daf67c773"
      },
      "execution_count": null,
      "outputs": [
        {
          "output_type": "execute_result",
          "data": {
            "text/plain": [
              "ColumnTransformer(transformers=[('pipeline-1',\n",
              "                                 Pipeline(steps=[('simpleimputer',\n",
              "                                                  SimpleImputer()),\n",
              "                                                 ('standardscaler',\n",
              "                                                  StandardScaler())]),\n",
              "                                 <sklearn.compose._column_transformer.make_column_selector object at 0x7f0a53368190>),\n",
              "                                ('pipeline-2',\n",
              "                                 Pipeline(steps=[('simpleimputer',\n",
              "                                                  SimpleImputer(fill_value='Missing',\n",
              "                                                                strategy='constant')),\n",
              "                                                 ('onehotencoder',\n",
              "                                                  OneHotEncoder(handle_unknown='ignore',\n",
              "                                                                sparse=False))]),\n",
              "                                 ['Item_Fat_Content', 'Item_Type',\n",
              "                                  'Outlet_Location_Type', 'Outlet_Type']),\n",
              "                                ('pipeline-3',\n",
              "                                 Pipeline(steps=[('simpleimputer',\n",
              "                                                  SimpleImputer(strategy='most_frequent')),\n",
              "                                                 ('ordinalencoder',\n",
              "                                                  OrdinalEncoder(categories=[['Small',\n",
              "                                                                              'Medium',\n",
              "                                                                              'High']])),\n",
              "                                                 ('standardscaler',\n",
              "                                                  StandardScaler())]),\n",
              "                                 ['Outlet_Size'])])"
            ],
            "text/html": [
              "<style>#sk-bb0cfaaa-44f3-462b-bf36-1f4c4a2b611b {color: black;background-color: white;}#sk-bb0cfaaa-44f3-462b-bf36-1f4c4a2b611b pre{padding: 0;}#sk-bb0cfaaa-44f3-462b-bf36-1f4c4a2b611b div.sk-toggleable {background-color: white;}#sk-bb0cfaaa-44f3-462b-bf36-1f4c4a2b611b label.sk-toggleable__label {cursor: pointer;display: block;width: 100%;margin-bottom: 0;padding: 0.3em;box-sizing: border-box;text-align: center;}#sk-bb0cfaaa-44f3-462b-bf36-1f4c4a2b611b label.sk-toggleable__label-arrow:before {content: \"▸\";float: left;margin-right: 0.25em;color: #696969;}#sk-bb0cfaaa-44f3-462b-bf36-1f4c4a2b611b label.sk-toggleable__label-arrow:hover:before {color: black;}#sk-bb0cfaaa-44f3-462b-bf36-1f4c4a2b611b div.sk-estimator:hover label.sk-toggleable__label-arrow:before {color: black;}#sk-bb0cfaaa-44f3-462b-bf36-1f4c4a2b611b div.sk-toggleable__content {max-height: 0;max-width: 0;overflow: hidden;text-align: left;background-color: #f0f8ff;}#sk-bb0cfaaa-44f3-462b-bf36-1f4c4a2b611b div.sk-toggleable__content pre {margin: 0.2em;color: black;border-radius: 0.25em;background-color: #f0f8ff;}#sk-bb0cfaaa-44f3-462b-bf36-1f4c4a2b611b input.sk-toggleable__control:checked~div.sk-toggleable__content {max-height: 200px;max-width: 100%;overflow: auto;}#sk-bb0cfaaa-44f3-462b-bf36-1f4c4a2b611b input.sk-toggleable__control:checked~label.sk-toggleable__label-arrow:before {content: \"▾\";}#sk-bb0cfaaa-44f3-462b-bf36-1f4c4a2b611b div.sk-estimator input.sk-toggleable__control:checked~label.sk-toggleable__label {background-color: #d4ebff;}#sk-bb0cfaaa-44f3-462b-bf36-1f4c4a2b611b div.sk-label input.sk-toggleable__control:checked~label.sk-toggleable__label {background-color: #d4ebff;}#sk-bb0cfaaa-44f3-462b-bf36-1f4c4a2b611b input.sk-hidden--visually {border: 0;clip: rect(1px 1px 1px 1px);clip: rect(1px, 1px, 1px, 1px);height: 1px;margin: -1px;overflow: hidden;padding: 0;position: absolute;width: 1px;}#sk-bb0cfaaa-44f3-462b-bf36-1f4c4a2b611b div.sk-estimator {font-family: monospace;background-color: #f0f8ff;border: 1px dotted black;border-radius: 0.25em;box-sizing: border-box;margin-bottom: 0.5em;}#sk-bb0cfaaa-44f3-462b-bf36-1f4c4a2b611b div.sk-estimator:hover {background-color: #d4ebff;}#sk-bb0cfaaa-44f3-462b-bf36-1f4c4a2b611b div.sk-parallel-item::after {content: \"\";width: 100%;border-bottom: 1px solid gray;flex-grow: 1;}#sk-bb0cfaaa-44f3-462b-bf36-1f4c4a2b611b div.sk-label:hover label.sk-toggleable__label {background-color: #d4ebff;}#sk-bb0cfaaa-44f3-462b-bf36-1f4c4a2b611b div.sk-serial::before {content: \"\";position: absolute;border-left: 1px solid gray;box-sizing: border-box;top: 2em;bottom: 0;left: 50%;}#sk-bb0cfaaa-44f3-462b-bf36-1f4c4a2b611b div.sk-serial {display: flex;flex-direction: column;align-items: center;background-color: white;padding-right: 0.2em;padding-left: 0.2em;}#sk-bb0cfaaa-44f3-462b-bf36-1f4c4a2b611b div.sk-item {z-index: 1;}#sk-bb0cfaaa-44f3-462b-bf36-1f4c4a2b611b div.sk-parallel {display: flex;align-items: stretch;justify-content: center;background-color: white;}#sk-bb0cfaaa-44f3-462b-bf36-1f4c4a2b611b div.sk-parallel::before {content: \"\";position: absolute;border-left: 1px solid gray;box-sizing: border-box;top: 2em;bottom: 0;left: 50%;}#sk-bb0cfaaa-44f3-462b-bf36-1f4c4a2b611b div.sk-parallel-item {display: flex;flex-direction: column;position: relative;background-color: white;}#sk-bb0cfaaa-44f3-462b-bf36-1f4c4a2b611b div.sk-parallel-item:first-child::after {align-self: flex-end;width: 50%;}#sk-bb0cfaaa-44f3-462b-bf36-1f4c4a2b611b div.sk-parallel-item:last-child::after {align-self: flex-start;width: 50%;}#sk-bb0cfaaa-44f3-462b-bf36-1f4c4a2b611b div.sk-parallel-item:only-child::after {width: 0;}#sk-bb0cfaaa-44f3-462b-bf36-1f4c4a2b611b div.sk-dashed-wrapped {border: 1px dashed gray;margin: 0 0.4em 0.5em 0.4em;box-sizing: border-box;padding-bottom: 0.4em;background-color: white;position: relative;}#sk-bb0cfaaa-44f3-462b-bf36-1f4c4a2b611b div.sk-label label {font-family: monospace;font-weight: bold;background-color: white;display: inline-block;line-height: 1.2em;}#sk-bb0cfaaa-44f3-462b-bf36-1f4c4a2b611b div.sk-label-container {position: relative;z-index: 2;text-align: center;}#sk-bb0cfaaa-44f3-462b-bf36-1f4c4a2b611b div.sk-container {/* jupyter's `normalize.less` sets `[hidden] { display: none; }` but bootstrap.min.css set `[hidden] { display: none !important; }` so we also need the `!important` here to be able to override the default hidden behavior on the sphinx rendered scikit-learn.org. See: https://github.com/scikit-learn/scikit-learn/issues/21755 */display: inline-block !important;position: relative;}#sk-bb0cfaaa-44f3-462b-bf36-1f4c4a2b611b div.sk-text-repr-fallback {display: none;}</style><div id=\"sk-bb0cfaaa-44f3-462b-bf36-1f4c4a2b611b\" class=\"sk-top-container\"><div class=\"sk-text-repr-fallback\"><pre>ColumnTransformer(transformers=[(&#x27;pipeline-1&#x27;,\n",
              "                                 Pipeline(steps=[(&#x27;simpleimputer&#x27;,\n",
              "                                                  SimpleImputer()),\n",
              "                                                 (&#x27;standardscaler&#x27;,\n",
              "                                                  StandardScaler())]),\n",
              "                                 &lt;sklearn.compose._column_transformer.make_column_selector object at 0x7f0a53368190&gt;),\n",
              "                                (&#x27;pipeline-2&#x27;,\n",
              "                                 Pipeline(steps=[(&#x27;simpleimputer&#x27;,\n",
              "                                                  SimpleImputer(fill_value=&#x27;Missing&#x27;,\n",
              "                                                                strategy=&#x27;constant&#x27;)),\n",
              "                                                 (&#x27;onehotencoder&#x27;,\n",
              "                                                  OneHotEncoder(handle_unknown=&#x27;ignore&#x27;,\n",
              "                                                                sparse=False))]),\n",
              "                                 [&#x27;Item_Fat_Content&#x27;, &#x27;Item_Type&#x27;,\n",
              "                                  &#x27;Outlet_Location_Type&#x27;, &#x27;Outlet_Type&#x27;]),\n",
              "                                (&#x27;pipeline-3&#x27;,\n",
              "                                 Pipeline(steps=[(&#x27;simpleimputer&#x27;,\n",
              "                                                  SimpleImputer(strategy=&#x27;most_frequent&#x27;)),\n",
              "                                                 (&#x27;ordinalencoder&#x27;,\n",
              "                                                  OrdinalEncoder(categories=[[&#x27;Small&#x27;,\n",
              "                                                                              &#x27;Medium&#x27;,\n",
              "                                                                              &#x27;High&#x27;]])),\n",
              "                                                 (&#x27;standardscaler&#x27;,\n",
              "                                                  StandardScaler())]),\n",
              "                                 [&#x27;Outlet_Size&#x27;])])</pre><b>Please rerun this cell to show the HTML repr or trust the notebook.</b></div><div class=\"sk-container\" hidden><div class=\"sk-item sk-dashed-wrapped\"><div class=\"sk-label-container\"><div class=\"sk-label sk-toggleable\"><input class=\"sk-toggleable__control sk-hidden--visually\" id=\"2677e1a4-6924-4dc0-8fa8-2c6dfd0f0bc2\" type=\"checkbox\" ><label for=\"2677e1a4-6924-4dc0-8fa8-2c6dfd0f0bc2\" class=\"sk-toggleable__label sk-toggleable__label-arrow\">ColumnTransformer</label><div class=\"sk-toggleable__content\"><pre>ColumnTransformer(transformers=[(&#x27;pipeline-1&#x27;,\n",
              "                                 Pipeline(steps=[(&#x27;simpleimputer&#x27;,\n",
              "                                                  SimpleImputer()),\n",
              "                                                 (&#x27;standardscaler&#x27;,\n",
              "                                                  StandardScaler())]),\n",
              "                                 &lt;sklearn.compose._column_transformer.make_column_selector object at 0x7f0a53368190&gt;),\n",
              "                                (&#x27;pipeline-2&#x27;,\n",
              "                                 Pipeline(steps=[(&#x27;simpleimputer&#x27;,\n",
              "                                                  SimpleImputer(fill_value=&#x27;Missing&#x27;,\n",
              "                                                                strategy=&#x27;constant&#x27;)),\n",
              "                                                 (&#x27;onehotencoder&#x27;,\n",
              "                                                  OneHotEncoder(handle_unknown=&#x27;ignore&#x27;,\n",
              "                                                                sparse=False))]),\n",
              "                                 [&#x27;Item_Fat_Content&#x27;, &#x27;Item_Type&#x27;,\n",
              "                                  &#x27;Outlet_Location_Type&#x27;, &#x27;Outlet_Type&#x27;]),\n",
              "                                (&#x27;pipeline-3&#x27;,\n",
              "                                 Pipeline(steps=[(&#x27;simpleimputer&#x27;,\n",
              "                                                  SimpleImputer(strategy=&#x27;most_frequent&#x27;)),\n",
              "                                                 (&#x27;ordinalencoder&#x27;,\n",
              "                                                  OrdinalEncoder(categories=[[&#x27;Small&#x27;,\n",
              "                                                                              &#x27;Medium&#x27;,\n",
              "                                                                              &#x27;High&#x27;]])),\n",
              "                                                 (&#x27;standardscaler&#x27;,\n",
              "                                                  StandardScaler())]),\n",
              "                                 [&#x27;Outlet_Size&#x27;])])</pre></div></div></div><div class=\"sk-parallel\"><div class=\"sk-parallel-item\"><div class=\"sk-item\"><div class=\"sk-label-container\"><div class=\"sk-label sk-toggleable\"><input class=\"sk-toggleable__control sk-hidden--visually\" id=\"c89a7536-928f-4924-b7aa-9b43df59eed0\" type=\"checkbox\" ><label for=\"c89a7536-928f-4924-b7aa-9b43df59eed0\" class=\"sk-toggleable__label sk-toggleable__label-arrow\">pipeline-1</label><div class=\"sk-toggleable__content\"><pre>&lt;sklearn.compose._column_transformer.make_column_selector object at 0x7f0a53368190&gt;</pre></div></div></div><div class=\"sk-serial\"><div class=\"sk-item\"><div class=\"sk-serial\"><div class=\"sk-item\"><div class=\"sk-estimator sk-toggleable\"><input class=\"sk-toggleable__control sk-hidden--visually\" id=\"78d21404-3da4-4fe7-ac28-6edb52a0991c\" type=\"checkbox\" ><label for=\"78d21404-3da4-4fe7-ac28-6edb52a0991c\" class=\"sk-toggleable__label sk-toggleable__label-arrow\">SimpleImputer</label><div class=\"sk-toggleable__content\"><pre>SimpleImputer()</pre></div></div></div><div class=\"sk-item\"><div class=\"sk-estimator sk-toggleable\"><input class=\"sk-toggleable__control sk-hidden--visually\" id=\"a34a30f2-5aa0-4adf-a220-37815763c17d\" type=\"checkbox\" ><label for=\"a34a30f2-5aa0-4adf-a220-37815763c17d\" class=\"sk-toggleable__label sk-toggleable__label-arrow\">StandardScaler</label><div class=\"sk-toggleable__content\"><pre>StandardScaler()</pre></div></div></div></div></div></div></div></div><div class=\"sk-parallel-item\"><div class=\"sk-item\"><div class=\"sk-label-container\"><div class=\"sk-label sk-toggleable\"><input class=\"sk-toggleable__control sk-hidden--visually\" id=\"0a834f22-52a9-4d6e-b3f5-5d1ca4c0e74d\" type=\"checkbox\" ><label for=\"0a834f22-52a9-4d6e-b3f5-5d1ca4c0e74d\" class=\"sk-toggleable__label sk-toggleable__label-arrow\">pipeline-2</label><div class=\"sk-toggleable__content\"><pre>[&#x27;Item_Fat_Content&#x27;, &#x27;Item_Type&#x27;, &#x27;Outlet_Location_Type&#x27;, &#x27;Outlet_Type&#x27;]</pre></div></div></div><div class=\"sk-serial\"><div class=\"sk-item\"><div class=\"sk-serial\"><div class=\"sk-item\"><div class=\"sk-estimator sk-toggleable\"><input class=\"sk-toggleable__control sk-hidden--visually\" id=\"bc69f609-ba7d-437c-b1a9-f0670103b6d0\" type=\"checkbox\" ><label for=\"bc69f609-ba7d-437c-b1a9-f0670103b6d0\" class=\"sk-toggleable__label sk-toggleable__label-arrow\">SimpleImputer</label><div class=\"sk-toggleable__content\"><pre>SimpleImputer(fill_value=&#x27;Missing&#x27;, strategy=&#x27;constant&#x27;)</pre></div></div></div><div class=\"sk-item\"><div class=\"sk-estimator sk-toggleable\"><input class=\"sk-toggleable__control sk-hidden--visually\" id=\"6884eb37-79ce-4573-ab26-60b2bba1b651\" type=\"checkbox\" ><label for=\"6884eb37-79ce-4573-ab26-60b2bba1b651\" class=\"sk-toggleable__label sk-toggleable__label-arrow\">OneHotEncoder</label><div class=\"sk-toggleable__content\"><pre>OneHotEncoder(handle_unknown=&#x27;ignore&#x27;, sparse=False)</pre></div></div></div></div></div></div></div></div><div class=\"sk-parallel-item\"><div class=\"sk-item\"><div class=\"sk-label-container\"><div class=\"sk-label sk-toggleable\"><input class=\"sk-toggleable__control sk-hidden--visually\" id=\"4756bada-def0-4c35-ab4e-6ab86a49aa32\" type=\"checkbox\" ><label for=\"4756bada-def0-4c35-ab4e-6ab86a49aa32\" class=\"sk-toggleable__label sk-toggleable__label-arrow\">pipeline-3</label><div class=\"sk-toggleable__content\"><pre>[&#x27;Outlet_Size&#x27;]</pre></div></div></div><div class=\"sk-serial\"><div class=\"sk-item\"><div class=\"sk-serial\"><div class=\"sk-item\"><div class=\"sk-estimator sk-toggleable\"><input class=\"sk-toggleable__control sk-hidden--visually\" id=\"175e0bfa-902a-4c4e-9991-688b1862c727\" type=\"checkbox\" ><label for=\"175e0bfa-902a-4c4e-9991-688b1862c727\" class=\"sk-toggleable__label sk-toggleable__label-arrow\">SimpleImputer</label><div class=\"sk-toggleable__content\"><pre>SimpleImputer(strategy=&#x27;most_frequent&#x27;)</pre></div></div></div><div class=\"sk-item\"><div class=\"sk-estimator sk-toggleable\"><input class=\"sk-toggleable__control sk-hidden--visually\" id=\"5aa53b46-fe1b-49ff-81c8-0a33b7a82454\" type=\"checkbox\" ><label for=\"5aa53b46-fe1b-49ff-81c8-0a33b7a82454\" class=\"sk-toggleable__label sk-toggleable__label-arrow\">OrdinalEncoder</label><div class=\"sk-toggleable__content\"><pre>OrdinalEncoder(categories=[[&#x27;Small&#x27;, &#x27;Medium&#x27;, &#x27;High&#x27;]])</pre></div></div></div><div class=\"sk-item\"><div class=\"sk-estimator sk-toggleable\"><input class=\"sk-toggleable__control sk-hidden--visually\" id=\"96fd2665-f1a7-4e39-bc06-deb0a6126113\" type=\"checkbox\" ><label for=\"96fd2665-f1a7-4e39-bc06-deb0a6126113\" class=\"sk-toggleable__label sk-toggleable__label-arrow\">StandardScaler</label><div class=\"sk-toggleable__content\"><pre>StandardScaler()</pre></div></div></div></div></div></div></div></div></div></div></div></div>"
            ]
          },
          "metadata": {},
          "execution_count": 63
        }
      ]
    },
    {
      "cell_type": "markdown",
      "source": [
        "## **Data Transformation**\n",
        "\n",
        "- Let's go ahead and fit the training data onto the pipelines, then perform the data transformations on both the training and testing datasets.\n",
        "- I have to constantly remind myself: PERFORM FITTING ON TRAINING DATA ONLY!"
      ],
      "metadata": {
        "id": "GbLCdYhOR4N4"
      }
    },
    {
      "cell_type": "code",
      "source": [
        "# Perform the pipeline fitting on the training data.\n",
        "preprocessor.fit(X_train)"
      ],
      "metadata": {
        "colab": {
          "base_uri": "https://localhost:8080/"
        },
        "id": "_It7w2gLR7NF",
        "outputId": "e33d8713-26a9-4661-bba8-3fa03ce2ad28"
      },
      "execution_count": null,
      "outputs": [
        {
          "output_type": "execute_result",
          "data": {
            "text/plain": [
              "ColumnTransformer(transformers=[('pipeline-1',\n",
              "                                 Pipeline(steps=[('simpleimputer',\n",
              "                                                  SimpleImputer()),\n",
              "                                                 ('standardscaler',\n",
              "                                                  StandardScaler())]),\n",
              "                                 <sklearn.compose._column_transformer.make_column_selector object at 0x7f0a53368190>),\n",
              "                                ('pipeline-2',\n",
              "                                 Pipeline(steps=[('simpleimputer',\n",
              "                                                  SimpleImputer(fill_value='Missing',\n",
              "                                                                strategy='constant')),\n",
              "                                                 ('onehotencoder',\n",
              "                                                  OneHotEncoder(handle_unknown='ignore',\n",
              "                                                                sparse=False))]),\n",
              "                                 ['Item_Fat_Content', 'Item_Type',\n",
              "                                  'Outlet_Location_Type', 'Outlet_Type']),\n",
              "                                ('pipeline-3',\n",
              "                                 Pipeline(steps=[('simpleimputer',\n",
              "                                                  SimpleImputer(strategy='most_frequent')),\n",
              "                                                 ('ordinalencoder',\n",
              "                                                  OrdinalEncoder(categories=[['Small',\n",
              "                                                                              'Medium',\n",
              "                                                                              'High']])),\n",
              "                                                 ('standardscaler',\n",
              "                                                  StandardScaler())]),\n",
              "                                 ['Outlet_Size'])])"
            ],
            "text/html": [
              "<style>#sk-9561d04c-6643-4bb4-9482-63186ac180d3 {color: black;background-color: white;}#sk-9561d04c-6643-4bb4-9482-63186ac180d3 pre{padding: 0;}#sk-9561d04c-6643-4bb4-9482-63186ac180d3 div.sk-toggleable {background-color: white;}#sk-9561d04c-6643-4bb4-9482-63186ac180d3 label.sk-toggleable__label {cursor: pointer;display: block;width: 100%;margin-bottom: 0;padding: 0.3em;box-sizing: border-box;text-align: center;}#sk-9561d04c-6643-4bb4-9482-63186ac180d3 label.sk-toggleable__label-arrow:before {content: \"▸\";float: left;margin-right: 0.25em;color: #696969;}#sk-9561d04c-6643-4bb4-9482-63186ac180d3 label.sk-toggleable__label-arrow:hover:before {color: black;}#sk-9561d04c-6643-4bb4-9482-63186ac180d3 div.sk-estimator:hover label.sk-toggleable__label-arrow:before {color: black;}#sk-9561d04c-6643-4bb4-9482-63186ac180d3 div.sk-toggleable__content {max-height: 0;max-width: 0;overflow: hidden;text-align: left;background-color: #f0f8ff;}#sk-9561d04c-6643-4bb4-9482-63186ac180d3 div.sk-toggleable__content pre {margin: 0.2em;color: black;border-radius: 0.25em;background-color: #f0f8ff;}#sk-9561d04c-6643-4bb4-9482-63186ac180d3 input.sk-toggleable__control:checked~div.sk-toggleable__content {max-height: 200px;max-width: 100%;overflow: auto;}#sk-9561d04c-6643-4bb4-9482-63186ac180d3 input.sk-toggleable__control:checked~label.sk-toggleable__label-arrow:before {content: \"▾\";}#sk-9561d04c-6643-4bb4-9482-63186ac180d3 div.sk-estimator input.sk-toggleable__control:checked~label.sk-toggleable__label {background-color: #d4ebff;}#sk-9561d04c-6643-4bb4-9482-63186ac180d3 div.sk-label input.sk-toggleable__control:checked~label.sk-toggleable__label {background-color: #d4ebff;}#sk-9561d04c-6643-4bb4-9482-63186ac180d3 input.sk-hidden--visually {border: 0;clip: rect(1px 1px 1px 1px);clip: rect(1px, 1px, 1px, 1px);height: 1px;margin: -1px;overflow: hidden;padding: 0;position: absolute;width: 1px;}#sk-9561d04c-6643-4bb4-9482-63186ac180d3 div.sk-estimator {font-family: monospace;background-color: #f0f8ff;border: 1px dotted black;border-radius: 0.25em;box-sizing: border-box;margin-bottom: 0.5em;}#sk-9561d04c-6643-4bb4-9482-63186ac180d3 div.sk-estimator:hover {background-color: #d4ebff;}#sk-9561d04c-6643-4bb4-9482-63186ac180d3 div.sk-parallel-item::after {content: \"\";width: 100%;border-bottom: 1px solid gray;flex-grow: 1;}#sk-9561d04c-6643-4bb4-9482-63186ac180d3 div.sk-label:hover label.sk-toggleable__label {background-color: #d4ebff;}#sk-9561d04c-6643-4bb4-9482-63186ac180d3 div.sk-serial::before {content: \"\";position: absolute;border-left: 1px solid gray;box-sizing: border-box;top: 2em;bottom: 0;left: 50%;}#sk-9561d04c-6643-4bb4-9482-63186ac180d3 div.sk-serial {display: flex;flex-direction: column;align-items: center;background-color: white;padding-right: 0.2em;padding-left: 0.2em;}#sk-9561d04c-6643-4bb4-9482-63186ac180d3 div.sk-item {z-index: 1;}#sk-9561d04c-6643-4bb4-9482-63186ac180d3 div.sk-parallel {display: flex;align-items: stretch;justify-content: center;background-color: white;}#sk-9561d04c-6643-4bb4-9482-63186ac180d3 div.sk-parallel::before {content: \"\";position: absolute;border-left: 1px solid gray;box-sizing: border-box;top: 2em;bottom: 0;left: 50%;}#sk-9561d04c-6643-4bb4-9482-63186ac180d3 div.sk-parallel-item {display: flex;flex-direction: column;position: relative;background-color: white;}#sk-9561d04c-6643-4bb4-9482-63186ac180d3 div.sk-parallel-item:first-child::after {align-self: flex-end;width: 50%;}#sk-9561d04c-6643-4bb4-9482-63186ac180d3 div.sk-parallel-item:last-child::after {align-self: flex-start;width: 50%;}#sk-9561d04c-6643-4bb4-9482-63186ac180d3 div.sk-parallel-item:only-child::after {width: 0;}#sk-9561d04c-6643-4bb4-9482-63186ac180d3 div.sk-dashed-wrapped {border: 1px dashed gray;margin: 0 0.4em 0.5em 0.4em;box-sizing: border-box;padding-bottom: 0.4em;background-color: white;position: relative;}#sk-9561d04c-6643-4bb4-9482-63186ac180d3 div.sk-label label {font-family: monospace;font-weight: bold;background-color: white;display: inline-block;line-height: 1.2em;}#sk-9561d04c-6643-4bb4-9482-63186ac180d3 div.sk-label-container {position: relative;z-index: 2;text-align: center;}#sk-9561d04c-6643-4bb4-9482-63186ac180d3 div.sk-container {/* jupyter's `normalize.less` sets `[hidden] { display: none; }` but bootstrap.min.css set `[hidden] { display: none !important; }` so we also need the `!important` here to be able to override the default hidden behavior on the sphinx rendered scikit-learn.org. See: https://github.com/scikit-learn/scikit-learn/issues/21755 */display: inline-block !important;position: relative;}#sk-9561d04c-6643-4bb4-9482-63186ac180d3 div.sk-text-repr-fallback {display: none;}</style><div id=\"sk-9561d04c-6643-4bb4-9482-63186ac180d3\" class=\"sk-top-container\"><div class=\"sk-text-repr-fallback\"><pre>ColumnTransformer(transformers=[(&#x27;pipeline-1&#x27;,\n",
              "                                 Pipeline(steps=[(&#x27;simpleimputer&#x27;,\n",
              "                                                  SimpleImputer()),\n",
              "                                                 (&#x27;standardscaler&#x27;,\n",
              "                                                  StandardScaler())]),\n",
              "                                 &lt;sklearn.compose._column_transformer.make_column_selector object at 0x7f0a53368190&gt;),\n",
              "                                (&#x27;pipeline-2&#x27;,\n",
              "                                 Pipeline(steps=[(&#x27;simpleimputer&#x27;,\n",
              "                                                  SimpleImputer(fill_value=&#x27;Missing&#x27;,\n",
              "                                                                strategy=&#x27;constant&#x27;)),\n",
              "                                                 (&#x27;onehotencoder&#x27;,\n",
              "                                                  OneHotEncoder(handle_unknown=&#x27;ignore&#x27;,\n",
              "                                                                sparse=False))]),\n",
              "                                 [&#x27;Item_Fat_Content&#x27;, &#x27;Item_Type&#x27;,\n",
              "                                  &#x27;Outlet_Location_Type&#x27;, &#x27;Outlet_Type&#x27;]),\n",
              "                                (&#x27;pipeline-3&#x27;,\n",
              "                                 Pipeline(steps=[(&#x27;simpleimputer&#x27;,\n",
              "                                                  SimpleImputer(strategy=&#x27;most_frequent&#x27;)),\n",
              "                                                 (&#x27;ordinalencoder&#x27;,\n",
              "                                                  OrdinalEncoder(categories=[[&#x27;Small&#x27;,\n",
              "                                                                              &#x27;Medium&#x27;,\n",
              "                                                                              &#x27;High&#x27;]])),\n",
              "                                                 (&#x27;standardscaler&#x27;,\n",
              "                                                  StandardScaler())]),\n",
              "                                 [&#x27;Outlet_Size&#x27;])])</pre><b>Please rerun this cell to show the HTML repr or trust the notebook.</b></div><div class=\"sk-container\" hidden><div class=\"sk-item sk-dashed-wrapped\"><div class=\"sk-label-container\"><div class=\"sk-label sk-toggleable\"><input class=\"sk-toggleable__control sk-hidden--visually\" id=\"c7042df6-e507-4836-b679-7064d58a502e\" type=\"checkbox\" ><label for=\"c7042df6-e507-4836-b679-7064d58a502e\" class=\"sk-toggleable__label sk-toggleable__label-arrow\">ColumnTransformer</label><div class=\"sk-toggleable__content\"><pre>ColumnTransformer(transformers=[(&#x27;pipeline-1&#x27;,\n",
              "                                 Pipeline(steps=[(&#x27;simpleimputer&#x27;,\n",
              "                                                  SimpleImputer()),\n",
              "                                                 (&#x27;standardscaler&#x27;,\n",
              "                                                  StandardScaler())]),\n",
              "                                 &lt;sklearn.compose._column_transformer.make_column_selector object at 0x7f0a53368190&gt;),\n",
              "                                (&#x27;pipeline-2&#x27;,\n",
              "                                 Pipeline(steps=[(&#x27;simpleimputer&#x27;,\n",
              "                                                  SimpleImputer(fill_value=&#x27;Missing&#x27;,\n",
              "                                                                strategy=&#x27;constant&#x27;)),\n",
              "                                                 (&#x27;onehotencoder&#x27;,\n",
              "                                                  OneHotEncoder(handle_unknown=&#x27;ignore&#x27;,\n",
              "                                                                sparse=False))]),\n",
              "                                 [&#x27;Item_Fat_Content&#x27;, &#x27;Item_Type&#x27;,\n",
              "                                  &#x27;Outlet_Location_Type&#x27;, &#x27;Outlet_Type&#x27;]),\n",
              "                                (&#x27;pipeline-3&#x27;,\n",
              "                                 Pipeline(steps=[(&#x27;simpleimputer&#x27;,\n",
              "                                                  SimpleImputer(strategy=&#x27;most_frequent&#x27;)),\n",
              "                                                 (&#x27;ordinalencoder&#x27;,\n",
              "                                                  OrdinalEncoder(categories=[[&#x27;Small&#x27;,\n",
              "                                                                              &#x27;Medium&#x27;,\n",
              "                                                                              &#x27;High&#x27;]])),\n",
              "                                                 (&#x27;standardscaler&#x27;,\n",
              "                                                  StandardScaler())]),\n",
              "                                 [&#x27;Outlet_Size&#x27;])])</pre></div></div></div><div class=\"sk-parallel\"><div class=\"sk-parallel-item\"><div class=\"sk-item\"><div class=\"sk-label-container\"><div class=\"sk-label sk-toggleable\"><input class=\"sk-toggleable__control sk-hidden--visually\" id=\"35f5d6eb-c0c8-4a5b-9869-62e67b9a1e55\" type=\"checkbox\" ><label for=\"35f5d6eb-c0c8-4a5b-9869-62e67b9a1e55\" class=\"sk-toggleable__label sk-toggleable__label-arrow\">pipeline-1</label><div class=\"sk-toggleable__content\"><pre>&lt;sklearn.compose._column_transformer.make_column_selector object at 0x7f0a53368190&gt;</pre></div></div></div><div class=\"sk-serial\"><div class=\"sk-item\"><div class=\"sk-serial\"><div class=\"sk-item\"><div class=\"sk-estimator sk-toggleable\"><input class=\"sk-toggleable__control sk-hidden--visually\" id=\"08b947d1-cbe6-4557-9fef-ef1abc61f968\" type=\"checkbox\" ><label for=\"08b947d1-cbe6-4557-9fef-ef1abc61f968\" class=\"sk-toggleable__label sk-toggleable__label-arrow\">SimpleImputer</label><div class=\"sk-toggleable__content\"><pre>SimpleImputer()</pre></div></div></div><div class=\"sk-item\"><div class=\"sk-estimator sk-toggleable\"><input class=\"sk-toggleable__control sk-hidden--visually\" id=\"4238eb1b-3403-480a-bcc1-1e1d623a7df0\" type=\"checkbox\" ><label for=\"4238eb1b-3403-480a-bcc1-1e1d623a7df0\" class=\"sk-toggleable__label sk-toggleable__label-arrow\">StandardScaler</label><div class=\"sk-toggleable__content\"><pre>StandardScaler()</pre></div></div></div></div></div></div></div></div><div class=\"sk-parallel-item\"><div class=\"sk-item\"><div class=\"sk-label-container\"><div class=\"sk-label sk-toggleable\"><input class=\"sk-toggleable__control sk-hidden--visually\" id=\"b8e7f2ac-1194-4dc3-a287-25d1b880763b\" type=\"checkbox\" ><label for=\"b8e7f2ac-1194-4dc3-a287-25d1b880763b\" class=\"sk-toggleable__label sk-toggleable__label-arrow\">pipeline-2</label><div class=\"sk-toggleable__content\"><pre>[&#x27;Item_Fat_Content&#x27;, &#x27;Item_Type&#x27;, &#x27;Outlet_Location_Type&#x27;, &#x27;Outlet_Type&#x27;]</pre></div></div></div><div class=\"sk-serial\"><div class=\"sk-item\"><div class=\"sk-serial\"><div class=\"sk-item\"><div class=\"sk-estimator sk-toggleable\"><input class=\"sk-toggleable__control sk-hidden--visually\" id=\"13937d4b-615a-419a-9923-ec9a8450fb4f\" type=\"checkbox\" ><label for=\"13937d4b-615a-419a-9923-ec9a8450fb4f\" class=\"sk-toggleable__label sk-toggleable__label-arrow\">SimpleImputer</label><div class=\"sk-toggleable__content\"><pre>SimpleImputer(fill_value=&#x27;Missing&#x27;, strategy=&#x27;constant&#x27;)</pre></div></div></div><div class=\"sk-item\"><div class=\"sk-estimator sk-toggleable\"><input class=\"sk-toggleable__control sk-hidden--visually\" id=\"0111f891-d9e0-49be-b92e-269e48c86c7a\" type=\"checkbox\" ><label for=\"0111f891-d9e0-49be-b92e-269e48c86c7a\" class=\"sk-toggleable__label sk-toggleable__label-arrow\">OneHotEncoder</label><div class=\"sk-toggleable__content\"><pre>OneHotEncoder(handle_unknown=&#x27;ignore&#x27;, sparse=False)</pre></div></div></div></div></div></div></div></div><div class=\"sk-parallel-item\"><div class=\"sk-item\"><div class=\"sk-label-container\"><div class=\"sk-label sk-toggleable\"><input class=\"sk-toggleable__control sk-hidden--visually\" id=\"83f2862a-7dc7-4314-9f22-18d805042713\" type=\"checkbox\" ><label for=\"83f2862a-7dc7-4314-9f22-18d805042713\" class=\"sk-toggleable__label sk-toggleable__label-arrow\">pipeline-3</label><div class=\"sk-toggleable__content\"><pre>[&#x27;Outlet_Size&#x27;]</pre></div></div></div><div class=\"sk-serial\"><div class=\"sk-item\"><div class=\"sk-serial\"><div class=\"sk-item\"><div class=\"sk-estimator sk-toggleable\"><input class=\"sk-toggleable__control sk-hidden--visually\" id=\"4e465d9b-0cf8-444c-b8fe-beb3510e719c\" type=\"checkbox\" ><label for=\"4e465d9b-0cf8-444c-b8fe-beb3510e719c\" class=\"sk-toggleable__label sk-toggleable__label-arrow\">SimpleImputer</label><div class=\"sk-toggleable__content\"><pre>SimpleImputer(strategy=&#x27;most_frequent&#x27;)</pre></div></div></div><div class=\"sk-item\"><div class=\"sk-estimator sk-toggleable\"><input class=\"sk-toggleable__control sk-hidden--visually\" id=\"00bdc536-3b78-4b48-ad6b-242bfa7d6308\" type=\"checkbox\" ><label for=\"00bdc536-3b78-4b48-ad6b-242bfa7d6308\" class=\"sk-toggleable__label sk-toggleable__label-arrow\">OrdinalEncoder</label><div class=\"sk-toggleable__content\"><pre>OrdinalEncoder(categories=[[&#x27;Small&#x27;, &#x27;Medium&#x27;, &#x27;High&#x27;]])</pre></div></div></div><div class=\"sk-item\"><div class=\"sk-estimator sk-toggleable\"><input class=\"sk-toggleable__control sk-hidden--visually\" id=\"c71aa99b-4917-430c-8cf5-b31b4ae713ff\" type=\"checkbox\" ><label for=\"c71aa99b-4917-430c-8cf5-b31b4ae713ff\" class=\"sk-toggleable__label sk-toggleable__label-arrow\">StandardScaler</label><div class=\"sk-toggleable__content\"><pre>StandardScaler()</pre></div></div></div></div></div></div></div></div></div></div></div></div>"
            ]
          },
          "metadata": {},
          "execution_count": 64
        }
      ]
    },
    {
      "cell_type": "code",
      "source": [
        "# Perform transformations on both training and testing datasets.\n",
        "X_train_processed = preprocessor.transform(X_train)\n",
        "X_test_processed = preprocessor.transform(X_test)"
      ],
      "metadata": {
        "id": "fAk_PnqbSfJW"
      },
      "execution_count": null,
      "outputs": []
    },
    {
      "cell_type": "markdown",
      "source": [
        "## **Inspect the Results**\n",
        "\n",
        "- Let's check the processed dataset and see what we come up with!"
      ],
      "metadata": {
        "id": "mKcWpZdlShv3"
      }
    },
    {
      "cell_type": "code",
      "source": [
        "# Check for missing values and that data is scaled and one-hot encoded\n",
        "print(np.isnan(X_train_processed).sum().sum(), 'missing values in training data')\n",
        "print(np.isnan(X_test_processed).sum().sum(), 'missing values in testing data')\n",
        "print('\\n')\n",
        "print('All data in X_train_processed are', X_train_processed.dtype)\n",
        "print('All data in X_test_processed are', X_test_processed.dtype)\n",
        "print('\\n')\n",
        "print('shape of data is', X_train_processed.shape)\n",
        "print('\\n')\n",
        "X_train_processed"
      ],
      "metadata": {
        "colab": {
          "base_uri": "https://localhost:8080/"
        },
        "id": "24aKcuNJSq1W",
        "outputId": "d8f34cc1-4812-4402-98d2-7445865f7207"
      },
      "execution_count": null,
      "outputs": [
        {
          "output_type": "stream",
          "name": "stdout",
          "text": [
            "0 missing values in training data\n",
            "0 missing values in testing data\n",
            "\n",
            "\n",
            "All data in X_train_processed are float64\n",
            "All data in X_test_processed are float64\n",
            "\n",
            "\n",
            "shape of data is (6392, 32)\n",
            "\n",
            "\n"
          ]
        },
        {
          "output_type": "execute_result",
          "data": {
            "text/plain": [
              "array([[ 0.81724868, -0.71277507,  1.82810922, ...,  1.        ,\n",
              "         0.        ,  0.28737371],\n",
              "       [ 0.5563395 , -1.29105225,  0.60336888, ...,  1.        ,\n",
              "         0.        ,  0.28737371],\n",
              "       [-0.13151196,  1.81331864,  0.24454056, ...,  0.        ,\n",
              "         0.        ,  0.28737371],\n",
              "       ...,\n",
              "       [ 1.11373638, -0.92052713,  1.52302674, ...,  0.        ,\n",
              "         0.        ,  0.28737371],\n",
              "       [ 1.76600931, -0.2277552 , -0.38377708, ...,  0.        ,\n",
              "         0.        ,  0.28737371],\n",
              "       [ 0.81724868, -0.95867683, -0.73836105, ...,  0.        ,\n",
              "         0.        , -1.38404828]])"
            ]
          },
          "metadata": {},
          "execution_count": 66
        }
      ]
    },
    {
      "cell_type": "markdown",
      "source": [
        "- The processed training dataset looks very clean and ready for modeling!"
      ],
      "metadata": {
        "id": "kBUxslVASyXZ"
      }
    },
    {
      "cell_type": "markdown",
      "source": [
        "## **Display the NumPy Arrays of Processed Data**"
      ],
      "metadata": {
        "id": "nMUk7yQhTAxi"
      }
    },
    {
      "cell_type": "code",
      "source": [
        "# Displays the NumPy array for X_train_processed data.\n",
        "X_train_processed"
      ],
      "metadata": {
        "colab": {
          "base_uri": "https://localhost:8080/"
        },
        "id": "BymBZBeES5NX",
        "outputId": "9fa19d81-b833-4a7c-b7e6-14bea235e678"
      },
      "execution_count": null,
      "outputs": [
        {
          "output_type": "execute_result",
          "data": {
            "text/plain": [
              "array([[ 0.81724868, -0.71277507,  1.82810922, ...,  1.        ,\n",
              "         0.        ,  0.28737371],\n",
              "       [ 0.5563395 , -1.29105225,  0.60336888, ...,  1.        ,\n",
              "         0.        ,  0.28737371],\n",
              "       [-0.13151196,  1.81331864,  0.24454056, ...,  0.        ,\n",
              "         0.        ,  0.28737371],\n",
              "       ...,\n",
              "       [ 1.11373638, -0.92052713,  1.52302674, ...,  0.        ,\n",
              "         0.        ,  0.28737371],\n",
              "       [ 1.76600931, -0.2277552 , -0.38377708, ...,  0.        ,\n",
              "         0.        ,  0.28737371],\n",
              "       [ 0.81724868, -0.95867683, -0.73836105, ...,  0.        ,\n",
              "         0.        , -1.38404828]])"
            ]
          },
          "metadata": {},
          "execution_count": 67
        }
      ]
    },
    {
      "cell_type": "code",
      "source": [
        "# Displays the NumPy array for X_test_processed data.\n",
        "X_test_processed"
      ],
      "metadata": {
        "colab": {
          "base_uri": "https://localhost:8080/"
        },
        "id": "dOXPPXx8S7SO",
        "outputId": "a6de3a44-dea4-451d-9082-762ad649c184"
      },
      "execution_count": null,
      "outputs": [
        {
          "output_type": "execute_result",
          "data": {
            "text/plain": [
              "array([[ 0.33100885, -0.77664625, -0.99881554, ...,  0.        ,\n",
              "         0.        ,  1.9587957 ],\n",
              "       [-1.17989246,  0.1003166 , -1.58519423, ...,  0.        ,\n",
              "         0.        , -1.38404828],\n",
              "       [ 0.37844688, -0.48299432, -1.59578435, ...,  0.        ,\n",
              "         0.        ,  0.28737371],\n",
              "       ...,\n",
              "       [-1.13957013,  1.21832428,  1.09397975, ...,  0.        ,\n",
              "         0.        ,  0.28737371],\n",
              "       [-1.49772727, -0.77809567, -0.36679966, ...,  0.        ,\n",
              "         0.        ,  0.28737371],\n",
              "       [ 0.52076098, -0.77976293,  0.11221189, ...,  0.        ,\n",
              "         0.        ,  0.28737371]])"
            ]
          },
          "metadata": {},
          "execution_count": 68
        }
      ]
    },
    {
      "cell_type": "markdown",
      "source": [
        "## **Viewing Transformations in Pandas Dataframe Format**"
      ],
      "metadata": {
        "id": "HuidybKJTb6b"
      }
    },
    {
      "cell_type": "markdown",
      "source": [
        "- Let's change both the training and testing data into Pandas dataframe format for visualization purposes."
      ],
      "metadata": {
        "id": "hGE3xFisTd88"
      }
    },
    {
      "cell_type": "code",
      "source": [
        "# Show output of the numeric and categorical columns on the transformed training data.\n",
        "X_train_df = pd.DataFrame(X_train_processed)\n",
        "X_train_df.head()"
      ],
      "metadata": {
        "colab": {
          "base_uri": "https://localhost:8080/"
        },
        "id": "QWt535PSTkLr",
        "outputId": "1adb887e-16b9-4503-f985-0d21b2367c64"
      },
      "execution_count": null,
      "outputs": [
        {
          "output_type": "execute_result",
          "data": {
            "text/plain": [
              "         0         1         2    3    4    5    6    7    8    9   ...   22  \\\n",
              "0  0.817249 -0.712775  1.828109  0.0  1.0  0.0  0.0  0.0  0.0  0.0  ...  0.0   \n",
              "1  0.556340 -1.291052  0.603369  0.0  0.0  1.0  0.0  0.0  0.0  0.0  ...  0.0   \n",
              "2 -0.131512  1.813319  0.244541  0.0  0.0  1.0  0.0  0.0  0.0  0.0  ...  0.0   \n",
              "3 -1.169219 -1.004931 -0.952591  0.0  1.0  0.0  0.0  0.0  1.0  0.0  ...  0.0   \n",
              "4  1.528819 -0.965484 -0.336460  0.0  1.0  0.0  0.0  0.0  0.0  0.0  ...  0.0   \n",
              "\n",
              "    23   24   25   26   27   28   29   30        31  \n",
              "0  0.0  0.0  0.0  1.0  0.0  0.0  1.0  0.0  0.287374  \n",
              "1  0.0  0.0  0.0  1.0  0.0  0.0  1.0  0.0  0.287374  \n",
              "2  0.0  1.0  0.0  0.0  0.0  1.0  0.0  0.0  0.287374  \n",
              "3  0.0  0.0  1.0  0.0  0.0  1.0  0.0  0.0 -1.384048  \n",
              "4  0.0  0.0  1.0  0.0  0.0  1.0  0.0  0.0  0.287374  \n",
              "\n",
              "[5 rows x 32 columns]"
            ],
            "text/html": [
              "\n",
              "  <div id=\"df-5364c942-c105-4699-b3b5-cc3c3776ceb4\">\n",
              "    <div class=\"colab-df-container\">\n",
              "      <div>\n",
              "<style scoped>\n",
              "    .dataframe tbody tr th:only-of-type {\n",
              "        vertical-align: middle;\n",
              "    }\n",
              "\n",
              "    .dataframe tbody tr th {\n",
              "        vertical-align: top;\n",
              "    }\n",
              "\n",
              "    .dataframe thead th {\n",
              "        text-align: right;\n",
              "    }\n",
              "</style>\n",
              "<table border=\"1\" class=\"dataframe\">\n",
              "  <thead>\n",
              "    <tr style=\"text-align: right;\">\n",
              "      <th></th>\n",
              "      <th>0</th>\n",
              "      <th>1</th>\n",
              "      <th>2</th>\n",
              "      <th>3</th>\n",
              "      <th>4</th>\n",
              "      <th>5</th>\n",
              "      <th>6</th>\n",
              "      <th>7</th>\n",
              "      <th>8</th>\n",
              "      <th>9</th>\n",
              "      <th>...</th>\n",
              "      <th>22</th>\n",
              "      <th>23</th>\n",
              "      <th>24</th>\n",
              "      <th>25</th>\n",
              "      <th>26</th>\n",
              "      <th>27</th>\n",
              "      <th>28</th>\n",
              "      <th>29</th>\n",
              "      <th>30</th>\n",
              "      <th>31</th>\n",
              "    </tr>\n",
              "  </thead>\n",
              "  <tbody>\n",
              "    <tr>\n",
              "      <th>0</th>\n",
              "      <td>0.817249</td>\n",
              "      <td>-0.712775</td>\n",
              "      <td>1.828109</td>\n",
              "      <td>0.0</td>\n",
              "      <td>1.0</td>\n",
              "      <td>0.0</td>\n",
              "      <td>0.0</td>\n",
              "      <td>0.0</td>\n",
              "      <td>0.0</td>\n",
              "      <td>0.0</td>\n",
              "      <td>...</td>\n",
              "      <td>0.0</td>\n",
              "      <td>0.0</td>\n",
              "      <td>0.0</td>\n",
              "      <td>0.0</td>\n",
              "      <td>1.0</td>\n",
              "      <td>0.0</td>\n",
              "      <td>0.0</td>\n",
              "      <td>1.0</td>\n",
              "      <td>0.0</td>\n",
              "      <td>0.287374</td>\n",
              "    </tr>\n",
              "    <tr>\n",
              "      <th>1</th>\n",
              "      <td>0.556340</td>\n",
              "      <td>-1.291052</td>\n",
              "      <td>0.603369</td>\n",
              "      <td>0.0</td>\n",
              "      <td>0.0</td>\n",
              "      <td>1.0</td>\n",
              "      <td>0.0</td>\n",
              "      <td>0.0</td>\n",
              "      <td>0.0</td>\n",
              "      <td>0.0</td>\n",
              "      <td>...</td>\n",
              "      <td>0.0</td>\n",
              "      <td>0.0</td>\n",
              "      <td>0.0</td>\n",
              "      <td>0.0</td>\n",
              "      <td>1.0</td>\n",
              "      <td>0.0</td>\n",
              "      <td>0.0</td>\n",
              "      <td>1.0</td>\n",
              "      <td>0.0</td>\n",
              "      <td>0.287374</td>\n",
              "    </tr>\n",
              "    <tr>\n",
              "      <th>2</th>\n",
              "      <td>-0.131512</td>\n",
              "      <td>1.813319</td>\n",
              "      <td>0.244541</td>\n",
              "      <td>0.0</td>\n",
              "      <td>0.0</td>\n",
              "      <td>1.0</td>\n",
              "      <td>0.0</td>\n",
              "      <td>0.0</td>\n",
              "      <td>0.0</td>\n",
              "      <td>0.0</td>\n",
              "      <td>...</td>\n",
              "      <td>0.0</td>\n",
              "      <td>0.0</td>\n",
              "      <td>1.0</td>\n",
              "      <td>0.0</td>\n",
              "      <td>0.0</td>\n",
              "      <td>0.0</td>\n",
              "      <td>1.0</td>\n",
              "      <td>0.0</td>\n",
              "      <td>0.0</td>\n",
              "      <td>0.287374</td>\n",
              "    </tr>\n",
              "    <tr>\n",
              "      <th>3</th>\n",
              "      <td>-1.169219</td>\n",
              "      <td>-1.004931</td>\n",
              "      <td>-0.952591</td>\n",
              "      <td>0.0</td>\n",
              "      <td>1.0</td>\n",
              "      <td>0.0</td>\n",
              "      <td>0.0</td>\n",
              "      <td>0.0</td>\n",
              "      <td>1.0</td>\n",
              "      <td>0.0</td>\n",
              "      <td>...</td>\n",
              "      <td>0.0</td>\n",
              "      <td>0.0</td>\n",
              "      <td>0.0</td>\n",
              "      <td>1.0</td>\n",
              "      <td>0.0</td>\n",
              "      <td>0.0</td>\n",
              "      <td>1.0</td>\n",
              "      <td>0.0</td>\n",
              "      <td>0.0</td>\n",
              "      <td>-1.384048</td>\n",
              "    </tr>\n",
              "    <tr>\n",
              "      <th>4</th>\n",
              "      <td>1.528819</td>\n",
              "      <td>-0.965484</td>\n",
              "      <td>-0.336460</td>\n",
              "      <td>0.0</td>\n",
              "      <td>1.0</td>\n",
              "      <td>0.0</td>\n",
              "      <td>0.0</td>\n",
              "      <td>0.0</td>\n",
              "      <td>0.0</td>\n",
              "      <td>0.0</td>\n",
              "      <td>...</td>\n",
              "      <td>0.0</td>\n",
              "      <td>0.0</td>\n",
              "      <td>0.0</td>\n",
              "      <td>1.0</td>\n",
              "      <td>0.0</td>\n",
              "      <td>0.0</td>\n",
              "      <td>1.0</td>\n",
              "      <td>0.0</td>\n",
              "      <td>0.0</td>\n",
              "      <td>0.287374</td>\n",
              "    </tr>\n",
              "  </tbody>\n",
              "</table>\n",
              "<p>5 rows × 32 columns</p>\n",
              "</div>\n",
              "      <button class=\"colab-df-convert\" onclick=\"convertToInteractive('df-5364c942-c105-4699-b3b5-cc3c3776ceb4')\"\n",
              "              title=\"Convert this dataframe to an interactive table.\"\n",
              "              style=\"display:none;\">\n",
              "        \n",
              "  <svg xmlns=\"http://www.w3.org/2000/svg\" height=\"24px\"viewBox=\"0 0 24 24\"\n",
              "       width=\"24px\">\n",
              "    <path d=\"M0 0h24v24H0V0z\" fill=\"none\"/>\n",
              "    <path d=\"M18.56 5.44l.94 2.06.94-2.06 2.06-.94-2.06-.94-.94-2.06-.94 2.06-2.06.94zm-11 1L8.5 8.5l.94-2.06 2.06-.94-2.06-.94L8.5 2.5l-.94 2.06-2.06.94zm10 10l.94 2.06.94-2.06 2.06-.94-2.06-.94-.94-2.06-.94 2.06-2.06.94z\"/><path d=\"M17.41 7.96l-1.37-1.37c-.4-.4-.92-.59-1.43-.59-.52 0-1.04.2-1.43.59L10.3 9.45l-7.72 7.72c-.78.78-.78 2.05 0 2.83L4 21.41c.39.39.9.59 1.41.59.51 0 1.02-.2 1.41-.59l7.78-7.78 2.81-2.81c.8-.78.8-2.07 0-2.86zM5.41 20L4 18.59l7.72-7.72 1.47 1.35L5.41 20z\"/>\n",
              "  </svg>\n",
              "      </button>\n",
              "      \n",
              "  <style>\n",
              "    .colab-df-container {\n",
              "      display:flex;\n",
              "      flex-wrap:wrap;\n",
              "      gap: 12px;\n",
              "    }\n",
              "\n",
              "    .colab-df-convert {\n",
              "      background-color: #E8F0FE;\n",
              "      border: none;\n",
              "      border-radius: 50%;\n",
              "      cursor: pointer;\n",
              "      display: none;\n",
              "      fill: #1967D2;\n",
              "      height: 32px;\n",
              "      padding: 0 0 0 0;\n",
              "      width: 32px;\n",
              "    }\n",
              "\n",
              "    .colab-df-convert:hover {\n",
              "      background-color: #E2EBFA;\n",
              "      box-shadow: 0px 1px 2px rgba(60, 64, 67, 0.3), 0px 1px 3px 1px rgba(60, 64, 67, 0.15);\n",
              "      fill: #174EA6;\n",
              "    }\n",
              "\n",
              "    [theme=dark] .colab-df-convert {\n",
              "      background-color: #3B4455;\n",
              "      fill: #D2E3FC;\n",
              "    }\n",
              "\n",
              "    [theme=dark] .colab-df-convert:hover {\n",
              "      background-color: #434B5C;\n",
              "      box-shadow: 0px 1px 3px 1px rgba(0, 0, 0, 0.15);\n",
              "      filter: drop-shadow(0px 1px 2px rgba(0, 0, 0, 0.3));\n",
              "      fill: #FFFFFF;\n",
              "    }\n",
              "  </style>\n",
              "\n",
              "      <script>\n",
              "        const buttonEl =\n",
              "          document.querySelector('#df-5364c942-c105-4699-b3b5-cc3c3776ceb4 button.colab-df-convert');\n",
              "        buttonEl.style.display =\n",
              "          google.colab.kernel.accessAllowed ? 'block' : 'none';\n",
              "\n",
              "        async function convertToInteractive(key) {\n",
              "          const element = document.querySelector('#df-5364c942-c105-4699-b3b5-cc3c3776ceb4');\n",
              "          const dataTable =\n",
              "            await google.colab.kernel.invokeFunction('convertToInteractive',\n",
              "                                                     [key], {});\n",
              "          if (!dataTable) return;\n",
              "\n",
              "          const docLinkHtml = 'Like what you see? Visit the ' +\n",
              "            '<a target=\"_blank\" href=https://colab.research.google.com/notebooks/data_table.ipynb>data table notebook</a>'\n",
              "            + ' to learn more about interactive tables.';\n",
              "          element.innerHTML = '';\n",
              "          dataTable['output_type'] = 'display_data';\n",
              "          await google.colab.output.renderOutput(dataTable, element);\n",
              "          const docLink = document.createElement('div');\n",
              "          docLink.innerHTML = docLinkHtml;\n",
              "          element.appendChild(docLink);\n",
              "        }\n",
              "      </script>\n",
              "    </div>\n",
              "  </div>\n",
              "  "
            ]
          },
          "metadata": {},
          "execution_count": 69
        }
      ]
    },
    {
      "cell_type": "code",
      "source": [
        "# Show output of the numeric and categorical columns on the transformed testing data.\n",
        "X_test_df = pd.DataFrame(X_test_processed)\n",
        "X_test_df.head()"
      ],
      "metadata": {
        "colab": {
          "base_uri": "https://localhost:8080/"
        },
        "id": "J0FsMQfSTpwB",
        "outputId": "ef22c6b5-891b-4eb3-ab3a-2f83110785f3"
      },
      "execution_count": null,
      "outputs": [
        {
          "output_type": "execute_result",
          "data": {
            "text/plain": [
              "             0         1         2    3    4    5    6    7    8    9   ...  \\\n",
              "0  3.310089e-01 -0.776646 -0.998816  0.0  1.0  0.0  0.0  0.0  0.0  0.0  ...   \n",
              "1 -1.179892e+00  0.100317 -1.585194  0.0  1.0  0.0  0.0  0.0  0.0  0.0  ...   \n",
              "2  3.784469e-01 -0.482994 -1.595784  0.0  0.0  1.0  0.0  0.0  0.0  0.0  ...   \n",
              "3  4.213344e-16 -0.415440  0.506592  0.0  0.0  1.0  0.0  0.0  0.0  0.0  ...   \n",
              "4 -6.426567e-01 -1.047426  0.886725  0.0  0.0  1.0  0.0  0.0  0.0  0.0  ...   \n",
              "\n",
              "    22   23   24   25   26   27   28   29   30        31  \n",
              "0  0.0  0.0  0.0  0.0  1.0  0.0  1.0  0.0  0.0  1.958796  \n",
              "1  0.0  0.0  1.0  0.0  0.0  0.0  1.0  0.0  0.0 -1.384048  \n",
              "2  0.0  0.0  1.0  0.0  0.0  0.0  1.0  0.0  0.0  0.287374  \n",
              "3  1.0  0.0  0.0  0.0  1.0  0.0  0.0  0.0  1.0  0.287374  \n",
              "4  0.0  0.0  0.0  1.0  0.0  0.0  1.0  0.0  0.0 -1.384048  \n",
              "\n",
              "[5 rows x 32 columns]"
            ],
            "text/html": [
              "\n",
              "  <div id=\"df-f5ee0a10-edae-4f8a-a41d-675151ecbf3c\">\n",
              "    <div class=\"colab-df-container\">\n",
              "      <div>\n",
              "<style scoped>\n",
              "    .dataframe tbody tr th:only-of-type {\n",
              "        vertical-align: middle;\n",
              "    }\n",
              "\n",
              "    .dataframe tbody tr th {\n",
              "        vertical-align: top;\n",
              "    }\n",
              "\n",
              "    .dataframe thead th {\n",
              "        text-align: right;\n",
              "    }\n",
              "</style>\n",
              "<table border=\"1\" class=\"dataframe\">\n",
              "  <thead>\n",
              "    <tr style=\"text-align: right;\">\n",
              "      <th></th>\n",
              "      <th>0</th>\n",
              "      <th>1</th>\n",
              "      <th>2</th>\n",
              "      <th>3</th>\n",
              "      <th>4</th>\n",
              "      <th>5</th>\n",
              "      <th>6</th>\n",
              "      <th>7</th>\n",
              "      <th>8</th>\n",
              "      <th>9</th>\n",
              "      <th>...</th>\n",
              "      <th>22</th>\n",
              "      <th>23</th>\n",
              "      <th>24</th>\n",
              "      <th>25</th>\n",
              "      <th>26</th>\n",
              "      <th>27</th>\n",
              "      <th>28</th>\n",
              "      <th>29</th>\n",
              "      <th>30</th>\n",
              "      <th>31</th>\n",
              "    </tr>\n",
              "  </thead>\n",
              "  <tbody>\n",
              "    <tr>\n",
              "      <th>0</th>\n",
              "      <td>3.310089e-01</td>\n",
              "      <td>-0.776646</td>\n",
              "      <td>-0.998816</td>\n",
              "      <td>0.0</td>\n",
              "      <td>1.0</td>\n",
              "      <td>0.0</td>\n",
              "      <td>0.0</td>\n",
              "      <td>0.0</td>\n",
              "      <td>0.0</td>\n",
              "      <td>0.0</td>\n",
              "      <td>...</td>\n",
              "      <td>0.0</td>\n",
              "      <td>0.0</td>\n",
              "      <td>0.0</td>\n",
              "      <td>0.0</td>\n",
              "      <td>1.0</td>\n",
              "      <td>0.0</td>\n",
              "      <td>1.0</td>\n",
              "      <td>0.0</td>\n",
              "      <td>0.0</td>\n",
              "      <td>1.958796</td>\n",
              "    </tr>\n",
              "    <tr>\n",
              "      <th>1</th>\n",
              "      <td>-1.179892e+00</td>\n",
              "      <td>0.100317</td>\n",
              "      <td>-1.585194</td>\n",
              "      <td>0.0</td>\n",
              "      <td>1.0</td>\n",
              "      <td>0.0</td>\n",
              "      <td>0.0</td>\n",
              "      <td>0.0</td>\n",
              "      <td>0.0</td>\n",
              "      <td>0.0</td>\n",
              "      <td>...</td>\n",
              "      <td>0.0</td>\n",
              "      <td>0.0</td>\n",
              "      <td>1.0</td>\n",
              "      <td>0.0</td>\n",
              "      <td>0.0</td>\n",
              "      <td>0.0</td>\n",
              "      <td>1.0</td>\n",
              "      <td>0.0</td>\n",
              "      <td>0.0</td>\n",
              "      <td>-1.384048</td>\n",
              "    </tr>\n",
              "    <tr>\n",
              "      <th>2</th>\n",
              "      <td>3.784469e-01</td>\n",
              "      <td>-0.482994</td>\n",
              "      <td>-1.595784</td>\n",
              "      <td>0.0</td>\n",
              "      <td>0.0</td>\n",
              "      <td>1.0</td>\n",
              "      <td>0.0</td>\n",
              "      <td>0.0</td>\n",
              "      <td>0.0</td>\n",
              "      <td>0.0</td>\n",
              "      <td>...</td>\n",
              "      <td>0.0</td>\n",
              "      <td>0.0</td>\n",
              "      <td>1.0</td>\n",
              "      <td>0.0</td>\n",
              "      <td>0.0</td>\n",
              "      <td>0.0</td>\n",
              "      <td>1.0</td>\n",
              "      <td>0.0</td>\n",
              "      <td>0.0</td>\n",
              "      <td>0.287374</td>\n",
              "    </tr>\n",
              "    <tr>\n",
              "      <th>3</th>\n",
              "      <td>4.213344e-16</td>\n",
              "      <td>-0.415440</td>\n",
              "      <td>0.506592</td>\n",
              "      <td>0.0</td>\n",
              "      <td>0.0</td>\n",
              "      <td>1.0</td>\n",
              "      <td>0.0</td>\n",
              "      <td>0.0</td>\n",
              "      <td>0.0</td>\n",
              "      <td>0.0</td>\n",
              "      <td>...</td>\n",
              "      <td>1.0</td>\n",
              "      <td>0.0</td>\n",
              "      <td>0.0</td>\n",
              "      <td>0.0</td>\n",
              "      <td>1.0</td>\n",
              "      <td>0.0</td>\n",
              "      <td>0.0</td>\n",
              "      <td>0.0</td>\n",
              "      <td>1.0</td>\n",
              "      <td>0.287374</td>\n",
              "    </tr>\n",
              "    <tr>\n",
              "      <th>4</th>\n",
              "      <td>-6.426567e-01</td>\n",
              "      <td>-1.047426</td>\n",
              "      <td>0.886725</td>\n",
              "      <td>0.0</td>\n",
              "      <td>0.0</td>\n",
              "      <td>1.0</td>\n",
              "      <td>0.0</td>\n",
              "      <td>0.0</td>\n",
              "      <td>0.0</td>\n",
              "      <td>0.0</td>\n",
              "      <td>...</td>\n",
              "      <td>0.0</td>\n",
              "      <td>0.0</td>\n",
              "      <td>0.0</td>\n",
              "      <td>1.0</td>\n",
              "      <td>0.0</td>\n",
              "      <td>0.0</td>\n",
              "      <td>1.0</td>\n",
              "      <td>0.0</td>\n",
              "      <td>0.0</td>\n",
              "      <td>-1.384048</td>\n",
              "    </tr>\n",
              "  </tbody>\n",
              "</table>\n",
              "<p>5 rows × 32 columns</p>\n",
              "</div>\n",
              "      <button class=\"colab-df-convert\" onclick=\"convertToInteractive('df-f5ee0a10-edae-4f8a-a41d-675151ecbf3c')\"\n",
              "              title=\"Convert this dataframe to an interactive table.\"\n",
              "              style=\"display:none;\">\n",
              "        \n",
              "  <svg xmlns=\"http://www.w3.org/2000/svg\" height=\"24px\"viewBox=\"0 0 24 24\"\n",
              "       width=\"24px\">\n",
              "    <path d=\"M0 0h24v24H0V0z\" fill=\"none\"/>\n",
              "    <path d=\"M18.56 5.44l.94 2.06.94-2.06 2.06-.94-2.06-.94-.94-2.06-.94 2.06-2.06.94zm-11 1L8.5 8.5l.94-2.06 2.06-.94-2.06-.94L8.5 2.5l-.94 2.06-2.06.94zm10 10l.94 2.06.94-2.06 2.06-.94-2.06-.94-.94-2.06-.94 2.06-2.06.94z\"/><path d=\"M17.41 7.96l-1.37-1.37c-.4-.4-.92-.59-1.43-.59-.52 0-1.04.2-1.43.59L10.3 9.45l-7.72 7.72c-.78.78-.78 2.05 0 2.83L4 21.41c.39.39.9.59 1.41.59.51 0 1.02-.2 1.41-.59l7.78-7.78 2.81-2.81c.8-.78.8-2.07 0-2.86zM5.41 20L4 18.59l7.72-7.72 1.47 1.35L5.41 20z\"/>\n",
              "  </svg>\n",
              "      </button>\n",
              "      \n",
              "  <style>\n",
              "    .colab-df-container {\n",
              "      display:flex;\n",
              "      flex-wrap:wrap;\n",
              "      gap: 12px;\n",
              "    }\n",
              "\n",
              "    .colab-df-convert {\n",
              "      background-color: #E8F0FE;\n",
              "      border: none;\n",
              "      border-radius: 50%;\n",
              "      cursor: pointer;\n",
              "      display: none;\n",
              "      fill: #1967D2;\n",
              "      height: 32px;\n",
              "      padding: 0 0 0 0;\n",
              "      width: 32px;\n",
              "    }\n",
              "\n",
              "    .colab-df-convert:hover {\n",
              "      background-color: #E2EBFA;\n",
              "      box-shadow: 0px 1px 2px rgba(60, 64, 67, 0.3), 0px 1px 3px 1px rgba(60, 64, 67, 0.15);\n",
              "      fill: #174EA6;\n",
              "    }\n",
              "\n",
              "    [theme=dark] .colab-df-convert {\n",
              "      background-color: #3B4455;\n",
              "      fill: #D2E3FC;\n",
              "    }\n",
              "\n",
              "    [theme=dark] .colab-df-convert:hover {\n",
              "      background-color: #434B5C;\n",
              "      box-shadow: 0px 1px 3px 1px rgba(0, 0, 0, 0.15);\n",
              "      filter: drop-shadow(0px 1px 2px rgba(0, 0, 0, 0.3));\n",
              "      fill: #FFFFFF;\n",
              "    }\n",
              "  </style>\n",
              "\n",
              "      <script>\n",
              "        const buttonEl =\n",
              "          document.querySelector('#df-f5ee0a10-edae-4f8a-a41d-675151ecbf3c button.colab-df-convert');\n",
              "        buttonEl.style.display =\n",
              "          google.colab.kernel.accessAllowed ? 'block' : 'none';\n",
              "\n",
              "        async function convertToInteractive(key) {\n",
              "          const element = document.querySelector('#df-f5ee0a10-edae-4f8a-a41d-675151ecbf3c');\n",
              "          const dataTable =\n",
              "            await google.colab.kernel.invokeFunction('convertToInteractive',\n",
              "                                                     [key], {});\n",
              "          if (!dataTable) return;\n",
              "\n",
              "          const docLinkHtml = 'Like what you see? Visit the ' +\n",
              "            '<a target=\"_blank\" href=https://colab.research.google.com/notebooks/data_table.ipynb>data table notebook</a>'\n",
              "            + ' to learn more about interactive tables.';\n",
              "          element.innerHTML = '';\n",
              "          dataTable['output_type'] = 'display_data';\n",
              "          await google.colab.output.renderOutput(dataTable, element);\n",
              "          const docLink = document.createElement('div');\n",
              "          docLink.innerHTML = docLinkHtml;\n",
              "          element.appendChild(docLink);\n",
              "        }\n",
              "      </script>\n",
              "    </div>\n",
              "  </div>\n",
              "  "
            ]
          },
          "metadata": {},
          "execution_count": 70
        }
      ]
    },
    {
      "cell_type": "markdown",
      "source": [
        "# **Machine Learning & Regression Modeling**"
      ],
      "metadata": {
        "id": "i0tDCA-tW3Gk"
      }
    },
    {
      "cell_type": "markdown",
      "source": [
        "- Now that we actually have our pipelines necessary for preprocessing of data for use in machine learning, let's explore the many different types of regression models that help us to figure out what fits the dataset best via training data."
      ],
      "metadata": {
        "id": "QLrI9GOFXAln"
      }
    },
    {
      "cell_type": "markdown",
      "source": [
        "## **Linear Regression Modeling**"
      ],
      "metadata": {
        "id": "4DFkfEhcYVtf"
      }
    },
    {
      "cell_type": "markdown",
      "source": [
        "### **Model Fitting**\n",
        "\n",
        "- First off, let's use linear regression modeling on the dataset and see how well the fit is.\n",
        "- Let's first instantiate the LinearRegression process, then create a pipeline that connects both the preprocessing and the LinearRegression processes together."
      ],
      "metadata": {
        "id": "-ApcWrFpXZP5"
      }
    },
    {
      "cell_type": "code",
      "source": [
        "# Instantiates LinearRegression into Python.\n",
        "lin_reg = LinearRegression()"
      ],
      "metadata": {
        "id": "Xk4SdWZhHEOE"
      },
      "execution_count": null,
      "outputs": []
    },
    {
      "cell_type": "code",
      "source": [
        "# Combine the Preprocessor pipeline and LinearRegression together into reg_pipe.\n",
        "linreg_pipe = make_pipeline(preprocessor, lin_reg)\n",
        "linreg_pipe"
      ],
      "metadata": {
        "colab": {
          "base_uri": "https://localhost:8080/",
          "height": 262
        },
        "id": "_V1ReH-CHH9S",
        "outputId": "892ba351-8c11-4d19-a836-9230dbafe7ae"
      },
      "execution_count": null,
      "outputs": [
        {
          "output_type": "execute_result",
          "data": {
            "text/plain": [
              "Pipeline(steps=[('columntransformer',\n",
              "                 ColumnTransformer(transformers=[('pipeline-1',\n",
              "                                                  Pipeline(steps=[('simpleimputer',\n",
              "                                                                   SimpleImputer()),\n",
              "                                                                  ('standardscaler',\n",
              "                                                                   StandardScaler())]),\n",
              "                                                  <sklearn.compose._column_transformer.make_column_selector object at 0x7f0a53368190>),\n",
              "                                                 ('pipeline-2',\n",
              "                                                  Pipeline(steps=[('simpleimputer',\n",
              "                                                                   SimpleImputer(fill_value='Missing',\n",
              "                                                                                 strategy='const...\n",
              "                                                                   OneHotEncoder(handle_unknown='ignore',\n",
              "                                                                                 sparse=False))]),\n",
              "                                                  ['Item_Fat_Content',\n",
              "                                                   'Item_Type',\n",
              "                                                   'Outlet_Location_Type',\n",
              "                                                   'Outlet_Type']),\n",
              "                                                 ('pipeline-3',\n",
              "                                                  Pipeline(steps=[('simpleimputer',\n",
              "                                                                   SimpleImputer(strategy='most_frequent')),\n",
              "                                                                  ('ordinalencoder',\n",
              "                                                                   OrdinalEncoder(categories=[['Small',\n",
              "                                                                                               'Medium',\n",
              "                                                                                               'High']])),\n",
              "                                                                  ('standardscaler',\n",
              "                                                                   StandardScaler())]),\n",
              "                                                  ['Outlet_Size'])])),\n",
              "                ('linearregression', LinearRegression())])"
            ],
            "text/html": [
              "<style>#sk-8074c476-ee9a-428c-8657-71f4246fe8f5 {color: black;background-color: white;}#sk-8074c476-ee9a-428c-8657-71f4246fe8f5 pre{padding: 0;}#sk-8074c476-ee9a-428c-8657-71f4246fe8f5 div.sk-toggleable {background-color: white;}#sk-8074c476-ee9a-428c-8657-71f4246fe8f5 label.sk-toggleable__label {cursor: pointer;display: block;width: 100%;margin-bottom: 0;padding: 0.3em;box-sizing: border-box;text-align: center;}#sk-8074c476-ee9a-428c-8657-71f4246fe8f5 label.sk-toggleable__label-arrow:before {content: \"▸\";float: left;margin-right: 0.25em;color: #696969;}#sk-8074c476-ee9a-428c-8657-71f4246fe8f5 label.sk-toggleable__label-arrow:hover:before {color: black;}#sk-8074c476-ee9a-428c-8657-71f4246fe8f5 div.sk-estimator:hover label.sk-toggleable__label-arrow:before {color: black;}#sk-8074c476-ee9a-428c-8657-71f4246fe8f5 div.sk-toggleable__content {max-height: 0;max-width: 0;overflow: hidden;text-align: left;background-color: #f0f8ff;}#sk-8074c476-ee9a-428c-8657-71f4246fe8f5 div.sk-toggleable__content pre {margin: 0.2em;color: black;border-radius: 0.25em;background-color: #f0f8ff;}#sk-8074c476-ee9a-428c-8657-71f4246fe8f5 input.sk-toggleable__control:checked~div.sk-toggleable__content {max-height: 200px;max-width: 100%;overflow: auto;}#sk-8074c476-ee9a-428c-8657-71f4246fe8f5 input.sk-toggleable__control:checked~label.sk-toggleable__label-arrow:before {content: \"▾\";}#sk-8074c476-ee9a-428c-8657-71f4246fe8f5 div.sk-estimator input.sk-toggleable__control:checked~label.sk-toggleable__label {background-color: #d4ebff;}#sk-8074c476-ee9a-428c-8657-71f4246fe8f5 div.sk-label input.sk-toggleable__control:checked~label.sk-toggleable__label {background-color: #d4ebff;}#sk-8074c476-ee9a-428c-8657-71f4246fe8f5 input.sk-hidden--visually {border: 0;clip: rect(1px 1px 1px 1px);clip: rect(1px, 1px, 1px, 1px);height: 1px;margin: -1px;overflow: hidden;padding: 0;position: absolute;width: 1px;}#sk-8074c476-ee9a-428c-8657-71f4246fe8f5 div.sk-estimator {font-family: monospace;background-color: #f0f8ff;border: 1px dotted black;border-radius: 0.25em;box-sizing: border-box;margin-bottom: 0.5em;}#sk-8074c476-ee9a-428c-8657-71f4246fe8f5 div.sk-estimator:hover {background-color: #d4ebff;}#sk-8074c476-ee9a-428c-8657-71f4246fe8f5 div.sk-parallel-item::after {content: \"\";width: 100%;border-bottom: 1px solid gray;flex-grow: 1;}#sk-8074c476-ee9a-428c-8657-71f4246fe8f5 div.sk-label:hover label.sk-toggleable__label {background-color: #d4ebff;}#sk-8074c476-ee9a-428c-8657-71f4246fe8f5 div.sk-serial::before {content: \"\";position: absolute;border-left: 1px solid gray;box-sizing: border-box;top: 2em;bottom: 0;left: 50%;}#sk-8074c476-ee9a-428c-8657-71f4246fe8f5 div.sk-serial {display: flex;flex-direction: column;align-items: center;background-color: white;padding-right: 0.2em;padding-left: 0.2em;}#sk-8074c476-ee9a-428c-8657-71f4246fe8f5 div.sk-item {z-index: 1;}#sk-8074c476-ee9a-428c-8657-71f4246fe8f5 div.sk-parallel {display: flex;align-items: stretch;justify-content: center;background-color: white;}#sk-8074c476-ee9a-428c-8657-71f4246fe8f5 div.sk-parallel::before {content: \"\";position: absolute;border-left: 1px solid gray;box-sizing: border-box;top: 2em;bottom: 0;left: 50%;}#sk-8074c476-ee9a-428c-8657-71f4246fe8f5 div.sk-parallel-item {display: flex;flex-direction: column;position: relative;background-color: white;}#sk-8074c476-ee9a-428c-8657-71f4246fe8f5 div.sk-parallel-item:first-child::after {align-self: flex-end;width: 50%;}#sk-8074c476-ee9a-428c-8657-71f4246fe8f5 div.sk-parallel-item:last-child::after {align-self: flex-start;width: 50%;}#sk-8074c476-ee9a-428c-8657-71f4246fe8f5 div.sk-parallel-item:only-child::after {width: 0;}#sk-8074c476-ee9a-428c-8657-71f4246fe8f5 div.sk-dashed-wrapped {border: 1px dashed gray;margin: 0 0.4em 0.5em 0.4em;box-sizing: border-box;padding-bottom: 0.4em;background-color: white;position: relative;}#sk-8074c476-ee9a-428c-8657-71f4246fe8f5 div.sk-label label {font-family: monospace;font-weight: bold;background-color: white;display: inline-block;line-height: 1.2em;}#sk-8074c476-ee9a-428c-8657-71f4246fe8f5 div.sk-label-container {position: relative;z-index: 2;text-align: center;}#sk-8074c476-ee9a-428c-8657-71f4246fe8f5 div.sk-container {/* jupyter's `normalize.less` sets `[hidden] { display: none; }` but bootstrap.min.css set `[hidden] { display: none !important; }` so we also need the `!important` here to be able to override the default hidden behavior on the sphinx rendered scikit-learn.org. See: https://github.com/scikit-learn/scikit-learn/issues/21755 */display: inline-block !important;position: relative;}#sk-8074c476-ee9a-428c-8657-71f4246fe8f5 div.sk-text-repr-fallback {display: none;}</style><div id=\"sk-8074c476-ee9a-428c-8657-71f4246fe8f5\" class=\"sk-top-container\"><div class=\"sk-text-repr-fallback\"><pre>Pipeline(steps=[(&#x27;columntransformer&#x27;,\n",
              "                 ColumnTransformer(transformers=[(&#x27;pipeline-1&#x27;,\n",
              "                                                  Pipeline(steps=[(&#x27;simpleimputer&#x27;,\n",
              "                                                                   SimpleImputer()),\n",
              "                                                                  (&#x27;standardscaler&#x27;,\n",
              "                                                                   StandardScaler())]),\n",
              "                                                  &lt;sklearn.compose._column_transformer.make_column_selector object at 0x7f0a53368190&gt;),\n",
              "                                                 (&#x27;pipeline-2&#x27;,\n",
              "                                                  Pipeline(steps=[(&#x27;simpleimputer&#x27;,\n",
              "                                                                   SimpleImputer(fill_value=&#x27;Missing&#x27;,\n",
              "                                                                                 strategy=&#x27;const...\n",
              "                                                                   OneHotEncoder(handle_unknown=&#x27;ignore&#x27;,\n",
              "                                                                                 sparse=False))]),\n",
              "                                                  [&#x27;Item_Fat_Content&#x27;,\n",
              "                                                   &#x27;Item_Type&#x27;,\n",
              "                                                   &#x27;Outlet_Location_Type&#x27;,\n",
              "                                                   &#x27;Outlet_Type&#x27;]),\n",
              "                                                 (&#x27;pipeline-3&#x27;,\n",
              "                                                  Pipeline(steps=[(&#x27;simpleimputer&#x27;,\n",
              "                                                                   SimpleImputer(strategy=&#x27;most_frequent&#x27;)),\n",
              "                                                                  (&#x27;ordinalencoder&#x27;,\n",
              "                                                                   OrdinalEncoder(categories=[[&#x27;Small&#x27;,\n",
              "                                                                                               &#x27;Medium&#x27;,\n",
              "                                                                                               &#x27;High&#x27;]])),\n",
              "                                                                  (&#x27;standardscaler&#x27;,\n",
              "                                                                   StandardScaler())]),\n",
              "                                                  [&#x27;Outlet_Size&#x27;])])),\n",
              "                (&#x27;linearregression&#x27;, LinearRegression())])</pre><b>Please rerun this cell to show the HTML repr or trust the notebook.</b></div><div class=\"sk-container\" hidden><div class=\"sk-item sk-dashed-wrapped\"><div class=\"sk-label-container\"><div class=\"sk-label sk-toggleable\"><input class=\"sk-toggleable__control sk-hidden--visually\" id=\"e154c63b-3740-4434-b43e-704574d3200c\" type=\"checkbox\" ><label for=\"e154c63b-3740-4434-b43e-704574d3200c\" class=\"sk-toggleable__label sk-toggleable__label-arrow\">Pipeline</label><div class=\"sk-toggleable__content\"><pre>Pipeline(steps=[(&#x27;columntransformer&#x27;,\n",
              "                 ColumnTransformer(transformers=[(&#x27;pipeline-1&#x27;,\n",
              "                                                  Pipeline(steps=[(&#x27;simpleimputer&#x27;,\n",
              "                                                                   SimpleImputer()),\n",
              "                                                                  (&#x27;standardscaler&#x27;,\n",
              "                                                                   StandardScaler())]),\n",
              "                                                  &lt;sklearn.compose._column_transformer.make_column_selector object at 0x7f0a53368190&gt;),\n",
              "                                                 (&#x27;pipeline-2&#x27;,\n",
              "                                                  Pipeline(steps=[(&#x27;simpleimputer&#x27;,\n",
              "                                                                   SimpleImputer(fill_value=&#x27;Missing&#x27;,\n",
              "                                                                                 strategy=&#x27;const...\n",
              "                                                                   OneHotEncoder(handle_unknown=&#x27;ignore&#x27;,\n",
              "                                                                                 sparse=False))]),\n",
              "                                                  [&#x27;Item_Fat_Content&#x27;,\n",
              "                                                   &#x27;Item_Type&#x27;,\n",
              "                                                   &#x27;Outlet_Location_Type&#x27;,\n",
              "                                                   &#x27;Outlet_Type&#x27;]),\n",
              "                                                 (&#x27;pipeline-3&#x27;,\n",
              "                                                  Pipeline(steps=[(&#x27;simpleimputer&#x27;,\n",
              "                                                                   SimpleImputer(strategy=&#x27;most_frequent&#x27;)),\n",
              "                                                                  (&#x27;ordinalencoder&#x27;,\n",
              "                                                                   OrdinalEncoder(categories=[[&#x27;Small&#x27;,\n",
              "                                                                                               &#x27;Medium&#x27;,\n",
              "                                                                                               &#x27;High&#x27;]])),\n",
              "                                                                  (&#x27;standardscaler&#x27;,\n",
              "                                                                   StandardScaler())]),\n",
              "                                                  [&#x27;Outlet_Size&#x27;])])),\n",
              "                (&#x27;linearregression&#x27;, LinearRegression())])</pre></div></div></div><div class=\"sk-serial\"><div class=\"sk-item sk-dashed-wrapped\"><div class=\"sk-label-container\"><div class=\"sk-label sk-toggleable\"><input class=\"sk-toggleable__control sk-hidden--visually\" id=\"e73bb29f-b1d2-4721-8e09-20cb9f3a8132\" type=\"checkbox\" ><label for=\"e73bb29f-b1d2-4721-8e09-20cb9f3a8132\" class=\"sk-toggleable__label sk-toggleable__label-arrow\">columntransformer: ColumnTransformer</label><div class=\"sk-toggleable__content\"><pre>ColumnTransformer(transformers=[(&#x27;pipeline-1&#x27;,\n",
              "                                 Pipeline(steps=[(&#x27;simpleimputer&#x27;,\n",
              "                                                  SimpleImputer()),\n",
              "                                                 (&#x27;standardscaler&#x27;,\n",
              "                                                  StandardScaler())]),\n",
              "                                 &lt;sklearn.compose._column_transformer.make_column_selector object at 0x7f0a53368190&gt;),\n",
              "                                (&#x27;pipeline-2&#x27;,\n",
              "                                 Pipeline(steps=[(&#x27;simpleimputer&#x27;,\n",
              "                                                  SimpleImputer(fill_value=&#x27;Missing&#x27;,\n",
              "                                                                strategy=&#x27;constant&#x27;)),\n",
              "                                                 (&#x27;onehotencoder&#x27;,\n",
              "                                                  OneHotEncoder(handle_unknown=&#x27;ignore&#x27;,\n",
              "                                                                sparse=False))]),\n",
              "                                 [&#x27;Item_Fat_Content&#x27;, &#x27;Item_Type&#x27;,\n",
              "                                  &#x27;Outlet_Location_Type&#x27;, &#x27;Outlet_Type&#x27;]),\n",
              "                                (&#x27;pipeline-3&#x27;,\n",
              "                                 Pipeline(steps=[(&#x27;simpleimputer&#x27;,\n",
              "                                                  SimpleImputer(strategy=&#x27;most_frequent&#x27;)),\n",
              "                                                 (&#x27;ordinalencoder&#x27;,\n",
              "                                                  OrdinalEncoder(categories=[[&#x27;Small&#x27;,\n",
              "                                                                              &#x27;Medium&#x27;,\n",
              "                                                                              &#x27;High&#x27;]])),\n",
              "                                                 (&#x27;standardscaler&#x27;,\n",
              "                                                  StandardScaler())]),\n",
              "                                 [&#x27;Outlet_Size&#x27;])])</pre></div></div></div><div class=\"sk-parallel\"><div class=\"sk-parallel-item\"><div class=\"sk-item\"><div class=\"sk-label-container\"><div class=\"sk-label sk-toggleable\"><input class=\"sk-toggleable__control sk-hidden--visually\" id=\"0af7dc72-0cb9-4e7d-9c6c-d0fd928d6019\" type=\"checkbox\" ><label for=\"0af7dc72-0cb9-4e7d-9c6c-d0fd928d6019\" class=\"sk-toggleable__label sk-toggleable__label-arrow\">pipeline-1</label><div class=\"sk-toggleable__content\"><pre>&lt;sklearn.compose._column_transformer.make_column_selector object at 0x7f0a53368190&gt;</pre></div></div></div><div class=\"sk-serial\"><div class=\"sk-item\"><div class=\"sk-serial\"><div class=\"sk-item\"><div class=\"sk-estimator sk-toggleable\"><input class=\"sk-toggleable__control sk-hidden--visually\" id=\"f7dd3ab8-d8d5-463a-918a-0f2a765f6f86\" type=\"checkbox\" ><label for=\"f7dd3ab8-d8d5-463a-918a-0f2a765f6f86\" class=\"sk-toggleable__label sk-toggleable__label-arrow\">SimpleImputer</label><div class=\"sk-toggleable__content\"><pre>SimpleImputer()</pre></div></div></div><div class=\"sk-item\"><div class=\"sk-estimator sk-toggleable\"><input class=\"sk-toggleable__control sk-hidden--visually\" id=\"f54d5a2e-a245-4ca8-ac72-435b58d428ce\" type=\"checkbox\" ><label for=\"f54d5a2e-a245-4ca8-ac72-435b58d428ce\" class=\"sk-toggleable__label sk-toggleable__label-arrow\">StandardScaler</label><div class=\"sk-toggleable__content\"><pre>StandardScaler()</pre></div></div></div></div></div></div></div></div><div class=\"sk-parallel-item\"><div class=\"sk-item\"><div class=\"sk-label-container\"><div class=\"sk-label sk-toggleable\"><input class=\"sk-toggleable__control sk-hidden--visually\" id=\"c29e5bc0-71fc-4b07-9397-281a1061d3de\" type=\"checkbox\" ><label for=\"c29e5bc0-71fc-4b07-9397-281a1061d3de\" class=\"sk-toggleable__label sk-toggleable__label-arrow\">pipeline-2</label><div class=\"sk-toggleable__content\"><pre>[&#x27;Item_Fat_Content&#x27;, &#x27;Item_Type&#x27;, &#x27;Outlet_Location_Type&#x27;, &#x27;Outlet_Type&#x27;]</pre></div></div></div><div class=\"sk-serial\"><div class=\"sk-item\"><div class=\"sk-serial\"><div class=\"sk-item\"><div class=\"sk-estimator sk-toggleable\"><input class=\"sk-toggleable__control sk-hidden--visually\" id=\"de20f63d-d98d-4763-b76a-3d2ae2e7b2ad\" type=\"checkbox\" ><label for=\"de20f63d-d98d-4763-b76a-3d2ae2e7b2ad\" class=\"sk-toggleable__label sk-toggleable__label-arrow\">SimpleImputer</label><div class=\"sk-toggleable__content\"><pre>SimpleImputer(fill_value=&#x27;Missing&#x27;, strategy=&#x27;constant&#x27;)</pre></div></div></div><div class=\"sk-item\"><div class=\"sk-estimator sk-toggleable\"><input class=\"sk-toggleable__control sk-hidden--visually\" id=\"d9e5c60b-a663-4369-8e4e-34c1e5986666\" type=\"checkbox\" ><label for=\"d9e5c60b-a663-4369-8e4e-34c1e5986666\" class=\"sk-toggleable__label sk-toggleable__label-arrow\">OneHotEncoder</label><div class=\"sk-toggleable__content\"><pre>OneHotEncoder(handle_unknown=&#x27;ignore&#x27;, sparse=False)</pre></div></div></div></div></div></div></div></div><div class=\"sk-parallel-item\"><div class=\"sk-item\"><div class=\"sk-label-container\"><div class=\"sk-label sk-toggleable\"><input class=\"sk-toggleable__control sk-hidden--visually\" id=\"8d0c7590-1897-4d3a-a35e-bcee2c2db67e\" type=\"checkbox\" ><label for=\"8d0c7590-1897-4d3a-a35e-bcee2c2db67e\" class=\"sk-toggleable__label sk-toggleable__label-arrow\">pipeline-3</label><div class=\"sk-toggleable__content\"><pre>[&#x27;Outlet_Size&#x27;]</pre></div></div></div><div class=\"sk-serial\"><div class=\"sk-item\"><div class=\"sk-serial\"><div class=\"sk-item\"><div class=\"sk-estimator sk-toggleable\"><input class=\"sk-toggleable__control sk-hidden--visually\" id=\"ac47f41e-3cfe-4f4f-ba7a-3b34c2594592\" type=\"checkbox\" ><label for=\"ac47f41e-3cfe-4f4f-ba7a-3b34c2594592\" class=\"sk-toggleable__label sk-toggleable__label-arrow\">SimpleImputer</label><div class=\"sk-toggleable__content\"><pre>SimpleImputer(strategy=&#x27;most_frequent&#x27;)</pre></div></div></div><div class=\"sk-item\"><div class=\"sk-estimator sk-toggleable\"><input class=\"sk-toggleable__control sk-hidden--visually\" id=\"e026b01e-278c-439a-afcd-d888452ac053\" type=\"checkbox\" ><label for=\"e026b01e-278c-439a-afcd-d888452ac053\" class=\"sk-toggleable__label sk-toggleable__label-arrow\">OrdinalEncoder</label><div class=\"sk-toggleable__content\"><pre>OrdinalEncoder(categories=[[&#x27;Small&#x27;, &#x27;Medium&#x27;, &#x27;High&#x27;]])</pre></div></div></div><div class=\"sk-item\"><div class=\"sk-estimator sk-toggleable\"><input class=\"sk-toggleable__control sk-hidden--visually\" id=\"86da0bb1-2ed6-41e3-9d7f-e044e6a29334\" type=\"checkbox\" ><label for=\"86da0bb1-2ed6-41e3-9d7f-e044e6a29334\" class=\"sk-toggleable__label sk-toggleable__label-arrow\">StandardScaler</label><div class=\"sk-toggleable__content\"><pre>StandardScaler()</pre></div></div></div></div></div></div></div></div></div></div><div class=\"sk-item\"><div class=\"sk-estimator sk-toggleable\"><input class=\"sk-toggleable__control sk-hidden--visually\" id=\"c3f49812-0643-4526-814e-d8d26a00d703\" type=\"checkbox\" ><label for=\"c3f49812-0643-4526-814e-d8d26a00d703\" class=\"sk-toggleable__label sk-toggleable__label-arrow\">LinearRegression</label><div class=\"sk-toggleable__content\"><pre>LinearRegression()</pre></div></div></div></div></div></div></div>"
            ]
          },
          "metadata": {},
          "execution_count": 72
        }
      ]
    },
    {
      "cell_type": "markdown",
      "source": [
        "- We will then fit the regression pipeline onto the training data.\n",
        "- Reminder that the fit ONLY occurs on training data, NEVER on testing data!"
      ],
      "metadata": {
        "id": "JhR-T_AM_TY6"
      }
    },
    {
      "cell_type": "code",
      "source": [
        "# Fit the pipeline onto the training data.\n",
        "linreg_pipe.fit(X_train, y_train)"
      ],
      "metadata": {
        "colab": {
          "base_uri": "https://localhost:8080/",
          "height": 262
        },
        "id": "KlQACzdM4_dQ",
        "outputId": "8a642a7c-4bda-4caf-9ac8-327c80d3669c"
      },
      "execution_count": null,
      "outputs": [
        {
          "output_type": "execute_result",
          "data": {
            "text/plain": [
              "Pipeline(steps=[('columntransformer',\n",
              "                 ColumnTransformer(transformers=[('pipeline-1',\n",
              "                                                  Pipeline(steps=[('simpleimputer',\n",
              "                                                                   SimpleImputer()),\n",
              "                                                                  ('standardscaler',\n",
              "                                                                   StandardScaler())]),\n",
              "                                                  <sklearn.compose._column_transformer.make_column_selector object at 0x7f0a53368190>),\n",
              "                                                 ('pipeline-2',\n",
              "                                                  Pipeline(steps=[('simpleimputer',\n",
              "                                                                   SimpleImputer(fill_value='Missing',\n",
              "                                                                                 strategy='const...\n",
              "                                                                   OneHotEncoder(handle_unknown='ignore',\n",
              "                                                                                 sparse=False))]),\n",
              "                                                  ['Item_Fat_Content',\n",
              "                                                   'Item_Type',\n",
              "                                                   'Outlet_Location_Type',\n",
              "                                                   'Outlet_Type']),\n",
              "                                                 ('pipeline-3',\n",
              "                                                  Pipeline(steps=[('simpleimputer',\n",
              "                                                                   SimpleImputer(strategy='most_frequent')),\n",
              "                                                                  ('ordinalencoder',\n",
              "                                                                   OrdinalEncoder(categories=[['Small',\n",
              "                                                                                               'Medium',\n",
              "                                                                                               'High']])),\n",
              "                                                                  ('standardscaler',\n",
              "                                                                   StandardScaler())]),\n",
              "                                                  ['Outlet_Size'])])),\n",
              "                ('linearregression', LinearRegression())])"
            ],
            "text/html": [
              "<style>#sk-6e837db4-bb28-4c77-8fb8-9d18da9b6d9e {color: black;background-color: white;}#sk-6e837db4-bb28-4c77-8fb8-9d18da9b6d9e pre{padding: 0;}#sk-6e837db4-bb28-4c77-8fb8-9d18da9b6d9e div.sk-toggleable {background-color: white;}#sk-6e837db4-bb28-4c77-8fb8-9d18da9b6d9e label.sk-toggleable__label {cursor: pointer;display: block;width: 100%;margin-bottom: 0;padding: 0.3em;box-sizing: border-box;text-align: center;}#sk-6e837db4-bb28-4c77-8fb8-9d18da9b6d9e label.sk-toggleable__label-arrow:before {content: \"▸\";float: left;margin-right: 0.25em;color: #696969;}#sk-6e837db4-bb28-4c77-8fb8-9d18da9b6d9e label.sk-toggleable__label-arrow:hover:before {color: black;}#sk-6e837db4-bb28-4c77-8fb8-9d18da9b6d9e div.sk-estimator:hover label.sk-toggleable__label-arrow:before {color: black;}#sk-6e837db4-bb28-4c77-8fb8-9d18da9b6d9e div.sk-toggleable__content {max-height: 0;max-width: 0;overflow: hidden;text-align: left;background-color: #f0f8ff;}#sk-6e837db4-bb28-4c77-8fb8-9d18da9b6d9e div.sk-toggleable__content pre {margin: 0.2em;color: black;border-radius: 0.25em;background-color: #f0f8ff;}#sk-6e837db4-bb28-4c77-8fb8-9d18da9b6d9e input.sk-toggleable__control:checked~div.sk-toggleable__content {max-height: 200px;max-width: 100%;overflow: auto;}#sk-6e837db4-bb28-4c77-8fb8-9d18da9b6d9e input.sk-toggleable__control:checked~label.sk-toggleable__label-arrow:before {content: \"▾\";}#sk-6e837db4-bb28-4c77-8fb8-9d18da9b6d9e div.sk-estimator input.sk-toggleable__control:checked~label.sk-toggleable__label {background-color: #d4ebff;}#sk-6e837db4-bb28-4c77-8fb8-9d18da9b6d9e div.sk-label input.sk-toggleable__control:checked~label.sk-toggleable__label {background-color: #d4ebff;}#sk-6e837db4-bb28-4c77-8fb8-9d18da9b6d9e input.sk-hidden--visually {border: 0;clip: rect(1px 1px 1px 1px);clip: rect(1px, 1px, 1px, 1px);height: 1px;margin: -1px;overflow: hidden;padding: 0;position: absolute;width: 1px;}#sk-6e837db4-bb28-4c77-8fb8-9d18da9b6d9e div.sk-estimator {font-family: monospace;background-color: #f0f8ff;border: 1px dotted black;border-radius: 0.25em;box-sizing: border-box;margin-bottom: 0.5em;}#sk-6e837db4-bb28-4c77-8fb8-9d18da9b6d9e div.sk-estimator:hover {background-color: #d4ebff;}#sk-6e837db4-bb28-4c77-8fb8-9d18da9b6d9e div.sk-parallel-item::after {content: \"\";width: 100%;border-bottom: 1px solid gray;flex-grow: 1;}#sk-6e837db4-bb28-4c77-8fb8-9d18da9b6d9e div.sk-label:hover label.sk-toggleable__label {background-color: #d4ebff;}#sk-6e837db4-bb28-4c77-8fb8-9d18da9b6d9e div.sk-serial::before {content: \"\";position: absolute;border-left: 1px solid gray;box-sizing: border-box;top: 2em;bottom: 0;left: 50%;}#sk-6e837db4-bb28-4c77-8fb8-9d18da9b6d9e div.sk-serial {display: flex;flex-direction: column;align-items: center;background-color: white;padding-right: 0.2em;padding-left: 0.2em;}#sk-6e837db4-bb28-4c77-8fb8-9d18da9b6d9e div.sk-item {z-index: 1;}#sk-6e837db4-bb28-4c77-8fb8-9d18da9b6d9e div.sk-parallel {display: flex;align-items: stretch;justify-content: center;background-color: white;}#sk-6e837db4-bb28-4c77-8fb8-9d18da9b6d9e div.sk-parallel::before {content: \"\";position: absolute;border-left: 1px solid gray;box-sizing: border-box;top: 2em;bottom: 0;left: 50%;}#sk-6e837db4-bb28-4c77-8fb8-9d18da9b6d9e div.sk-parallel-item {display: flex;flex-direction: column;position: relative;background-color: white;}#sk-6e837db4-bb28-4c77-8fb8-9d18da9b6d9e div.sk-parallel-item:first-child::after {align-self: flex-end;width: 50%;}#sk-6e837db4-bb28-4c77-8fb8-9d18da9b6d9e div.sk-parallel-item:last-child::after {align-self: flex-start;width: 50%;}#sk-6e837db4-bb28-4c77-8fb8-9d18da9b6d9e div.sk-parallel-item:only-child::after {width: 0;}#sk-6e837db4-bb28-4c77-8fb8-9d18da9b6d9e div.sk-dashed-wrapped {border: 1px dashed gray;margin: 0 0.4em 0.5em 0.4em;box-sizing: border-box;padding-bottom: 0.4em;background-color: white;position: relative;}#sk-6e837db4-bb28-4c77-8fb8-9d18da9b6d9e div.sk-label label {font-family: monospace;font-weight: bold;background-color: white;display: inline-block;line-height: 1.2em;}#sk-6e837db4-bb28-4c77-8fb8-9d18da9b6d9e div.sk-label-container {position: relative;z-index: 2;text-align: center;}#sk-6e837db4-bb28-4c77-8fb8-9d18da9b6d9e div.sk-container {/* jupyter's `normalize.less` sets `[hidden] { display: none; }` but bootstrap.min.css set `[hidden] { display: none !important; }` so we also need the `!important` here to be able to override the default hidden behavior on the sphinx rendered scikit-learn.org. See: https://github.com/scikit-learn/scikit-learn/issues/21755 */display: inline-block !important;position: relative;}#sk-6e837db4-bb28-4c77-8fb8-9d18da9b6d9e div.sk-text-repr-fallback {display: none;}</style><div id=\"sk-6e837db4-bb28-4c77-8fb8-9d18da9b6d9e\" class=\"sk-top-container\"><div class=\"sk-text-repr-fallback\"><pre>Pipeline(steps=[(&#x27;columntransformer&#x27;,\n",
              "                 ColumnTransformer(transformers=[(&#x27;pipeline-1&#x27;,\n",
              "                                                  Pipeline(steps=[(&#x27;simpleimputer&#x27;,\n",
              "                                                                   SimpleImputer()),\n",
              "                                                                  (&#x27;standardscaler&#x27;,\n",
              "                                                                   StandardScaler())]),\n",
              "                                                  &lt;sklearn.compose._column_transformer.make_column_selector object at 0x7f0a53368190&gt;),\n",
              "                                                 (&#x27;pipeline-2&#x27;,\n",
              "                                                  Pipeline(steps=[(&#x27;simpleimputer&#x27;,\n",
              "                                                                   SimpleImputer(fill_value=&#x27;Missing&#x27;,\n",
              "                                                                                 strategy=&#x27;const...\n",
              "                                                                   OneHotEncoder(handle_unknown=&#x27;ignore&#x27;,\n",
              "                                                                                 sparse=False))]),\n",
              "                                                  [&#x27;Item_Fat_Content&#x27;,\n",
              "                                                   &#x27;Item_Type&#x27;,\n",
              "                                                   &#x27;Outlet_Location_Type&#x27;,\n",
              "                                                   &#x27;Outlet_Type&#x27;]),\n",
              "                                                 (&#x27;pipeline-3&#x27;,\n",
              "                                                  Pipeline(steps=[(&#x27;simpleimputer&#x27;,\n",
              "                                                                   SimpleImputer(strategy=&#x27;most_frequent&#x27;)),\n",
              "                                                                  (&#x27;ordinalencoder&#x27;,\n",
              "                                                                   OrdinalEncoder(categories=[[&#x27;Small&#x27;,\n",
              "                                                                                               &#x27;Medium&#x27;,\n",
              "                                                                                               &#x27;High&#x27;]])),\n",
              "                                                                  (&#x27;standardscaler&#x27;,\n",
              "                                                                   StandardScaler())]),\n",
              "                                                  [&#x27;Outlet_Size&#x27;])])),\n",
              "                (&#x27;linearregression&#x27;, LinearRegression())])</pre><b>Please rerun this cell to show the HTML repr or trust the notebook.</b></div><div class=\"sk-container\" hidden><div class=\"sk-item sk-dashed-wrapped\"><div class=\"sk-label-container\"><div class=\"sk-label sk-toggleable\"><input class=\"sk-toggleable__control sk-hidden--visually\" id=\"ea97e701-db8d-4171-900b-82e8f97c3b36\" type=\"checkbox\" ><label for=\"ea97e701-db8d-4171-900b-82e8f97c3b36\" class=\"sk-toggleable__label sk-toggleable__label-arrow\">Pipeline</label><div class=\"sk-toggleable__content\"><pre>Pipeline(steps=[(&#x27;columntransformer&#x27;,\n",
              "                 ColumnTransformer(transformers=[(&#x27;pipeline-1&#x27;,\n",
              "                                                  Pipeline(steps=[(&#x27;simpleimputer&#x27;,\n",
              "                                                                   SimpleImputer()),\n",
              "                                                                  (&#x27;standardscaler&#x27;,\n",
              "                                                                   StandardScaler())]),\n",
              "                                                  &lt;sklearn.compose._column_transformer.make_column_selector object at 0x7f0a53368190&gt;),\n",
              "                                                 (&#x27;pipeline-2&#x27;,\n",
              "                                                  Pipeline(steps=[(&#x27;simpleimputer&#x27;,\n",
              "                                                                   SimpleImputer(fill_value=&#x27;Missing&#x27;,\n",
              "                                                                                 strategy=&#x27;const...\n",
              "                                                                   OneHotEncoder(handle_unknown=&#x27;ignore&#x27;,\n",
              "                                                                                 sparse=False))]),\n",
              "                                                  [&#x27;Item_Fat_Content&#x27;,\n",
              "                                                   &#x27;Item_Type&#x27;,\n",
              "                                                   &#x27;Outlet_Location_Type&#x27;,\n",
              "                                                   &#x27;Outlet_Type&#x27;]),\n",
              "                                                 (&#x27;pipeline-3&#x27;,\n",
              "                                                  Pipeline(steps=[(&#x27;simpleimputer&#x27;,\n",
              "                                                                   SimpleImputer(strategy=&#x27;most_frequent&#x27;)),\n",
              "                                                                  (&#x27;ordinalencoder&#x27;,\n",
              "                                                                   OrdinalEncoder(categories=[[&#x27;Small&#x27;,\n",
              "                                                                                               &#x27;Medium&#x27;,\n",
              "                                                                                               &#x27;High&#x27;]])),\n",
              "                                                                  (&#x27;standardscaler&#x27;,\n",
              "                                                                   StandardScaler())]),\n",
              "                                                  [&#x27;Outlet_Size&#x27;])])),\n",
              "                (&#x27;linearregression&#x27;, LinearRegression())])</pre></div></div></div><div class=\"sk-serial\"><div class=\"sk-item sk-dashed-wrapped\"><div class=\"sk-label-container\"><div class=\"sk-label sk-toggleable\"><input class=\"sk-toggleable__control sk-hidden--visually\" id=\"87b6501e-5613-47a2-ab80-0bc6558d58b9\" type=\"checkbox\" ><label for=\"87b6501e-5613-47a2-ab80-0bc6558d58b9\" class=\"sk-toggleable__label sk-toggleable__label-arrow\">columntransformer: ColumnTransformer</label><div class=\"sk-toggleable__content\"><pre>ColumnTransformer(transformers=[(&#x27;pipeline-1&#x27;,\n",
              "                                 Pipeline(steps=[(&#x27;simpleimputer&#x27;,\n",
              "                                                  SimpleImputer()),\n",
              "                                                 (&#x27;standardscaler&#x27;,\n",
              "                                                  StandardScaler())]),\n",
              "                                 &lt;sklearn.compose._column_transformer.make_column_selector object at 0x7f0a53368190&gt;),\n",
              "                                (&#x27;pipeline-2&#x27;,\n",
              "                                 Pipeline(steps=[(&#x27;simpleimputer&#x27;,\n",
              "                                                  SimpleImputer(fill_value=&#x27;Missing&#x27;,\n",
              "                                                                strategy=&#x27;constant&#x27;)),\n",
              "                                                 (&#x27;onehotencoder&#x27;,\n",
              "                                                  OneHotEncoder(handle_unknown=&#x27;ignore&#x27;,\n",
              "                                                                sparse=False))]),\n",
              "                                 [&#x27;Item_Fat_Content&#x27;, &#x27;Item_Type&#x27;,\n",
              "                                  &#x27;Outlet_Location_Type&#x27;, &#x27;Outlet_Type&#x27;]),\n",
              "                                (&#x27;pipeline-3&#x27;,\n",
              "                                 Pipeline(steps=[(&#x27;simpleimputer&#x27;,\n",
              "                                                  SimpleImputer(strategy=&#x27;most_frequent&#x27;)),\n",
              "                                                 (&#x27;ordinalencoder&#x27;,\n",
              "                                                  OrdinalEncoder(categories=[[&#x27;Small&#x27;,\n",
              "                                                                              &#x27;Medium&#x27;,\n",
              "                                                                              &#x27;High&#x27;]])),\n",
              "                                                 (&#x27;standardscaler&#x27;,\n",
              "                                                  StandardScaler())]),\n",
              "                                 [&#x27;Outlet_Size&#x27;])])</pre></div></div></div><div class=\"sk-parallel\"><div class=\"sk-parallel-item\"><div class=\"sk-item\"><div class=\"sk-label-container\"><div class=\"sk-label sk-toggleable\"><input class=\"sk-toggleable__control sk-hidden--visually\" id=\"941b1f5f-374b-48bb-8b23-3ad9f6f969b0\" type=\"checkbox\" ><label for=\"941b1f5f-374b-48bb-8b23-3ad9f6f969b0\" class=\"sk-toggleable__label sk-toggleable__label-arrow\">pipeline-1</label><div class=\"sk-toggleable__content\"><pre>&lt;sklearn.compose._column_transformer.make_column_selector object at 0x7f0a53368190&gt;</pre></div></div></div><div class=\"sk-serial\"><div class=\"sk-item\"><div class=\"sk-serial\"><div class=\"sk-item\"><div class=\"sk-estimator sk-toggleable\"><input class=\"sk-toggleable__control sk-hidden--visually\" id=\"be681c1f-1b04-4180-a9aa-80cd19c815ba\" type=\"checkbox\" ><label for=\"be681c1f-1b04-4180-a9aa-80cd19c815ba\" class=\"sk-toggleable__label sk-toggleable__label-arrow\">SimpleImputer</label><div class=\"sk-toggleable__content\"><pre>SimpleImputer()</pre></div></div></div><div class=\"sk-item\"><div class=\"sk-estimator sk-toggleable\"><input class=\"sk-toggleable__control sk-hidden--visually\" id=\"e0d86abb-e168-46e3-8d33-ac65449c3527\" type=\"checkbox\" ><label for=\"e0d86abb-e168-46e3-8d33-ac65449c3527\" class=\"sk-toggleable__label sk-toggleable__label-arrow\">StandardScaler</label><div class=\"sk-toggleable__content\"><pre>StandardScaler()</pre></div></div></div></div></div></div></div></div><div class=\"sk-parallel-item\"><div class=\"sk-item\"><div class=\"sk-label-container\"><div class=\"sk-label sk-toggleable\"><input class=\"sk-toggleable__control sk-hidden--visually\" id=\"135b0d6b-377d-40ca-a1b5-f0a85c99ed35\" type=\"checkbox\" ><label for=\"135b0d6b-377d-40ca-a1b5-f0a85c99ed35\" class=\"sk-toggleable__label sk-toggleable__label-arrow\">pipeline-2</label><div class=\"sk-toggleable__content\"><pre>[&#x27;Item_Fat_Content&#x27;, &#x27;Item_Type&#x27;, &#x27;Outlet_Location_Type&#x27;, &#x27;Outlet_Type&#x27;]</pre></div></div></div><div class=\"sk-serial\"><div class=\"sk-item\"><div class=\"sk-serial\"><div class=\"sk-item\"><div class=\"sk-estimator sk-toggleable\"><input class=\"sk-toggleable__control sk-hidden--visually\" id=\"0c2f1af0-0d8b-4f00-b053-947ed1bfbac1\" type=\"checkbox\" ><label for=\"0c2f1af0-0d8b-4f00-b053-947ed1bfbac1\" class=\"sk-toggleable__label sk-toggleable__label-arrow\">SimpleImputer</label><div class=\"sk-toggleable__content\"><pre>SimpleImputer(fill_value=&#x27;Missing&#x27;, strategy=&#x27;constant&#x27;)</pre></div></div></div><div class=\"sk-item\"><div class=\"sk-estimator sk-toggleable\"><input class=\"sk-toggleable__control sk-hidden--visually\" id=\"d8005da1-2b5f-4659-8f76-4bb5366b56db\" type=\"checkbox\" ><label for=\"d8005da1-2b5f-4659-8f76-4bb5366b56db\" class=\"sk-toggleable__label sk-toggleable__label-arrow\">OneHotEncoder</label><div class=\"sk-toggleable__content\"><pre>OneHotEncoder(handle_unknown=&#x27;ignore&#x27;, sparse=False)</pre></div></div></div></div></div></div></div></div><div class=\"sk-parallel-item\"><div class=\"sk-item\"><div class=\"sk-label-container\"><div class=\"sk-label sk-toggleable\"><input class=\"sk-toggleable__control sk-hidden--visually\" id=\"1cf5dcae-5027-4281-ad10-c4782581bd4e\" type=\"checkbox\" ><label for=\"1cf5dcae-5027-4281-ad10-c4782581bd4e\" class=\"sk-toggleable__label sk-toggleable__label-arrow\">pipeline-3</label><div class=\"sk-toggleable__content\"><pre>[&#x27;Outlet_Size&#x27;]</pre></div></div></div><div class=\"sk-serial\"><div class=\"sk-item\"><div class=\"sk-serial\"><div class=\"sk-item\"><div class=\"sk-estimator sk-toggleable\"><input class=\"sk-toggleable__control sk-hidden--visually\" id=\"e11a8be3-8b27-4786-8340-17a427c3376f\" type=\"checkbox\" ><label for=\"e11a8be3-8b27-4786-8340-17a427c3376f\" class=\"sk-toggleable__label sk-toggleable__label-arrow\">SimpleImputer</label><div class=\"sk-toggleable__content\"><pre>SimpleImputer(strategy=&#x27;most_frequent&#x27;)</pre></div></div></div><div class=\"sk-item\"><div class=\"sk-estimator sk-toggleable\"><input class=\"sk-toggleable__control sk-hidden--visually\" id=\"4dd2df0d-7bff-4c8c-882b-4d88d6f10f63\" type=\"checkbox\" ><label for=\"4dd2df0d-7bff-4c8c-882b-4d88d6f10f63\" class=\"sk-toggleable__label sk-toggleable__label-arrow\">OrdinalEncoder</label><div class=\"sk-toggleable__content\"><pre>OrdinalEncoder(categories=[[&#x27;Small&#x27;, &#x27;Medium&#x27;, &#x27;High&#x27;]])</pre></div></div></div><div class=\"sk-item\"><div class=\"sk-estimator sk-toggleable\"><input class=\"sk-toggleable__control sk-hidden--visually\" id=\"8f684bd0-75bd-4143-8971-8b6e5984c39f\" type=\"checkbox\" ><label for=\"8f684bd0-75bd-4143-8971-8b6e5984c39f\" class=\"sk-toggleable__label sk-toggleable__label-arrow\">StandardScaler</label><div class=\"sk-toggleable__content\"><pre>StandardScaler()</pre></div></div></div></div></div></div></div></div></div></div><div class=\"sk-item\"><div class=\"sk-estimator sk-toggleable\"><input class=\"sk-toggleable__control sk-hidden--visually\" id=\"3f5f4cba-a1d0-4f7b-b1a3-ea1147016033\" type=\"checkbox\" ><label for=\"3f5f4cba-a1d0-4f7b-b1a3-ea1147016033\" class=\"sk-toggleable__label sk-toggleable__label-arrow\">LinearRegression</label><div class=\"sk-toggleable__content\"><pre>LinearRegression()</pre></div></div></div></div></div></div></div>"
            ]
          },
          "metadata": {},
          "execution_count": 73
        }
      ]
    },
    {
      "cell_type": "markdown",
      "source": [
        "### **Model Analysis**\n",
        "\n",
        "- Now that we have the linear regression modeling fit onto our transformed data, let's get some statistical information about the linear regression model.\n",
        "- First, let's obtain our predicted y values for both the training and test datasets."
      ],
      "metadata": {
        "id": "YGKopkUbYb3P"
      }
    },
    {
      "cell_type": "code",
      "source": [
        "# Obtain predictions for both the training and test datasets for linear regression modeling.\n",
        "linreg_train_preds = linreg_pipe.predict(X_train)\n",
        "linreg_test_preds = linreg_pipe.predict(X_test)"
      ],
      "metadata": {
        "id": "nKWDAnNQb1hz"
      },
      "execution_count": null,
      "outputs": []
    },
    {
      "cell_type": "markdown",
      "source": [
        "- Next, let's obtain our R^2 (Coefficient of Determination) scores for both the training data and testing data."
      ],
      "metadata": {
        "id": "gnSB-C0Zb43c"
      }
    },
    {
      "cell_type": "code",
      "source": [
        "# Linear regression values.\n",
        "# Get the R^2 (Coefficient of Determination) score on training data.\n",
        "linreg_train_score = linreg_pipe.score(X_train, y_train)\n",
        "# Get the R^2 (Coefficient of Determination) score on test data.\n",
        "linreg_test_score = linreg_pipe.score(X_test, y_test)\n",
        "# Print out the score information.\n",
        "print(\"R^2 scores for Linear Regression Model:\")\n",
        "print(\"Training:\", linreg_train_score)\n",
        "print(\"Test\", linreg_test_score)"
      ],
      "metadata": {
        "colab": {
          "base_uri": "https://localhost:8080/"
        },
        "id": "Bf_zJnb9ZfOW",
        "outputId": "1babecf5-83f4-4662-f80e-dfce3c61319b"
      },
      "execution_count": null,
      "outputs": [
        {
          "output_type": "stream",
          "name": "stdout",
          "text": [
            "R^2 scores for Linear Regression Model:\n",
            "Training: 0.5606867811932243\n",
            "Test 0.5657166564293133\n"
          ]
        }
      ]
    },
    {
      "cell_type": "markdown",
      "source": [
        "- Based on the R^2 scores of the linear regression model for both the training and test data, it looks like the scores are very similar to each other, signifying that the model was not overfit onto the overall data.\n",
        "- Overall, about 56% of the variance is explained by our overall dataset.\n",
        "- Next, let's obtain our RMSE (root mean squared error) values for the training and test datasets."
      ],
      "metadata": {
        "id": "U2zN8akUaHg9"
      }
    },
    {
      "cell_type": "code",
      "source": [
        "# Obtain the root mean squared error of the training dataset.\n",
        "linreg_rmse_train = np.sqrt(mean_squared_error(y_train, linreg_train_preds))\n",
        "linreg_rmse_train"
      ],
      "metadata": {
        "colab": {
          "base_uri": "https://localhost:8080/"
        },
        "id": "iN2drGSAbpKH",
        "outputId": "fe45645a-a36e-4a15-fd0b-c90df7ff3ac6"
      },
      "execution_count": null,
      "outputs": [
        {
          "output_type": "execute_result",
          "data": {
            "text/plain": [
              "1140.2315604611356"
            ]
          },
          "metadata": {},
          "execution_count": 76
        }
      ]
    },
    {
      "cell_type": "code",
      "source": [
        "# Obtain the root mean squared error of the test dataset.\n",
        "linreg_rmse_test = np.sqrt(mean_squared_error(y_test, linreg_test_preds))\n",
        "linreg_rmse_test"
      ],
      "metadata": {
        "colab": {
          "base_uri": "https://localhost:8080/"
        },
        "id": "aD6Q4ZS2cH_v",
        "outputId": "fa22d7b2-2cc6-4eee-d1fd-96976ce19553"
      },
      "execution_count": null,
      "outputs": [
        {
          "output_type": "execute_result",
          "data": {
            "text/plain": [
              "1094.6131195012504"
            ]
          },
          "metadata": {},
          "execution_count": 77
        }
      ]
    },
    {
      "cell_type": "markdown",
      "source": [
        "- The RMSE values are similar in both datasets.\n",
        "- Overall, this regression model did a sufficient job of fitting the dataset points based on a sloped line, as well as properly fit the training data for analysis on the test data.\n",
        "- Let's see what values of the Item_Outlet_Sales column we have overall from the training and test datasets."
      ],
      "metadata": {
        "id": "LfLc6geq4A_P"
      }
    },
    {
      "cell_type": "code",
      "source": [
        "# Show descriptive statistics for the item sales values in the training dataset.\n",
        "y_train.describe()"
      ],
      "metadata": {
        "colab": {
          "base_uri": "https://localhost:8080/"
        },
        "id": "9vxRtu82cSYq",
        "outputId": "36bcf18b-2ba7-464d-a7d0-b0f3a415e7a5"
      },
      "execution_count": null,
      "outputs": [
        {
          "output_type": "execute_result",
          "data": {
            "text/plain": [
              "count     6392.000000\n",
              "mean      2209.979357\n",
              "std       1720.441446\n",
              "min         33.290000\n",
              "25%        856.884600\n",
              "50%       1808.978600\n",
              "75%       3136.250900\n",
              "max      13086.964800\n",
              "Name: Item_Outlet_Sales, dtype: float64"
            ]
          },
          "metadata": {},
          "execution_count": 78
        }
      ]
    },
    {
      "cell_type": "code",
      "source": [
        "# Show descriptive statistics for the item sales values in the test dataset.\n",
        "y_test.describe()"
      ],
      "metadata": {
        "colab": {
          "base_uri": "https://localhost:8080/"
        },
        "id": "-DZLNxErcbUG",
        "outputId": "290c228a-0803-43de-89d9-84b7911ba770"
      },
      "execution_count": null,
      "outputs": [
        {
          "output_type": "execute_result",
          "data": {
            "text/plain": [
              "count     2131.000000\n",
              "mean      2095.231046\n",
              "std       1661.406808\n",
              "min         33.290000\n",
              "25%        772.993800\n",
              "50%       1737.738000\n",
              "75%       2986.113000\n",
              "max      10236.675000\n",
              "Name: Item_Outlet_Sales, dtype: float64"
            ]
          },
          "metadata": {},
          "execution_count": 79
        }
      ]
    },
    {
      "cell_type": "markdown",
      "source": [
        "- As the R^2 values and RMSE values confirm, it does seem like there is a lot of bias in the regression model, signifying that the linear regression model did a fair job in predictions of the item sales values.\n",
        "- However, this may not be the most ideal model for machine learning. Maybe we can do better with regression tree modeling?"
      ],
      "metadata": {
        "id": "2Cy8b2coZext"
      }
    },
    {
      "cell_type": "markdown",
      "source": [
        "## **Regression Tree Modeling**"
      ],
      "metadata": {
        "id": "M-pptvb5JzFm"
      }
    },
    {
      "cell_type": "markdown",
      "source": [
        "### **Model Fitting**\n",
        "\n",
        "- In the previous linear regression model, we obtained average R^2 values of 0.56 and average RMSE values of around 1120.\n",
        "- Let's try regression tree modeling and see how our results change.\n",
        "- We will need to instantiate DecisionTreeRegressor using random state of 42 for reproducibility of modeling results."
      ],
      "metadata": {
        "id": "WAdRndxNdYAx"
      }
    },
    {
      "cell_type": "code",
      "source": [
        "# Instantiates DecisionTreeRegressor with random state of 42 for consistency.\n",
        "dec_tree = DecisionTreeRegressor(random_state = 42)"
      ],
      "metadata": {
        "id": "JMLLp---eXMy"
      },
      "execution_count": null,
      "outputs": []
    },
    {
      "cell_type": "markdown",
      "source": [
        "- Let's create the pipeline for the regression tree that will help us perform modeling on the dataset."
      ],
      "metadata": {
        "id": "csBP4NqOe8hK"
      }
    },
    {
      "cell_type": "code",
      "source": [
        "# Create a pipeline for regression tree modeling.\n",
        "dec_tree_pipe = make_pipeline(preprocessor, dec_tree)"
      ],
      "metadata": {
        "id": "VgyQAqQyexPu"
      },
      "execution_count": null,
      "outputs": []
    },
    {
      "cell_type": "markdown",
      "source": [
        "- Now that we have the pipeline set, let's perform the regression fitting over the training dataset."
      ],
      "metadata": {
        "id": "39_sNBlIfLei"
      }
    },
    {
      "cell_type": "code",
      "source": [
        "# Fits the decision tree model over the training data.\n",
        "dec_tree_pipe.fit(X_train, y_train)"
      ],
      "metadata": {
        "colab": {
          "base_uri": "https://localhost:8080/",
          "height": 262
        },
        "id": "St4Pelq7ehc_",
        "outputId": "48163b8d-c7d6-4693-a997-6ccb171c3fe6"
      },
      "execution_count": null,
      "outputs": [
        {
          "output_type": "execute_result",
          "data": {
            "text/plain": [
              "Pipeline(steps=[('columntransformer',\n",
              "                 ColumnTransformer(transformers=[('pipeline-1',\n",
              "                                                  Pipeline(steps=[('simpleimputer',\n",
              "                                                                   SimpleImputer()),\n",
              "                                                                  ('standardscaler',\n",
              "                                                                   StandardScaler())]),\n",
              "                                                  <sklearn.compose._column_transformer.make_column_selector object at 0x7f0a53368190>),\n",
              "                                                 ('pipeline-2',\n",
              "                                                  Pipeline(steps=[('simpleimputer',\n",
              "                                                                   SimpleImputer(fill_value='Missing',\n",
              "                                                                                 strategy='const...\n",
              "                                                  ['Item_Fat_Content',\n",
              "                                                   'Item_Type',\n",
              "                                                   'Outlet_Location_Type',\n",
              "                                                   'Outlet_Type']),\n",
              "                                                 ('pipeline-3',\n",
              "                                                  Pipeline(steps=[('simpleimputer',\n",
              "                                                                   SimpleImputer(strategy='most_frequent')),\n",
              "                                                                  ('ordinalencoder',\n",
              "                                                                   OrdinalEncoder(categories=[['Small',\n",
              "                                                                                               'Medium',\n",
              "                                                                                               'High']])),\n",
              "                                                                  ('standardscaler',\n",
              "                                                                   StandardScaler())]),\n",
              "                                                  ['Outlet_Size'])])),\n",
              "                ('decisiontreeregressor',\n",
              "                 DecisionTreeRegressor(random_state=42))])"
            ],
            "text/html": [
              "<style>#sk-f36eb8af-3820-499a-9993-adc27ac92f69 {color: black;background-color: white;}#sk-f36eb8af-3820-499a-9993-adc27ac92f69 pre{padding: 0;}#sk-f36eb8af-3820-499a-9993-adc27ac92f69 div.sk-toggleable {background-color: white;}#sk-f36eb8af-3820-499a-9993-adc27ac92f69 label.sk-toggleable__label {cursor: pointer;display: block;width: 100%;margin-bottom: 0;padding: 0.3em;box-sizing: border-box;text-align: center;}#sk-f36eb8af-3820-499a-9993-adc27ac92f69 label.sk-toggleable__label-arrow:before {content: \"▸\";float: left;margin-right: 0.25em;color: #696969;}#sk-f36eb8af-3820-499a-9993-adc27ac92f69 label.sk-toggleable__label-arrow:hover:before {color: black;}#sk-f36eb8af-3820-499a-9993-adc27ac92f69 div.sk-estimator:hover label.sk-toggleable__label-arrow:before {color: black;}#sk-f36eb8af-3820-499a-9993-adc27ac92f69 div.sk-toggleable__content {max-height: 0;max-width: 0;overflow: hidden;text-align: left;background-color: #f0f8ff;}#sk-f36eb8af-3820-499a-9993-adc27ac92f69 div.sk-toggleable__content pre {margin: 0.2em;color: black;border-radius: 0.25em;background-color: #f0f8ff;}#sk-f36eb8af-3820-499a-9993-adc27ac92f69 input.sk-toggleable__control:checked~div.sk-toggleable__content {max-height: 200px;max-width: 100%;overflow: auto;}#sk-f36eb8af-3820-499a-9993-adc27ac92f69 input.sk-toggleable__control:checked~label.sk-toggleable__label-arrow:before {content: \"▾\";}#sk-f36eb8af-3820-499a-9993-adc27ac92f69 div.sk-estimator input.sk-toggleable__control:checked~label.sk-toggleable__label {background-color: #d4ebff;}#sk-f36eb8af-3820-499a-9993-adc27ac92f69 div.sk-label input.sk-toggleable__control:checked~label.sk-toggleable__label {background-color: #d4ebff;}#sk-f36eb8af-3820-499a-9993-adc27ac92f69 input.sk-hidden--visually {border: 0;clip: rect(1px 1px 1px 1px);clip: rect(1px, 1px, 1px, 1px);height: 1px;margin: -1px;overflow: hidden;padding: 0;position: absolute;width: 1px;}#sk-f36eb8af-3820-499a-9993-adc27ac92f69 div.sk-estimator {font-family: monospace;background-color: #f0f8ff;border: 1px dotted black;border-radius: 0.25em;box-sizing: border-box;margin-bottom: 0.5em;}#sk-f36eb8af-3820-499a-9993-adc27ac92f69 div.sk-estimator:hover {background-color: #d4ebff;}#sk-f36eb8af-3820-499a-9993-adc27ac92f69 div.sk-parallel-item::after {content: \"\";width: 100%;border-bottom: 1px solid gray;flex-grow: 1;}#sk-f36eb8af-3820-499a-9993-adc27ac92f69 div.sk-label:hover label.sk-toggleable__label {background-color: #d4ebff;}#sk-f36eb8af-3820-499a-9993-adc27ac92f69 div.sk-serial::before {content: \"\";position: absolute;border-left: 1px solid gray;box-sizing: border-box;top: 2em;bottom: 0;left: 50%;}#sk-f36eb8af-3820-499a-9993-adc27ac92f69 div.sk-serial {display: flex;flex-direction: column;align-items: center;background-color: white;padding-right: 0.2em;padding-left: 0.2em;}#sk-f36eb8af-3820-499a-9993-adc27ac92f69 div.sk-item {z-index: 1;}#sk-f36eb8af-3820-499a-9993-adc27ac92f69 div.sk-parallel {display: flex;align-items: stretch;justify-content: center;background-color: white;}#sk-f36eb8af-3820-499a-9993-adc27ac92f69 div.sk-parallel::before {content: \"\";position: absolute;border-left: 1px solid gray;box-sizing: border-box;top: 2em;bottom: 0;left: 50%;}#sk-f36eb8af-3820-499a-9993-adc27ac92f69 div.sk-parallel-item {display: flex;flex-direction: column;position: relative;background-color: white;}#sk-f36eb8af-3820-499a-9993-adc27ac92f69 div.sk-parallel-item:first-child::after {align-self: flex-end;width: 50%;}#sk-f36eb8af-3820-499a-9993-adc27ac92f69 div.sk-parallel-item:last-child::after {align-self: flex-start;width: 50%;}#sk-f36eb8af-3820-499a-9993-adc27ac92f69 div.sk-parallel-item:only-child::after {width: 0;}#sk-f36eb8af-3820-499a-9993-adc27ac92f69 div.sk-dashed-wrapped {border: 1px dashed gray;margin: 0 0.4em 0.5em 0.4em;box-sizing: border-box;padding-bottom: 0.4em;background-color: white;position: relative;}#sk-f36eb8af-3820-499a-9993-adc27ac92f69 div.sk-label label {font-family: monospace;font-weight: bold;background-color: white;display: inline-block;line-height: 1.2em;}#sk-f36eb8af-3820-499a-9993-adc27ac92f69 div.sk-label-container {position: relative;z-index: 2;text-align: center;}#sk-f36eb8af-3820-499a-9993-adc27ac92f69 div.sk-container {/* jupyter's `normalize.less` sets `[hidden] { display: none; }` but bootstrap.min.css set `[hidden] { display: none !important; }` so we also need the `!important` here to be able to override the default hidden behavior on the sphinx rendered scikit-learn.org. See: https://github.com/scikit-learn/scikit-learn/issues/21755 */display: inline-block !important;position: relative;}#sk-f36eb8af-3820-499a-9993-adc27ac92f69 div.sk-text-repr-fallback {display: none;}</style><div id=\"sk-f36eb8af-3820-499a-9993-adc27ac92f69\" class=\"sk-top-container\"><div class=\"sk-text-repr-fallback\"><pre>Pipeline(steps=[(&#x27;columntransformer&#x27;,\n",
              "                 ColumnTransformer(transformers=[(&#x27;pipeline-1&#x27;,\n",
              "                                                  Pipeline(steps=[(&#x27;simpleimputer&#x27;,\n",
              "                                                                   SimpleImputer()),\n",
              "                                                                  (&#x27;standardscaler&#x27;,\n",
              "                                                                   StandardScaler())]),\n",
              "                                                  &lt;sklearn.compose._column_transformer.make_column_selector object at 0x7f0a53368190&gt;),\n",
              "                                                 (&#x27;pipeline-2&#x27;,\n",
              "                                                  Pipeline(steps=[(&#x27;simpleimputer&#x27;,\n",
              "                                                                   SimpleImputer(fill_value=&#x27;Missing&#x27;,\n",
              "                                                                                 strategy=&#x27;const...\n",
              "                                                  [&#x27;Item_Fat_Content&#x27;,\n",
              "                                                   &#x27;Item_Type&#x27;,\n",
              "                                                   &#x27;Outlet_Location_Type&#x27;,\n",
              "                                                   &#x27;Outlet_Type&#x27;]),\n",
              "                                                 (&#x27;pipeline-3&#x27;,\n",
              "                                                  Pipeline(steps=[(&#x27;simpleimputer&#x27;,\n",
              "                                                                   SimpleImputer(strategy=&#x27;most_frequent&#x27;)),\n",
              "                                                                  (&#x27;ordinalencoder&#x27;,\n",
              "                                                                   OrdinalEncoder(categories=[[&#x27;Small&#x27;,\n",
              "                                                                                               &#x27;Medium&#x27;,\n",
              "                                                                                               &#x27;High&#x27;]])),\n",
              "                                                                  (&#x27;standardscaler&#x27;,\n",
              "                                                                   StandardScaler())]),\n",
              "                                                  [&#x27;Outlet_Size&#x27;])])),\n",
              "                (&#x27;decisiontreeregressor&#x27;,\n",
              "                 DecisionTreeRegressor(random_state=42))])</pre><b>Please rerun this cell to show the HTML repr or trust the notebook.</b></div><div class=\"sk-container\" hidden><div class=\"sk-item sk-dashed-wrapped\"><div class=\"sk-label-container\"><div class=\"sk-label sk-toggleable\"><input class=\"sk-toggleable__control sk-hidden--visually\" id=\"d3fa9a4a-b677-4cac-98c1-ccb881ba329b\" type=\"checkbox\" ><label for=\"d3fa9a4a-b677-4cac-98c1-ccb881ba329b\" class=\"sk-toggleable__label sk-toggleable__label-arrow\">Pipeline</label><div class=\"sk-toggleable__content\"><pre>Pipeline(steps=[(&#x27;columntransformer&#x27;,\n",
              "                 ColumnTransformer(transformers=[(&#x27;pipeline-1&#x27;,\n",
              "                                                  Pipeline(steps=[(&#x27;simpleimputer&#x27;,\n",
              "                                                                   SimpleImputer()),\n",
              "                                                                  (&#x27;standardscaler&#x27;,\n",
              "                                                                   StandardScaler())]),\n",
              "                                                  &lt;sklearn.compose._column_transformer.make_column_selector object at 0x7f0a53368190&gt;),\n",
              "                                                 (&#x27;pipeline-2&#x27;,\n",
              "                                                  Pipeline(steps=[(&#x27;simpleimputer&#x27;,\n",
              "                                                                   SimpleImputer(fill_value=&#x27;Missing&#x27;,\n",
              "                                                                                 strategy=&#x27;const...\n",
              "                                                  [&#x27;Item_Fat_Content&#x27;,\n",
              "                                                   &#x27;Item_Type&#x27;,\n",
              "                                                   &#x27;Outlet_Location_Type&#x27;,\n",
              "                                                   &#x27;Outlet_Type&#x27;]),\n",
              "                                                 (&#x27;pipeline-3&#x27;,\n",
              "                                                  Pipeline(steps=[(&#x27;simpleimputer&#x27;,\n",
              "                                                                   SimpleImputer(strategy=&#x27;most_frequent&#x27;)),\n",
              "                                                                  (&#x27;ordinalencoder&#x27;,\n",
              "                                                                   OrdinalEncoder(categories=[[&#x27;Small&#x27;,\n",
              "                                                                                               &#x27;Medium&#x27;,\n",
              "                                                                                               &#x27;High&#x27;]])),\n",
              "                                                                  (&#x27;standardscaler&#x27;,\n",
              "                                                                   StandardScaler())]),\n",
              "                                                  [&#x27;Outlet_Size&#x27;])])),\n",
              "                (&#x27;decisiontreeregressor&#x27;,\n",
              "                 DecisionTreeRegressor(random_state=42))])</pre></div></div></div><div class=\"sk-serial\"><div class=\"sk-item sk-dashed-wrapped\"><div class=\"sk-label-container\"><div class=\"sk-label sk-toggleable\"><input class=\"sk-toggleable__control sk-hidden--visually\" id=\"86c15e84-2d52-45a1-9a29-52c1cc05a2a4\" type=\"checkbox\" ><label for=\"86c15e84-2d52-45a1-9a29-52c1cc05a2a4\" class=\"sk-toggleable__label sk-toggleable__label-arrow\">columntransformer: ColumnTransformer</label><div class=\"sk-toggleable__content\"><pre>ColumnTransformer(transformers=[(&#x27;pipeline-1&#x27;,\n",
              "                                 Pipeline(steps=[(&#x27;simpleimputer&#x27;,\n",
              "                                                  SimpleImputer()),\n",
              "                                                 (&#x27;standardscaler&#x27;,\n",
              "                                                  StandardScaler())]),\n",
              "                                 &lt;sklearn.compose._column_transformer.make_column_selector object at 0x7f0a53368190&gt;),\n",
              "                                (&#x27;pipeline-2&#x27;,\n",
              "                                 Pipeline(steps=[(&#x27;simpleimputer&#x27;,\n",
              "                                                  SimpleImputer(fill_value=&#x27;Missing&#x27;,\n",
              "                                                                strategy=&#x27;constant&#x27;)),\n",
              "                                                 (&#x27;onehotencoder&#x27;,\n",
              "                                                  OneHotEncoder(handle_unknown=&#x27;ignore&#x27;,\n",
              "                                                                sparse=False))]),\n",
              "                                 [&#x27;Item_Fat_Content&#x27;, &#x27;Item_Type&#x27;,\n",
              "                                  &#x27;Outlet_Location_Type&#x27;, &#x27;Outlet_Type&#x27;]),\n",
              "                                (&#x27;pipeline-3&#x27;,\n",
              "                                 Pipeline(steps=[(&#x27;simpleimputer&#x27;,\n",
              "                                                  SimpleImputer(strategy=&#x27;most_frequent&#x27;)),\n",
              "                                                 (&#x27;ordinalencoder&#x27;,\n",
              "                                                  OrdinalEncoder(categories=[[&#x27;Small&#x27;,\n",
              "                                                                              &#x27;Medium&#x27;,\n",
              "                                                                              &#x27;High&#x27;]])),\n",
              "                                                 (&#x27;standardscaler&#x27;,\n",
              "                                                  StandardScaler())]),\n",
              "                                 [&#x27;Outlet_Size&#x27;])])</pre></div></div></div><div class=\"sk-parallel\"><div class=\"sk-parallel-item\"><div class=\"sk-item\"><div class=\"sk-label-container\"><div class=\"sk-label sk-toggleable\"><input class=\"sk-toggleable__control sk-hidden--visually\" id=\"bf1c479c-5cfb-427f-af0b-6c60eb1e71e1\" type=\"checkbox\" ><label for=\"bf1c479c-5cfb-427f-af0b-6c60eb1e71e1\" class=\"sk-toggleable__label sk-toggleable__label-arrow\">pipeline-1</label><div class=\"sk-toggleable__content\"><pre>&lt;sklearn.compose._column_transformer.make_column_selector object at 0x7f0a53368190&gt;</pre></div></div></div><div class=\"sk-serial\"><div class=\"sk-item\"><div class=\"sk-serial\"><div class=\"sk-item\"><div class=\"sk-estimator sk-toggleable\"><input class=\"sk-toggleable__control sk-hidden--visually\" id=\"f8eae159-b9a8-4eef-8324-f77c03fd623f\" type=\"checkbox\" ><label for=\"f8eae159-b9a8-4eef-8324-f77c03fd623f\" class=\"sk-toggleable__label sk-toggleable__label-arrow\">SimpleImputer</label><div class=\"sk-toggleable__content\"><pre>SimpleImputer()</pre></div></div></div><div class=\"sk-item\"><div class=\"sk-estimator sk-toggleable\"><input class=\"sk-toggleable__control sk-hidden--visually\" id=\"82c7f7d2-aecd-445a-a8fd-ba875888275f\" type=\"checkbox\" ><label for=\"82c7f7d2-aecd-445a-a8fd-ba875888275f\" class=\"sk-toggleable__label sk-toggleable__label-arrow\">StandardScaler</label><div class=\"sk-toggleable__content\"><pre>StandardScaler()</pre></div></div></div></div></div></div></div></div><div class=\"sk-parallel-item\"><div class=\"sk-item\"><div class=\"sk-label-container\"><div class=\"sk-label sk-toggleable\"><input class=\"sk-toggleable__control sk-hidden--visually\" id=\"609527c0-ce23-4cbb-bdbe-c2e21caf7f75\" type=\"checkbox\" ><label for=\"609527c0-ce23-4cbb-bdbe-c2e21caf7f75\" class=\"sk-toggleable__label sk-toggleable__label-arrow\">pipeline-2</label><div class=\"sk-toggleable__content\"><pre>[&#x27;Item_Fat_Content&#x27;, &#x27;Item_Type&#x27;, &#x27;Outlet_Location_Type&#x27;, &#x27;Outlet_Type&#x27;]</pre></div></div></div><div class=\"sk-serial\"><div class=\"sk-item\"><div class=\"sk-serial\"><div class=\"sk-item\"><div class=\"sk-estimator sk-toggleable\"><input class=\"sk-toggleable__control sk-hidden--visually\" id=\"a9175512-e5a8-4904-a818-dee3b6aa47af\" type=\"checkbox\" ><label for=\"a9175512-e5a8-4904-a818-dee3b6aa47af\" class=\"sk-toggleable__label sk-toggleable__label-arrow\">SimpleImputer</label><div class=\"sk-toggleable__content\"><pre>SimpleImputer(fill_value=&#x27;Missing&#x27;, strategy=&#x27;constant&#x27;)</pre></div></div></div><div class=\"sk-item\"><div class=\"sk-estimator sk-toggleable\"><input class=\"sk-toggleable__control sk-hidden--visually\" id=\"f5293e38-9059-4b02-a6db-8a5cca67d0e7\" type=\"checkbox\" ><label for=\"f5293e38-9059-4b02-a6db-8a5cca67d0e7\" class=\"sk-toggleable__label sk-toggleable__label-arrow\">OneHotEncoder</label><div class=\"sk-toggleable__content\"><pre>OneHotEncoder(handle_unknown=&#x27;ignore&#x27;, sparse=False)</pre></div></div></div></div></div></div></div></div><div class=\"sk-parallel-item\"><div class=\"sk-item\"><div class=\"sk-label-container\"><div class=\"sk-label sk-toggleable\"><input class=\"sk-toggleable__control sk-hidden--visually\" id=\"7ec5def1-9404-42c1-be8d-947b830236b2\" type=\"checkbox\" ><label for=\"7ec5def1-9404-42c1-be8d-947b830236b2\" class=\"sk-toggleable__label sk-toggleable__label-arrow\">pipeline-3</label><div class=\"sk-toggleable__content\"><pre>[&#x27;Outlet_Size&#x27;]</pre></div></div></div><div class=\"sk-serial\"><div class=\"sk-item\"><div class=\"sk-serial\"><div class=\"sk-item\"><div class=\"sk-estimator sk-toggleable\"><input class=\"sk-toggleable__control sk-hidden--visually\" id=\"88b7817a-7a9d-4a4e-b6d7-52fe77c3ca3c\" type=\"checkbox\" ><label for=\"88b7817a-7a9d-4a4e-b6d7-52fe77c3ca3c\" class=\"sk-toggleable__label sk-toggleable__label-arrow\">SimpleImputer</label><div class=\"sk-toggleable__content\"><pre>SimpleImputer(strategy=&#x27;most_frequent&#x27;)</pre></div></div></div><div class=\"sk-item\"><div class=\"sk-estimator sk-toggleable\"><input class=\"sk-toggleable__control sk-hidden--visually\" id=\"def52903-be2e-4aee-980e-955e846128dd\" type=\"checkbox\" ><label for=\"def52903-be2e-4aee-980e-955e846128dd\" class=\"sk-toggleable__label sk-toggleable__label-arrow\">OrdinalEncoder</label><div class=\"sk-toggleable__content\"><pre>OrdinalEncoder(categories=[[&#x27;Small&#x27;, &#x27;Medium&#x27;, &#x27;High&#x27;]])</pre></div></div></div><div class=\"sk-item\"><div class=\"sk-estimator sk-toggleable\"><input class=\"sk-toggleable__control sk-hidden--visually\" id=\"0129310b-3e84-48df-b2ae-1f7f6bdd7222\" type=\"checkbox\" ><label for=\"0129310b-3e84-48df-b2ae-1f7f6bdd7222\" class=\"sk-toggleable__label sk-toggleable__label-arrow\">StandardScaler</label><div class=\"sk-toggleable__content\"><pre>StandardScaler()</pre></div></div></div></div></div></div></div></div></div></div><div class=\"sk-item\"><div class=\"sk-estimator sk-toggleable\"><input class=\"sk-toggleable__control sk-hidden--visually\" id=\"23f49d24-bbbd-45ba-b5f2-ed742787138e\" type=\"checkbox\" ><label for=\"23f49d24-bbbd-45ba-b5f2-ed742787138e\" class=\"sk-toggleable__label sk-toggleable__label-arrow\">DecisionTreeRegressor</label><div class=\"sk-toggleable__content\"><pre>DecisionTreeRegressor(random_state=42)</pre></div></div></div></div></div></div></div>"
            ]
          },
          "metadata": {},
          "execution_count": 82
        }
      ]
    },
    {
      "cell_type": "markdown",
      "source": [
        "### **Model Analysis**\n",
        "- Let's go ahead and predict the item sale values for the training and test datasets using regression tree modeling."
      ],
      "metadata": {
        "id": "Qc3EBoHafYnJ"
      }
    },
    {
      "cell_type": "code",
      "source": [
        "# Predict the target values for the training and test data for regression tree modeling.\n",
        "dectree_train_preds = dec_tree_pipe.predict(X_train)\n",
        "dectree_test_preds = dec_tree_pipe.predict(X_test)"
      ],
      "metadata": {
        "id": "2t4dy1FOfVIN"
      },
      "execution_count": null,
      "outputs": []
    },
    {
      "cell_type": "code",
      "source": [
        "# Regression tree modeling values.\n",
        "# Get the R^2 (Coefficient of Determination) score on training data.\n",
        "dectree_train_score = dec_tree_pipe.score(X_train, y_train)\n",
        "# Get the R^2 (Coefficient of Determination) score on test data.\n",
        "dectree_test_score = dec_tree_pipe.score(X_test, y_test)\n",
        "# Print out the score information.\n",
        "print(\"R^2 scores for Linear Regression Model:\")\n",
        "print(\"Training:\", dectree_train_score)\n",
        "print(\"Test\", dectree_test_score)"
      ],
      "metadata": {
        "colab": {
          "base_uri": "https://localhost:8080/"
        },
        "id": "UnjxikT7fmP4",
        "outputId": "7a254f20-dfe8-44ec-e6e9-883151556892"
      },
      "execution_count": null,
      "outputs": [
        {
          "output_type": "stream",
          "name": "stdout",
          "text": [
            "R^2 scores for Linear Regression Model:\n",
            "Training: 1.0\n",
            "Test 0.14959345249220102\n"
          ]
        }
      ]
    },
    {
      "cell_type": "markdown",
      "source": [
        "- Looks like the regression tree model was WAY overfit based on the R^2 scores.\n",
        "- Therefore, this model has very strong variance in predictions of item sale values.\n",
        "- What about the RMSE values? Hmm....."
      ],
      "metadata": {
        "id": "2aCAqDBylR4l"
      }
    },
    {
      "cell_type": "code",
      "source": [
        "# Obtain the root mean squared error of the training dataset.\n",
        "dectree_rmse_train = np.sqrt(mean_squared_error(y_train, dectree_train_preds))\n",
        "dectree_rmse_train"
      ],
      "metadata": {
        "colab": {
          "base_uri": "https://localhost:8080/"
        },
        "id": "wEdcmnCahr_V",
        "outputId": "ffc62793-621a-4545-8d6b-65e524a259b3"
      },
      "execution_count": null,
      "outputs": [
        {
          "output_type": "execute_result",
          "data": {
            "text/plain": [
              "4.925864104892086e-15"
            ]
          },
          "metadata": {},
          "execution_count": 85
        }
      ]
    },
    {
      "cell_type": "code",
      "source": [
        "# Obtain the root mean squared error of the test dataset.\n",
        "dectree_rmse_test = np.sqrt(mean_squared_error(y_test, dectree_test_preds))\n",
        "dectree_rmse_test"
      ],
      "metadata": {
        "colab": {
          "base_uri": "https://localhost:8080/"
        },
        "id": "MEx99dFIiFNT",
        "outputId": "6d61b83f-7bc6-4c9b-88c9-54693b32c59e"
      },
      "execution_count": null,
      "outputs": [
        {
          "output_type": "execute_result",
          "data": {
            "text/plain": [
              "1531.7481352938178"
            ]
          },
          "metadata": {},
          "execution_count": 86
        }
      ]
    },
    {
      "cell_type": "markdown",
      "source": [
        "- HUGE difference in the values. While the training dataset has been fit extremely well in terms of regression tree modeling, it does a terrible job in projecting the model onto test data."
      ],
      "metadata": {
        "id": "tmi2xkfhiVFD"
      }
    },
    {
      "cell_type": "markdown",
      "source": [
        "## **Linear Regression vs Regression Tree Modeling: Which Is Better?**"
      ],
      "metadata": {
        "id": "_5d7yLDmiujp"
      }
    },
    {
      "cell_type": "markdown",
      "source": [
        "- Summary of Linear Regression Modeling:\n",
        "  - R^2 values:\n",
        "    - Training dataset: ~ 0.560\n",
        "    - Test dataset: ~ 0.565\n",
        "  - RMSE values:\n",
        "    - Training dataset: ~ 1140.231\n",
        "    - Test dataset: ~ 1094.613\n",
        "\n",
        "- Summary of Regression Tree Modeling:\n",
        "  - R^2 values:\n",
        "    - Training dataset: 1.0\n",
        "    - Test dataset: ~ 0.149\n",
        "  - RMSE values:\n",
        "    - Training dataset: ~ 4.925e-15\n",
        "    - Test dataset: ~ 1531.748"
      ],
      "metadata": {
        "id": "DhxyxgJFi2VV"
      }
    },
    {
      "cell_type": "markdown",
      "source": [
        "- In summary, based on the R^2 values and RMSE values described above, I believe that the linear regression did a much better job at making sales predictions in our dataset than regression tree did.\n",
        "- While the linear regression model was not an excellent fit in modeling, it definitely did a very sufficient job at predicting item sale values on the test data that it receives."
      ],
      "metadata": {
        "id": "kNiN66s2FoOa"
      }
    }
  ]
}